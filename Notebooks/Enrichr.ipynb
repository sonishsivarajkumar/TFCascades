{
 "cells": [
  {
   "cell_type": "code",
   "execution_count": 1,
   "metadata": {},
   "outputs": [],
   "source": [
    "import pandas as pd\n",
    "import numpy as np"
   ]
  },
  {
   "cell_type": "code",
   "execution_count": 2,
   "metadata": {},
   "outputs": [],
   "source": [
    "import seaborn as sns\n",
    "import matplotlib.pyplot as plt\n",
    "\n",
    "# Comment this if the data visualisations doesn't work on your side\n",
    "%matplotlib inline\n",
    "\n",
    "plt.style.use('bmh')"
   ]
  },
  {
   "cell_type": "code",
   "execution_count": 3,
   "metadata": {},
   "outputs": [
    {
     "name": "stderr",
     "output_type": "stream",
     "text": [
      "C:\\Users\\sonish.s\\Anaconda3\\lib\\site-packages\\IPython\\core\\interactiveshell.py:3063: DtypeWarning: Columns (10,11,12,13,14,15,16,17,18,19,20,21,22,23,24,25,26,27,28,29,30,31,32,33,34,35,36,37,38,39,40,41,42,43,44,45,46,47,48,49,50,51,52,53,54,55,56,57,58,59,60,61,62,63) have mixed types.Specify dtype option on import or set low_memory=False.\n",
      "  interactivity=interactivity, compiler=compiler, result=result)\n"
     ]
    }
   ],
   "source": [
    "df = pd.read_csv(\"TFChains_reindexed.csv\")\n"
   ]
  },
  {
   "cell_type": "code",
   "execution_count": 4,
   "metadata": {},
   "outputs": [],
   "source": [
    "# df.describe(include = 'all')"
   ]
  },
  {
   "cell_type": "code",
   "execution_count": 5,
   "metadata": {},
   "outputs": [],
   "source": [
    "# df.info()"
   ]
  },
  {
   "cell_type": "code",
   "execution_count": 6,
   "metadata": {},
   "outputs": [
    {
     "name": "stdout",
     "output_type": "stream",
     "text": [
      "{'shortId': '7554bf47432aece1fc167bbb36c77f8a', 'userListId': 33318114}\n"
     ]
    }
   ],
   "source": [
    "import json\n",
    "import requests\n",
    "\n",
    "\n",
    "ENRICHR_URL = 'http://maayanlab.cloud/Enrichr/addList'\n",
    "genes_str = '\\n'.join([\n",
    "    'PHF14', 'RBM3', 'MSL1', 'PHF21A', 'ARL10', 'INSR', 'JADE2', 'P2RX7',\n",
    "    'LINC00662', 'CCDC101', 'PPM1B', 'KANSL1L', 'CRYZL1', 'ANAPC16', 'TMCC1',\n",
    "    'CDH8', 'RBM11', 'CNPY2', 'HSPA1L', 'CUL2', 'PLBD2', 'LARP7', 'TECPR2', \n",
    "    'ZNF302', 'CUX1', 'MOB2', 'CYTH2', 'SEC22C', 'EIF4E3', 'ROBO2',\n",
    "    'ADAMTS9-AS2', 'CXXC1', 'LINC01314', 'ATF7', 'ATP5F1'\n",
    "])\n",
    "description = 'Example gene list'\n",
    "payload = {\n",
    "    'list': (None, genes_str),\n",
    "    'description': (None, description)\n",
    "}\n",
    "\n",
    "response = requests.post(ENRICHR_URL, files=payload)\n",
    "if not response.ok:\n",
    "    raise Exception('Error analyzing gene list')\n",
    "\n",
    "data = json.loads(response.text)\n",
    "print(data)"
   ]
  },
  {
   "cell_type": "code",
   "execution_count": 7,
   "metadata": {},
   "outputs": [
    {
     "name": "stdout",
     "output_type": "stream",
     "text": [
      "{'genes': ['INSR', 'ARL10', 'HSPA1L', 'CNPY2', 'ATP5F1', 'LARP7', 'MSL1', 'P2RX7', 'PPM1B', 'TMCC1', 'MOB2', 'CRYZL1', 'PHF14', 'PLBD2', 'EIF4E3', 'SEC22C', 'ATF7', 'TECPR2', 'LINC01314', 'CCDC101', 'ANAPC16', 'LINC00662', 'CUL2', 'JADE2', 'CXXC1', 'ADAMTS9-AS2', 'PHF21A', 'ROBO2', 'CDH8', 'RBM3', 'CUX1', 'KANSL1L', 'ZNF302', 'CYTH2', 'RBM11'], 'description': 'Example gene list'}\n"
     ]
    }
   ],
   "source": [
    "import json\n",
    "import requests\n",
    "\n",
    "\n",
    "ENRICHR_URL = 'http://maayanlab.cloud/Enrichr/view?userListId=%s'\n",
    "user_list_id = 33294333\n",
    "response = requests.get(ENRICHR_URL % user_list_id)\n",
    "if not response.ok:\n",
    "    raise Exception('Error getting gene list')\n",
    "    \n",
    "data = json.loads(response.text)\n",
    "print(data)"
   ]
  },
  {
   "cell_type": "code",
   "execution_count": 8,
   "metadata": {},
   "outputs": [
    {
     "name": "stdout",
     "output_type": "stream",
     "text": [
      "35\n"
     ]
    }
   ],
   "source": [
    "print(len(data['genes']))"
   ]
  },
  {
   "cell_type": "code",
   "execution_count": 11,
   "metadata": {},
   "outputs": [
    {
     "name": "stdout",
     "output_type": "stream",
     "text": [
      "{'KEGG_2015': [[1, 'dentatorubropallidoluysian atrophy', 0.025939658708656763, 41.91386554621849, 153.06869330263612, ['INSR'], 0.23664536594667288, 0, 0], [2, 'ubiquitin mediated proteolysis', 0.06608937289376358, 15.423374613003096, 41.901411617706714, ['CUL2'], 0.23664536594667288, 0, 0], [3, 'type ii diabetes mellitus', 0.07099360978400186, 14.292682926829269, 37.8065104803334, ['INSR'], 0.23664536594667288, 0, 0], [4, 'renal cell carcinoma', 0.11402053165072557, 8.605968858131488, 18.686800643339396, ['CUL2'], 0.24663156392022864, 0, 0], [5, 'adherens junction', 0.12331578196011432, 7.905802861685214, 16.546899785939424, ['INSR'], 0.24663156392022864, 0, 0], [6, 'axon guidance', 0.19859256680350648, 4.668235294117647, 7.546202147771418, ['ROBO2'], 0.28370366686215215, 0, 0], [7, 'oxidative phosphorylation', 0.19859256680350648, 4.668235294117647, 7.546202147771418, ['ATP5F1'], 0.28370366686215215, 0, 0], [8, 'calcium signaling pathway', 0.25714901264766904, 3.465861344537815, 4.70698471978231, ['P2RX7'], 0.3214362658095863, 0, 0], [9, 'neuroactive ligand receptor interaction', 0.3425298305903255, 2.4482501861504096, 2.623046750239322, ['P2RX7'], 0.35408435074596933, 0, 0], [10, 'mapk signaling pathway', 0.35408435074596933, 2.3479399857108834, 2.4376785226560895, ['PPM1B'], 0.35408435074596933, 0, 0]]}\n"
     ]
    }
   ],
   "source": [
    "import json\n",
    "import requests\n",
    "\n",
    "\n",
    "ENRICHR_URL = 'http://maayanlab.cloud/Enrichr/enrich'\n",
    "query_string = '?userListId=%s&backgroundType=%s'\n",
    "user_list_id = 33294333\n",
    "gene_set_library = 'KEGG_2015'\n",
    "response = requests.get(\n",
    "    ENRICHR_URL + query_string % (user_list_id, gene_set_library)\n",
    " )\n",
    "if not response.ok:\n",
    "    raise Exception('Error fetching enrichment results')\n",
    "\n",
    "data = json.loads(response.text)\n",
    "print(data)"
   ]
  },
  {
   "cell_type": "code",
   "execution_count": null,
   "metadata": {},
   "outputs": [],
   "source": []
  }
 ],
 "metadata": {
  "kernelspec": {
   "display_name": "Python 3",
   "language": "python",
   "name": "python3"
  },
  "language_info": {
   "codemirror_mode": {
    "name": "ipython",
    "version": 3
   },
   "file_extension": ".py",
   "mimetype": "text/x-python",
   "name": "python",
   "nbconvert_exporter": "python",
   "pygments_lexer": "ipython3",
   "version": "3.7.6"
  }
 },
 "nbformat": 4,
 "nbformat_minor": 4
}
