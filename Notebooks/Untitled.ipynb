{
 "cells": [
  {
   "cell_type": "code",
   "execution_count": 1,
   "metadata": {},
   "outputs": [],
   "source": [
    "import pandas as pd\n",
    "import numpy as np"
   ]
  },
  {
   "cell_type": "code",
   "execution_count": 13,
   "metadata": {},
   "outputs": [],
   "source": [
    "a=[]"
   ]
  },
  {
   "cell_type": "code",
   "execution_count": 17,
   "metadata": {},
   "outputs": [
    {
     "name": "stdout",
     "output_type": "stream",
     "text": [
      "L1\n",
      "L2\n",
      "L3\n",
      "L4\n",
      "L5\n",
      "L6\n",
      "L7\n",
      "L8\n",
      "L9\n",
      "L10\n",
      "L11\n",
      "L12\n",
      "L13\n",
      "L14\n",
      "L15\n",
      "L16\n",
      "L17\n",
      "L18\n",
      "L19\n",
      "L20\n",
      "L21\n",
      "L22\n",
      "L23\n",
      "L24\n",
      "L25\n",
      "L26\n",
      "L27\n",
      "L28\n",
      "L29\n",
      "L30\n",
      "L31\n",
      "L32\n",
      "L33\n",
      "L34\n",
      "L35\n",
      "L36\n",
      "L37\n",
      "L38\n",
      "L39\n",
      "L40\n",
      "L41\n",
      "L42\n",
      "L43\n",
      "L44\n",
      "L45\n",
      "L46\n",
      "L47\n",
      "L48\n",
      "L49\n",
      "L50\n",
      "L51\n",
      "L52\n",
      "L53\n",
      "L54\n",
      "L55\n",
      "L56\n",
      "L57\n",
      "L58\n",
      "L59\n",
      "L60\n",
      "L61\n"
     ]
    }
   ],
   "source": [
    "line_list=[]\n",
    "for i in range(1,62):\n",
    "    var=\"L{}\".format(i)\n",
    "#     print(var)\n",
    "#     print(\"L{}\".format(i))\n",
    "    line_list.append(var)"
   ]
  },
  {
   "cell_type": "code",
   "execution_count": 16,
   "metadata": {},
   "outputs": [
    {
     "data": {
      "text/plain": [
       "'L1'"
      ]
     },
     "execution_count": 16,
     "metadata": {},
     "output_type": "execute_result"
    }
   ],
   "source": [
    "a[0]"
   ]
  },
  {
   "cell_type": "code",
   "execution_count": null,
   "metadata": {},
   "outputs": [],
   "source": []
  }
 ],
 "metadata": {
  "kernelspec": {
   "display_name": "Python 3",
   "language": "python",
   "name": "python3"
  },
  "language_info": {
   "codemirror_mode": {
    "name": "ipython",
    "version": 3
   },
   "file_extension": ".py",
   "mimetype": "text/x-python",
   "name": "python",
   "nbconvert_exporter": "python",
   "pygments_lexer": "ipython3",
   "version": "3.7.6"
  }
 },
 "nbformat": 4,
 "nbformat_minor": 4
}
