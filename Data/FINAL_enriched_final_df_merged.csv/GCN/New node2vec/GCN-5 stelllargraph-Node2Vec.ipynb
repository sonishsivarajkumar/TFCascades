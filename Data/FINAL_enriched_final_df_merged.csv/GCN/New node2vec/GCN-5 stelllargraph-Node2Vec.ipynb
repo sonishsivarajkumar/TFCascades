{
 "cells": [
  {
   "cell_type": "code",
   "execution_count": 1,
   "id": "024ec06b",
   "metadata": {},
   "outputs": [],
   "source": [
    "!pip install -q stellargraph[demos]==1.2.1"
   ]
  },
  {
   "cell_type": "code",
   "execution_count": 2,
   "id": "5a0af970",
   "metadata": {},
   "outputs": [],
   "source": [
    "!pip install -q openpyxl"
   ]
  },
  {
   "cell_type": "code",
   "execution_count": 3,
   "id": "cba32c59",
   "metadata": {},
   "outputs": [],
   "source": [
    "# !pip install tensorflow-gpu"
   ]
  },
  {
   "cell_type": "code",
   "execution_count": null,
   "id": "f51cb77c",
   "metadata": {},
   "outputs": [],
   "source": [
    "# verify that we're using the correct version of StellarGraph for this notebook\n",
    "import stellargraph as sg\n",
    "\n",
    "try:\n",
    "    sg.utils.validate_notebook_version(\"1.2.1\")\n",
    "except AttributeError:\n",
    "    raise ValueError(\n",
    "        f\"This notebook requires StellarGraph version 1.2.1, but a different version {sg.__version__} is installed.  Please see <https://github.com/stellargraph/stellargraph/issues/1172>.\"\n",
    "    ) from None"
   ]
  },
  {
   "cell_type": "code",
   "execution_count": 1,
   "id": "52d66555",
   "metadata": {},
   "outputs": [
    {
     "name": "stdout",
     "output_type": "stream",
     "text": [
      "assignment-1-part-III-for-students-2.ipynb     GCN.ipynb\n",
      "dummy.xlsx\t\t\t\t       node2vec.ipynb\n",
      "file_for_network.csv\t\t\t       node2vec_link_prediction.ipynb\n",
      "foo3.pdf\t\t\t\t       pathway-tf-final.xlsx\n",
      "foo3.png\t\t\t\t       pathway-tf.xlsx\n",
      "foo.pdf\t\t\t\t\t       tf_cascadid_colour_label_2.png\n",
      "foo.png\t\t\t\t\t       tf_cascadid_colour_label_3.png\n",
      "GCN-2.ipynb\t\t\t\t       tf_cascadid_colour_label.png\n",
      "GCN-3 networkx for tf-pathway.ipynb\t       tfc_graph_analysis.csv\n",
      "GCN-4 stelllargraph.ipynb\t\t       tfc_graph_colour.png\n",
      "GCN-5 stelllargraph-Node2Vec.ipynb\t       tfs.edges\n",
      "gcn-for-amlsim-dataset-x009th-iteration.ipynb  tmp\n"
     ]
    }
   ],
   "source": [
    "!ls"
   ]
  },
  {
   "cell_type": "code",
   "execution_count": 2,
   "id": "2b96c7ce",
   "metadata": {},
   "outputs": [
    {
     "name": "stderr",
     "output_type": "stream",
     "text": [
      "2022-03-14 10:14:14.238937: W tensorflow/stream_executor/platform/default/dso_loader.cc:64] Could not load dynamic library 'libcudnn.so.8'; dlerror: libcudnn.so.8: cannot open shared object file: No such file or directory; LD_LIBRARY_PATH: /ihome/crc/install/cuda-11.1.1/pytorch/1.8.1_gpu/python3.8/lib:/usr/lib64:/ihome/crc/install/cuda/11.1.1/lib64/stubs:/ihome/crc/install/cuda/11.1.1/lib64\n",
      "2022-03-14 10:14:14.238981: W tensorflow/core/common_runtime/gpu/gpu_device.cc:1850] Cannot dlopen some GPU libraries. Please make sure the missing libraries mentioned above are installed properly if you would like to use GPU. Follow the guide at https://www.tensorflow.org/install/gpu for how to download and setup the required libraries for your platform.\n",
      "Skipping registering GPU devices...\n",
      "2022-03-14 10:14:14.240117: I tensorflow/core/platform/cpu_feature_guard.cc:151] This TensorFlow binary is optimized with oneAPI Deep Neural Network Library (oneDNN) to use the following CPU instructions in performance-critical operations:  AVX2 FMA\n",
      "To enable them in other operations, rebuild TensorFlow with the appropriate compiler flags.\n"
     ]
    }
   ],
   "source": [
    "from stellargraph import StellarGraph\n",
    "import json\n",
    "import pandas as pd\n",
    "import numpy as np\n",
    "from sklearn import preprocessing, feature_extraction, model_selection\n",
    "from sklearn.metrics import mean_absolute_error, mean_squared_error\n",
    "\n",
    "import stellargraph as sg\n",
    "from stellargraph.mapper import HinSAGELinkGenerator\n",
    "from stellargraph.layer import HinSAGE, link_regression\n",
    "from tensorflow.keras import Model, optimizers, losses, metrics\n",
    "\n",
    "import multiprocessing\n",
    "from stellargraph import datasets\n",
    "from IPython.display import display, HTML\n",
    "import matplotlib.pyplot as plt\n",
    "%matplotlib inline"
   ]
  },
  {
   "cell_type": "code",
   "execution_count": 3,
   "id": "4fe63537",
   "metadata": {},
   "outputs": [],
   "source": [
    "import pandas as pd"
   ]
  },
  {
   "cell_type": "code",
   "execution_count": 4,
   "id": "3b67ff6c",
   "metadata": {},
   "outputs": [],
   "source": [
    "xl = pd.ExcelFile(\"pathway-tf-final.xlsx\")\n",
    "df = xl.parse(\"Sheet1\", header=None)\n",
    "# df.columns=[\"pathway\",\"tfs\"]\n",
    "# df=df.head()\n",
    "df1=df"
   ]
  },
  {
   "cell_type": "code",
   "execution_count": 5,
   "id": "f223c206",
   "metadata": {},
   "outputs": [],
   "source": [
    "df=df1"
   ]
  },
  {
   "cell_type": "code",
   "execution_count": 6,
   "id": "ba535d33",
   "metadata": {},
   "outputs": [
    {
     "name": "stderr",
     "output_type": "stream",
     "text": [
      "/scratch/slurm-267709/ipykernel_24135/1201075705.py:5: SettingWithCopyWarning: \n",
      "A value is trying to be set on a copy of a slice from a DataFrame.\n",
      "Try using .loc[row_indexer,col_indexer] = value instead\n",
      "\n",
      "See the caveats in the documentation: https://pandas.pydata.org/pandas-docs/stable/user_guide/indexing.html#returning-a-view-versus-a-copy\n",
      "  df[\"weight\"] = pd.to_numeric(df[\"weight\"])\n"
     ]
    },
    {
     "data": {
      "text/html": [
       "<div>\n",
       "<style scoped>\n",
       "    .dataframe tbody tr th:only-of-type {\n",
       "        vertical-align: middle;\n",
       "    }\n",
       "\n",
       "    .dataframe tbody tr th {\n",
       "        vertical-align: top;\n",
       "    }\n",
       "\n",
       "    .dataframe thead th {\n",
       "        text-align: right;\n",
       "    }\n",
       "</style>\n",
       "<table border=\"1\" class=\"dataframe\">\n",
       "  <thead>\n",
       "    <tr style=\"text-align: right;\">\n",
       "      <th></th>\n",
       "      <th>tfs</th>\n",
       "      <th>pathway</th>\n",
       "      <th>weight</th>\n",
       "    </tr>\n",
       "  </thead>\n",
       "  <tbody>\n",
       "    <tr>\n",
       "      <th>1</th>\n",
       "      <td>['STAT3', 'PRDM1']</td>\n",
       "      <td>acute myeloid leukemia</td>\n",
       "      <td>0.009716</td>\n",
       "    </tr>\n",
       "    <tr>\n",
       "      <th>2</th>\n",
       "      <td>['STAT3', 'PRDM1']</td>\n",
       "      <td>adipocytokine signaling pathway</td>\n",
       "      <td>0.009716</td>\n",
       "    </tr>\n",
       "    <tr>\n",
       "      <th>3</th>\n",
       "      <td>['STAT3', 'PRDM1']</td>\n",
       "      <td>pancreatic cancer</td>\n",
       "      <td>0.009716</td>\n",
       "    </tr>\n",
       "    <tr>\n",
       "      <th>4</th>\n",
       "      <td>['STAT3', 'PRDM1']</td>\n",
       "      <td>jak stat signaling pathway</td>\n",
       "      <td>0.014745</td>\n",
       "    </tr>\n",
       "    <tr>\n",
       "      <th>5</th>\n",
       "      <td>['STAT3', 'KLF5']</td>\n",
       "      <td>acute myeloid leukemia</td>\n",
       "      <td>0.009716</td>\n",
       "    </tr>\n",
       "    <tr>\n",
       "      <th>...</th>\n",
       "      <td>...</td>\n",
       "      <td>...</td>\n",
       "      <td>...</td>\n",
       "    </tr>\n",
       "    <tr>\n",
       "      <th>1048571</th>\n",
       "      <td>['LEF1', 'MYC', 'SNAI1', 'NANOG', 'POU5F1', 'S...</td>\n",
       "      <td>cell cycle</td>\n",
       "      <td>0.235056</td>\n",
       "    </tr>\n",
       "    <tr>\n",
       "      <th>1048572</th>\n",
       "      <td>['LEF1', 'MYC', 'SNAI1', 'NANOG', 'POU5F1', 'S...</td>\n",
       "      <td>focal adhesion</td>\n",
       "      <td>0.381879</td>\n",
       "    </tr>\n",
       "    <tr>\n",
       "      <th>1048573</th>\n",
       "      <td>['LEF1', 'MYC', 'SNAI1', 'NANOG', 'POU5F1', 'S...</td>\n",
       "      <td>neuroactive ligand receptor interaction</td>\n",
       "      <td>0.437467</td>\n",
       "    </tr>\n",
       "    <tr>\n",
       "      <th>1048574</th>\n",
       "      <td>['SMAD4', 'TBX18', 'SNAI2', 'STAT1', 'TBX21', ...</td>\n",
       "      <td>prostate cancer</td>\n",
       "      <td>0.000002</td>\n",
       "    </tr>\n",
       "    <tr>\n",
       "      <th>1048575</th>\n",
       "      <td>['SMAD4', 'TBX18', 'SNAI2', 'STAT1', 'TBX21', ...</td>\n",
       "      <td>pancreatic cancer</td>\n",
       "      <td>0.000010</td>\n",
       "    </tr>\n",
       "  </tbody>\n",
       "</table>\n",
       "<p>1048575 rows × 3 columns</p>\n",
       "</div>"
      ],
      "text/plain": [
       "                                                       tfs  \\\n",
       "1                                       ['STAT3', 'PRDM1']   \n",
       "2                                       ['STAT3', 'PRDM1']   \n",
       "3                                       ['STAT3', 'PRDM1']   \n",
       "4                                       ['STAT3', 'PRDM1']   \n",
       "5                                        ['STAT3', 'KLF5']   \n",
       "...                                                    ...   \n",
       "1048571  ['LEF1', 'MYC', 'SNAI1', 'NANOG', 'POU5F1', 'S...   \n",
       "1048572  ['LEF1', 'MYC', 'SNAI1', 'NANOG', 'POU5F1', 'S...   \n",
       "1048573  ['LEF1', 'MYC', 'SNAI1', 'NANOG', 'POU5F1', 'S...   \n",
       "1048574  ['SMAD4', 'TBX18', 'SNAI2', 'STAT1', 'TBX21', ...   \n",
       "1048575  ['SMAD4', 'TBX18', 'SNAI2', 'STAT1', 'TBX21', ...   \n",
       "\n",
       "                                         pathway    weight  \n",
       "1                         acute myeloid leukemia  0.009716  \n",
       "2                adipocytokine signaling pathway  0.009716  \n",
       "3                              pancreatic cancer  0.009716  \n",
       "4                     jak stat signaling pathway  0.014745  \n",
       "5                         acute myeloid leukemia  0.009716  \n",
       "...                                          ...       ...  \n",
       "1048571                               cell cycle  0.235056  \n",
       "1048572                           focal adhesion  0.381879  \n",
       "1048573  neuroactive ligand receptor interaction  0.437467  \n",
       "1048574                          prostate cancer  0.000002  \n",
       "1048575                        pancreatic cancer  0.000010  \n",
       "\n",
       "[1048575 rows x 3 columns]"
      ]
     },
     "execution_count": 6,
     "metadata": {},
     "output_type": "execute_result"
    }
   ],
   "source": [
    "df.columns = df.iloc[0]\n",
    "df = df[1:]\n",
    "df.columns=[\"pathway\", \"weight\", \"tfs\"]\n",
    "cols=['tfs','pathway', 'weight']\n",
    "df[\"weight\"] = pd.to_numeric(df[\"weight\"])\n",
    "df = df[cols]\n",
    "df"
   ]
  },
  {
   "cell_type": "code",
   "execution_count": 7,
   "id": "6b4a6d23",
   "metadata": {},
   "outputs": [
    {
     "data": {
      "text/html": [
       "<div>\n",
       "<style scoped>\n",
       "    .dataframe tbody tr th:only-of-type {\n",
       "        vertical-align: middle;\n",
       "    }\n",
       "\n",
       "    .dataframe tbody tr th {\n",
       "        vertical-align: top;\n",
       "    }\n",
       "\n",
       "    .dataframe thead th {\n",
       "        text-align: right;\n",
       "    }\n",
       "</style>\n",
       "<table border=\"1\" class=\"dataframe\">\n",
       "  <thead>\n",
       "    <tr style=\"text-align: right;\">\n",
       "      <th></th>\n",
       "      <th>tfs</th>\n",
       "      <th>pathway</th>\n",
       "      <th>weight</th>\n",
       "    </tr>\n",
       "  </thead>\n",
       "  <tbody>\n",
       "    <tr>\n",
       "      <th>1</th>\n",
       "      <td>['STAT3', 'PRDM1']</td>\n",
       "      <td>acute myeloid leukemia</td>\n",
       "      <td>0.009716</td>\n",
       "    </tr>\n",
       "    <tr>\n",
       "      <th>2</th>\n",
       "      <td>['STAT3', 'PRDM1']</td>\n",
       "      <td>adipocytokine signaling pathway</td>\n",
       "      <td>0.009716</td>\n",
       "    </tr>\n",
       "    <tr>\n",
       "      <th>3</th>\n",
       "      <td>['STAT3', 'PRDM1']</td>\n",
       "      <td>pancreatic cancer</td>\n",
       "      <td>0.009716</td>\n",
       "    </tr>\n",
       "    <tr>\n",
       "      <th>4</th>\n",
       "      <td>['STAT3', 'PRDM1']</td>\n",
       "      <td>jak stat signaling pathway</td>\n",
       "      <td>0.014745</td>\n",
       "    </tr>\n",
       "    <tr>\n",
       "      <th>5</th>\n",
       "      <td>['STAT3', 'KLF5']</td>\n",
       "      <td>acute myeloid leukemia</td>\n",
       "      <td>0.009716</td>\n",
       "    </tr>\n",
       "  </tbody>\n",
       "</table>\n",
       "</div>"
      ],
      "text/plain": [
       "                  tfs                          pathway    weight\n",
       "1  ['STAT3', 'PRDM1']           acute myeloid leukemia  0.009716\n",
       "2  ['STAT3', 'PRDM1']  adipocytokine signaling pathway  0.009716\n",
       "3  ['STAT3', 'PRDM1']                pancreatic cancer  0.009716\n",
       "4  ['STAT3', 'PRDM1']       jak stat signaling pathway  0.014745\n",
       "5   ['STAT3', 'KLF5']           acute myeloid leukemia  0.009716"
      ]
     },
     "execution_count": 7,
     "metadata": {},
     "output_type": "execute_result"
    }
   ],
   "source": [
    "df.head()"
   ]
  },
  {
   "cell_type": "code",
   "execution_count": 8,
   "id": "41fa4949",
   "metadata": {},
   "outputs": [
    {
     "name": "stdout",
     "output_type": "stream",
     "text": [
      "<class 'pandas.core.frame.DataFrame'>\n",
      "RangeIndex: 1048575 entries, 1 to 1048575\n",
      "Data columns (total 3 columns):\n",
      " #   Column   Non-Null Count    Dtype  \n",
      "---  ------   --------------    -----  \n",
      " 0   tfs      1048575 non-null  object \n",
      " 1   pathway  1048575 non-null  object \n",
      " 2   weight   1048575 non-null  float64\n",
      "dtypes: float64(1), object(2)\n",
      "memory usage: 24.0+ MB\n"
     ]
    }
   ],
   "source": [
    "df.info()"
   ]
  },
  {
   "cell_type": "code",
   "execution_count": 9,
   "id": "8f00fba1",
   "metadata": {},
   "outputs": [
    {
     "data": {
      "text/plain": [
       "10000"
      ]
     },
     "execution_count": 9,
     "metadata": {},
     "output_type": "execute_result"
    }
   ],
   "source": [
    "list_1=df[\"tfs\"].value_counts()\n",
    "list_1.__len__()"
   ]
  },
  {
   "cell_type": "code",
   "execution_count": 10,
   "id": "b43e77be",
   "metadata": {},
   "outputs": [],
   "source": [
    "df=df.drop_duplicates(subset=['tfs','pathway'],keep='first', inplace=False)"
   ]
  },
  {
   "cell_type": "code",
   "execution_count": 11,
   "id": "3e8d5707",
   "metadata": {},
   "outputs": [
    {
     "name": "stdout",
     "output_type": "stream",
     "text": [
      "<class 'pandas.core.frame.DataFrame'>\n",
      "Int64Index: 352577 entries, 1 to 1048559\n",
      "Data columns (total 3 columns):\n",
      " #   Column   Non-Null Count   Dtype  \n",
      "---  ------   --------------   -----  \n",
      " 0   tfs      352577 non-null  object \n",
      " 1   pathway  352577 non-null  object \n",
      " 2   weight   352577 non-null  float64\n",
      "dtypes: float64(1), object(2)\n",
      "memory usage: 10.8+ MB\n"
     ]
    }
   ],
   "source": [
    "df.info()"
   ]
  },
  {
   "cell_type": "code",
   "execution_count": null,
   "id": "4f27f6ec",
   "metadata": {},
   "outputs": [],
   "source": []
  },
  {
   "cell_type": "code",
   "execution_count": 12,
   "id": "a09fc022",
   "metadata": {},
   "outputs": [
    {
     "name": "stdout",
     "output_type": "stream",
     "text": [
      "<class 'pandas.core.frame.DataFrame'>\n",
      "Int64Index: 352577 entries, 1 to 1048559\n",
      "Data columns (total 3 columns):\n",
      " #   Column   Non-Null Count   Dtype  \n",
      "---  ------   --------------   -----  \n",
      " 0   tfs      352577 non-null  object \n",
      " 1   pathway  352577 non-null  object \n",
      " 2   weight   352577 non-null  float64\n",
      "dtypes: float64(1), object(2)\n",
      "memory usage: 10.8+ MB\n"
     ]
    }
   ],
   "source": [
    "df.info()"
   ]
  },
  {
   "cell_type": "code",
   "execution_count": 13,
   "id": "407efdf1",
   "metadata": {},
   "outputs": [
    {
     "data": {
      "text/plain": [
       "(352577, 3)"
      ]
     },
     "execution_count": 13,
     "metadata": {},
     "output_type": "execute_result"
    }
   ],
   "source": [
    "df=df.drop_duplicates( keep=False)\n",
    "df.shape"
   ]
  },
  {
   "cell_type": "code",
   "execution_count": 14,
   "id": "bcc7517c",
   "metadata": {},
   "outputs": [
    {
     "data": {
      "text/plain": [
       "49"
      ]
     },
     "execution_count": 14,
     "metadata": {},
     "output_type": "execute_result"
    }
   ],
   "source": [
    "list_1=df[\"pathway\"].value_counts()\n",
    "list_1.__len__()"
   ]
  },
  {
   "cell_type": "code",
   "execution_count": 15,
   "id": "2c59a6bf",
   "metadata": {},
   "outputs": [],
   "source": [
    "df.columns=['source', 'target', 'weight']"
   ]
  },
  {
   "cell_type": "markdown",
   "id": "4b7514b1",
   "metadata": {},
   "source": [
    "## Stellargraph"
   ]
  },
  {
   "cell_type": "code",
   "execution_count": 16,
   "id": "82243369",
   "metadata": {},
   "outputs": [
    {
     "data": {
      "text/html": [
       "<div>\n",
       "<style scoped>\n",
       "    .dataframe tbody tr th:only-of-type {\n",
       "        vertical-align: middle;\n",
       "    }\n",
       "\n",
       "    .dataframe tbody tr th {\n",
       "        vertical-align: top;\n",
       "    }\n",
       "\n",
       "    .dataframe thead th {\n",
       "        text-align: right;\n",
       "    }\n",
       "</style>\n",
       "<table border=\"1\" class=\"dataframe\">\n",
       "  <thead>\n",
       "    <tr style=\"text-align: right;\">\n",
       "      <th></th>\n",
       "      <th>source</th>\n",
       "      <th>target</th>\n",
       "      <th>weight</th>\n",
       "    </tr>\n",
       "  </thead>\n",
       "  <tbody>\n",
       "    <tr>\n",
       "      <th>1</th>\n",
       "      <td>['STAT3', 'PRDM1']</td>\n",
       "      <td>acute myeloid leukemia</td>\n",
       "      <td>0.009716</td>\n",
       "    </tr>\n",
       "    <tr>\n",
       "      <th>2</th>\n",
       "      <td>['STAT3', 'PRDM1']</td>\n",
       "      <td>adipocytokine signaling pathway</td>\n",
       "      <td>0.009716</td>\n",
       "    </tr>\n",
       "    <tr>\n",
       "      <th>3</th>\n",
       "      <td>['STAT3', 'PRDM1']</td>\n",
       "      <td>pancreatic cancer</td>\n",
       "      <td>0.009716</td>\n",
       "    </tr>\n",
       "    <tr>\n",
       "      <th>4</th>\n",
       "      <td>['STAT3', 'PRDM1']</td>\n",
       "      <td>jak stat signaling pathway</td>\n",
       "      <td>0.014745</td>\n",
       "    </tr>\n",
       "    <tr>\n",
       "      <th>5</th>\n",
       "      <td>['STAT3', 'KLF5']</td>\n",
       "      <td>acute myeloid leukemia</td>\n",
       "      <td>0.009716</td>\n",
       "    </tr>\n",
       "    <tr>\n",
       "      <th>...</th>\n",
       "      <td>...</td>\n",
       "      <td>...</td>\n",
       "      <td>...</td>\n",
       "    </tr>\n",
       "    <tr>\n",
       "      <th>1048494</th>\n",
       "      <td>['HMGA2', 'SOX2', 'NANOG', 'POU5F1', 'SALL4', ...</td>\n",
       "      <td>notch signaling pathway</td>\n",
       "      <td>0.137568</td>\n",
       "    </tr>\n",
       "    <tr>\n",
       "      <th>1048553</th>\n",
       "      <td>['LEF1', 'MYC', 'SNAI1', 'NANOG', 'POU5F1', 'S...</td>\n",
       "      <td>vegf signaling pathway</td>\n",
       "      <td>0.027106</td>\n",
       "    </tr>\n",
       "    <tr>\n",
       "      <th>1048557</th>\n",
       "      <td>['LEF1', 'MYC', 'SNAI1', 'NANOG', 'POU5F1', 'S...</td>\n",
       "      <td>circadian rhythm</td>\n",
       "      <td>0.048064</td>\n",
       "    </tr>\n",
       "    <tr>\n",
       "      <th>1048558</th>\n",
       "      <td>['LEF1', 'MYC', 'SNAI1', 'NANOG', 'POU5F1', 'S...</td>\n",
       "      <td>axon guidance</td>\n",
       "      <td>0.063702</td>\n",
       "    </tr>\n",
       "    <tr>\n",
       "      <th>1048559</th>\n",
       "      <td>['LEF1', 'MYC', 'SNAI1', 'NANOG', 'POU5F1', 'S...</td>\n",
       "      <td>natural killer cell mediated cytotoxicity</td>\n",
       "      <td>0.063702</td>\n",
       "    </tr>\n",
       "  </tbody>\n",
       "</table>\n",
       "<p>352577 rows × 3 columns</p>\n",
       "</div>"
      ],
      "text/plain": [
       "                                                    source  \\\n",
       "1                                       ['STAT3', 'PRDM1']   \n",
       "2                                       ['STAT3', 'PRDM1']   \n",
       "3                                       ['STAT3', 'PRDM1']   \n",
       "4                                       ['STAT3', 'PRDM1']   \n",
       "5                                        ['STAT3', 'KLF5']   \n",
       "...                                                    ...   \n",
       "1048494  ['HMGA2', 'SOX2', 'NANOG', 'POU5F1', 'SALL4', ...   \n",
       "1048553  ['LEF1', 'MYC', 'SNAI1', 'NANOG', 'POU5F1', 'S...   \n",
       "1048557  ['LEF1', 'MYC', 'SNAI1', 'NANOG', 'POU5F1', 'S...   \n",
       "1048558  ['LEF1', 'MYC', 'SNAI1', 'NANOG', 'POU5F1', 'S...   \n",
       "1048559  ['LEF1', 'MYC', 'SNAI1', 'NANOG', 'POU5F1', 'S...   \n",
       "\n",
       "                                            target    weight  \n",
       "1                           acute myeloid leukemia  0.009716  \n",
       "2                  adipocytokine signaling pathway  0.009716  \n",
       "3                                pancreatic cancer  0.009716  \n",
       "4                       jak stat signaling pathway  0.014745  \n",
       "5                           acute myeloid leukemia  0.009716  \n",
       "...                                            ...       ...  \n",
       "1048494                    notch signaling pathway  0.137568  \n",
       "1048553                     vegf signaling pathway  0.027106  \n",
       "1048557                           circadian rhythm  0.048064  \n",
       "1048558                              axon guidance  0.063702  \n",
       "1048559  natural killer cell mediated cytotoxicity  0.063702  \n",
       "\n",
       "[352577 rows x 3 columns]"
      ]
     },
     "execution_count": 16,
     "metadata": {},
     "output_type": "execute_result"
    }
   ],
   "source": [
    "# cols=['source', 'target']\n",
    "cols=df.columns\n",
    "square_edges = df[cols]\n",
    "square_edges"
   ]
  },
  {
   "cell_type": "code",
   "execution_count": 17,
   "id": "b8d5db5d",
   "metadata": {},
   "outputs": [
    {
     "name": "stdout",
     "output_type": "stream",
     "text": [
      "StellarGraph: Undirected multigraph\n",
      " Nodes: 10049, Edges: 352577\n",
      "\n",
      " Node types:\n",
      "  default: [10049]\n",
      "    Features: none\n",
      "    Edge types: default-default->default\n",
      "\n",
      " Edge types:\n",
      "    default-default->default: [352577]\n",
      "        Weights: range=[1.13e-19, 0.437467], mean=0.0922638, std=0.0879348\n",
      "        Features: none\n"
     ]
    }
   ],
   "source": [
    "square = StellarGraph(edges=square_edges)\n",
    "print(square.info())"
   ]
  },
  {
   "cell_type": "code",
   "execution_count": 18,
   "id": "dea0e8af",
   "metadata": {},
   "outputs": [
    {
     "name": "stdout",
     "output_type": "stream",
     "text": [
      "StellarGraph: Undirected multigraph\n",
      " Nodes: 10049, Edges: 352577\n",
      "\n",
      " Node types:\n",
      "  default: [10049]\n",
      "    Features: none\n",
      "    Edge types: default-default->default\n",
      "\n",
      " Edge types:\n",
      "    default-default->default: [352577]\n",
      "        Weights: range=[1.13e-19, 0.437467], mean=0.0922638, std=0.0879348\n",
      "        Features: none\n"
     ]
    }
   ],
   "source": [
    "square_named = StellarGraph(\n",
    "    edges=square_edges, #node_type_default=\"tfs\", edge_type_default=\"pathway\"\n",
    ")\n",
    "print(square_named.info())"
   ]
  },
  {
   "cell_type": "code",
   "execution_count": 19,
   "id": "e23252b0",
   "metadata": {},
   "outputs": [],
   "source": [
    "# square_named"
   ]
  },
  {
   "cell_type": "code",
   "execution_count": 20,
   "id": "eba21bbc",
   "metadata": {},
   "outputs": [],
   "source": [
    "# square_edges_first_second = square_edges.rename(\n",
    "#     columns={\"source\": \"tfs\", \"target\": \"pathway\"}\n",
    "# )\n",
    "# square_edges_first_second"
   ]
  },
  {
   "cell_type": "code",
   "execution_count": 21,
   "id": "720585e7",
   "metadata": {},
   "outputs": [],
   "source": [
    "# square_first_second = StellarGraph(\n",
    "#     edges=square_edges_first_second, source_column=\"tfs\", target_column=\"pathway\",node_type_default=\"tfs\", edge_type_default=\"pathway\"\n",
    "# )\n",
    "# print(square_first_second.info())"
   ]
  },
  {
   "cell_type": "code",
   "execution_count": 22,
   "id": "4c496022",
   "metadata": {},
   "outputs": [],
   "source": [
    "\n",
    "import stellargraph as sg\n",
    "from stellargraph.data import EdgeSplitter\n",
    "from stellargraph.mapper import GraphSAGELinkGenerator\n",
    "from stellargraph.layer import GraphSAGE, HinSAGE, link_classification\n",
    "\n",
    "from tensorflow import keras\n",
    "from sklearn import preprocessing, feature_extraction, model_selection\n",
    "\n",
    "from stellargraph import globalvar\n",
    "from stellargraph import datasets\n",
    "from IPython.display import display, HTML\n",
    "%matplotlib inline"
   ]
  },
  {
   "cell_type": "code",
   "execution_count": 23,
   "id": "2afef4f7",
   "metadata": {},
   "outputs": [
    {
     "name": "stdout",
     "output_type": "stream",
     "text": [
      "StellarGraph: Undirected multigraph\n",
      " Nodes: 10049, Edges: 352577\n",
      "\n",
      " Node types:\n",
      "  default: [10049]\n",
      "    Features: none\n",
      "    Edge types: default-default->default\n",
      "\n",
      " Edge types:\n",
      "    default-default->default: [352577]\n",
      "        Weights: range=[1.13e-19, 0.437467], mean=0.0922638, std=0.0879348\n",
      "        Features: none\n"
     ]
    }
   ],
   "source": [
    "G=square\n",
    "print(G.info())"
   ]
  },
  {
   "cell_type": "code",
   "execution_count": 24,
   "id": "9857d22f",
   "metadata": {},
   "outputs": [
    {
     "name": "stdout",
     "output_type": "stream",
     "text": [
      "** Sampled 35257 positive and 35257 negative edges. **\n"
     ]
    }
   ],
   "source": [
    "# Define an edge splitter on the original graph G:\n",
    "edge_splitter_test = EdgeSplitter(G)\n",
    "\n",
    "# Randomly sample a fraction p=0.1 of all positive links, and same number of negative links, from G, and obtain the\n",
    "# reduced graph G_test with the sampled links removed:\n",
    "G_test, edge_ids_test, edge_labels_test = edge_splitter_test.train_test_split(\n",
    "    p=0.1, method=\"global\", keep_connected=True\n",
    ")"
   ]
  },
  {
   "cell_type": "code",
   "execution_count": 25,
   "id": "26e7946d",
   "metadata": {},
   "outputs": [
    {
     "name": "stdout",
     "output_type": "stream",
     "text": [
      "** Sampled 31732 positive and 31732 negative edges. **\n"
     ]
    }
   ],
   "source": [
    "# Define an edge splitter on the reduced graph G_test:\n",
    "edge_splitter_train = EdgeSplitter(G_test)\n",
    "\n",
    "# Randomly sample a fraction p=0.1 of all positive links, and same number of negative links, from G_test, and obtain the\n",
    "# reduced graph G_train with the sampled links removed:\n",
    "G_train, edge_ids_train, edge_labels_train = edge_splitter_train.train_test_split(\n",
    "    p=0.1, method=\"global\", keep_connected=True\n",
    ")"
   ]
  },
  {
   "cell_type": "code",
   "execution_count": 26,
   "id": "5bc301bd",
   "metadata": {},
   "outputs": [
    {
     "name": "stdout",
     "output_type": "stream",
     "text": [
      "StellarGraph: Undirected multigraph\n",
      " Nodes: 10049, Edges: 285588\n",
      "\n",
      " Node types:\n",
      "  default: [10049]\n",
      "    Features: none\n",
      "    Edge types: default-default->default\n",
      "\n",
      " Edge types:\n",
      "    default-default->default: [285588]\n",
      "        Weights: range=[1.13e-19, 0.437467], mean=0.0915989, std=0.0880133\n",
      "        Features: none\n"
     ]
    }
   ],
   "source": [
    "print(G_train.info())"
   ]
  },
  {
   "cell_type": "code",
   "execution_count": 27,
   "id": "4b4d5821",
   "metadata": {},
   "outputs": [
    {
     "name": "stdout",
     "output_type": "stream",
     "text": [
      "StellarGraph: Undirected multigraph\n",
      " Nodes: 10049, Edges: 317320\n",
      "\n",
      " Node types:\n",
      "  default: [10049]\n",
      "    Features: none\n",
      "    Edge types: default-default->default\n",
      "\n",
      " Edge types:\n",
      "    default-default->default: [317320]\n",
      "        Weights: range=[1.13e-19, 0.437467], mean=0.0919788, std=0.0880105\n",
      "        Features: none\n"
     ]
    }
   ],
   "source": [
    "print(G_test.info())"
   ]
  },
  {
   "cell_type": "code",
   "execution_count": null,
   "id": "5ad2bdb1",
   "metadata": {},
   "outputs": [],
   "source": []
  },
  {
   "cell_type": "markdown",
   "id": "27e34c59",
   "metadata": {},
   "source": [
    "# NODE2VEC"
   ]
  },
  {
   "cell_type": "code",
   "execution_count": 28,
   "id": "9f052447",
   "metadata": {},
   "outputs": [],
   "source": [
    "from sklearn.manifold import TSNE\n",
    "from sklearn.model_selection import train_test_split\n",
    "from sklearn.linear_model import LogisticRegressionCV\n",
    "from sklearn.metrics import accuracy_score\n",
    "from sklearn.metrics.pairwise import pairwise_distances\n",
    "from sklearn import preprocessing\n",
    "\n",
    "import numpy as np\n",
    "\n",
    "from stellargraph.data import BiasedRandomWalk\n",
    "from stellargraph import StellarGraph\n",
    "\n",
    "from gensim.models import Word2Vec\n",
    "\n",
    "import warnings\n",
    "import collections\n",
    "from stellargraph import datasets\n",
    "from IPython.display import display, HTML\n",
    "import matplotlib.pyplot as plt\n",
    "\n",
    "%matplotlib inline"
   ]
  },
  {
   "cell_type": "code",
   "execution_count": 29,
   "id": "34915930",
   "metadata": {},
   "outputs": [],
   "source": [
    "walk_length = 100  # maximum length of a random walk to use throughout this notebook"
   ]
  },
  {
   "cell_type": "code",
   "execution_count": 30,
   "id": "0de5a2fe",
   "metadata": {},
   "outputs": [
    {
     "name": "stdout",
     "output_type": "stream",
     "text": [
      "StellarGraph: Undirected multigraph\n",
      " Nodes: 10049, Edges: 352577\n",
      "\n",
      " Node types:\n",
      "  tfs: [10049]\n",
      "    Features: none\n",
      "    Edge types: tfs-pathway->tfs\n",
      "\n",
      " Edge types:\n",
      "    tfs-pathway->tfs: [352577]\n",
      "        Weights: range=[1.13e-19, 0.437467], mean=0.0922638, std=0.0879348\n",
      "        Features: none\n"
     ]
    }
   ],
   "source": [
    "G = StellarGraph(\n",
    "    edges=square_edges, node_type_default=\"tfs\", edge_type_default=\"pathway\"\n",
    ")\n",
    "print(G.info())"
   ]
  },
  {
   "cell_type": "code",
   "execution_count": 31,
   "id": "b1b8f134",
   "metadata": {},
   "outputs": [
    {
     "data": {
      "image/png": "[encoded data removed]",
      "text/plain": [
       "<Figure size 720x576 with 1 Axes>"
      ]
     },
     "metadata": {
      "needs_background": "light"
     },
     "output_type": "display_data"
    }
   ],
   "source": [
    "_, weights = G.edges(include_edge_weight=True)\n",
    "\n",
    "wt, cnt = np.unique(weights, return_counts=True)\n",
    "\n",
    "plt.figure(figsize=(10, 8))\n",
    "plt.bar(wt, cnt, width=0.005, color=\"b\")\n",
    "plt.title(\"Edge weights histogram\")\n",
    "plt.ylabel(\"Count\")\n",
    "plt.xlabel(\"edge weights\")\n",
    "plt.xticks(np.linspace(0, 1, 10))\n",
    "\n",
    "plt.show()"
   ]
  },
  {
   "cell_type": "code",
   "execution_count": 32,
   "id": "fc729763",
   "metadata": {},
   "outputs": [],
   "source": [
    "rw = BiasedRandomWalk(G)"
   ]
  },
  {
   "cell_type": "code",
   "execution_count": null,
   "id": "3344a1f5",
   "metadata": {},
   "outputs": [],
   "source": [
    "weighted_walks = rw.run(\n",
    "    nodes=G.nodes(),  # root nodes\n",
    "    length=walk_length,  # maximum length of a random walk\n",
    "    n=10,  # number of random walks per root node\n",
    "    p=0.5,  # Defines (unormalised) probability, 1/p, of returning to source node\n",
    "    q=2.0,  # Defines (unormalised) probability, 1/q, for moving away from source node\n",
    "    weighted=True,  # for weighted random walks\n",
    "    seed=42,  # random seed fixed for reproducibility\n",
    ")\n",
    "print(\"Number of random walks: {}\".format(len(weighted_walks)))"
   ]
  },
  {
   "cell_type": "code",
   "execution_count": null,
   "id": "16acb97b",
   "metadata": {},
   "outputs": [],
   "source": [
    "weighted_model = Word2Vec(\n",
    "    weighted_walks, size=128, window=5, min_count=0, sg=1, workers=1, iter=1\n",
    ")"
   ]
  },
  {
   "cell_type": "code",
   "execution_count": null,
   "id": "3338ba44",
   "metadata": {},
   "outputs": [],
   "source": [
    "# The embedding vectors can be retrieved from model.wv using the node ID as key.\n",
    "# E.g., for node id '19231', the embedding vector is retrieved as\n",
    "emb = weighted_model.wv[\"19231\"]\n",
    "emb.shape"
   ]
  },
  {
   "cell_type": "markdown",
   "id": "8ae3eb25",
   "metadata": {},
   "source": [
    "# Visualise Node Embeddings generated by weighted random walks"
   ]
  },
  {
   "cell_type": "code",
   "execution_count": null,
   "id": "ee2987b6",
   "metadata": {},
   "outputs": [],
   "source": [
    "# Retrieve node embeddings and corresponding subjects\n",
    "node_ids = weighted_model.wv.index2word  # list of node IDs\n",
    "weighted_node_embeddings = (\n",
    "    weighted_model.wv.vectors\n",
    ")  # numpy.ndarray of size number of nodes times embeddings dimensionality\n",
    "# the gensim ordering may not match the StellarGraph one, so rearrange\n",
    "node_targets = subjects.loc[node_ids].astype(\"category\")"
   ]
  },
  {
   "cell_type": "code",
   "execution_count": null,
   "id": "c077b99d",
   "metadata": {},
   "outputs": [],
   "source": [
    "# Apply t-SNE transformation on node embeddings\n",
    "tsne = TSNE(n_components=2, random_state=42)\n",
    "weighted_node_embeddings_2d = tsne.fit_transform(weighted_node_embeddings)"
   ]
  },
  {
   "cell_type": "code",
   "execution_count": null,
   "id": "adf7f064",
   "metadata": {},
   "outputs": [],
   "source": [
    "# draw the points\n",
    "alpha = 0.7\n",
    "\n",
    "plt.figure(figsize=(10, 8))\n",
    "plt.scatter(\n",
    "    weighted_node_embeddings_2d[:, 0],\n",
    "    weighted_node_embeddings_2d[:, 1],\n",
    "    c=node_targets.cat.codes,\n",
    "    cmap=\"jet\",\n",
    "    alpha=0.7,\n",
    ")\n",
    "plt.show()"
   ]
  },
  {
   "cell_type": "code",
   "execution_count": null,
   "id": "ad19b882",
   "metadata": {},
   "outputs": [],
   "source": []
  }
 ],
 "metadata": {
  "kernelspec": {
   "display_name": "Python 3 (ipykernel)",
   "language": "python",
   "name": "python3"
  },
  "language_info": {
   "codemirror_mode": {
    "name": "ipython",
    "version": 3
   },
   "file_extension": ".py",
   "mimetype": "text/x-python",
   "name": "python",
   "nbconvert_exporter": "python",
   "pygments_lexer": "ipython3",
   "version": "3.8.5"
  }
 },
 "nbformat": 4,
 "nbformat_minor": 5
}
