{
 "cells": [
  {
   "cell_type": "code",
   "execution_count": 1,
   "id": "35b0c408",
   "metadata": {},
   "outputs": [],
   "source": [
    "!pip install -q stellargraph[demos]==1.2.1"
   ]
  },
  {
   "cell_type": "code",
   "execution_count": 2,
   "id": "71e54789",
   "metadata": {},
   "outputs": [],
   "source": [
    "!pip install -q openpyxl"
   ]
  },
  {
   "cell_type": "code",
   "execution_count": 5,
   "id": "682ce8be",
   "metadata": {},
   "outputs": [],
   "source": [
    "# !pip install tensorflow-gpu"
   ]
  },
  {
   "cell_type": "code",
   "execution_count": 6,
   "id": "c47d7022",
   "metadata": {},
   "outputs": [],
   "source": [
    "# verify that we're using the correct version of StellarGraph for this notebook\n",
    "import stellargraph as sg\n",
    "\n",
    "try:\n",
    "    sg.utils.validate_notebook_version(\"1.2.1\")\n",
    "except AttributeError:\n",
    "    raise ValueError(\n",
    "        f\"This notebook requires StellarGraph version 1.2.1, but a different version {sg.__version__} is installed.  Please see <https://github.com/stellargraph/stellargraph/issues/1172>.\"\n",
    "    ) from None"
   ]
  },
  {
   "cell_type": "code",
   "execution_count": 7,
   "id": "f661df57",
   "metadata": {},
   "outputs": [
    {
     "name": "stdout",
     "output_type": "stream",
     "text": [
      "dummy.xlsx\t      GCN-3 networkx for tf-pathway.ipynb\n",
      "file_for_network.csv  GCN-4 stelllargraph.ipynb\n",
      "foo3.pdf\t      GCN.ipynb\n",
      "foo3.png\t      pathway-tf.xlsx\n",
      "foo.pdf\t\t      tfc_graph_analysis.csv\n",
      "foo.png\t\t      tfc_graph_colour.png\n",
      "GCN-2.ipynb\n"
     ]
    }
   ],
   "source": [
    "!ls"
   ]
  },
  {
   "cell_type": "code",
   "execution_count": 13,
   "id": "892100cb",
   "metadata": {},
   "outputs": [],
   "source": [
    "from stellargraph import StellarGraph\n",
    "import json\n",
    "import pandas as pd\n",
    "import numpy as np\n",
    "from sklearn import preprocessing, feature_extraction, model_selection\n",
    "from sklearn.metrics import mean_absolute_error, mean_squared_error\n",
    "\n",
    "import stellargraph as sg\n",
    "from stellargraph.mapper import HinSAGELinkGenerator\n",
    "from stellargraph.layer import HinSAGE, link_regression\n",
    "from tensorflow.keras import Model, optimizers, losses, metrics\n",
    "\n",
    "import multiprocessing\n",
    "from stellargraph import datasets\n",
    "from IPython.display import display, HTML\n",
    "import matplotlib.pyplot as plt\n",
    "%matplotlib inline"
   ]
  },
  {
   "cell_type": "code",
   "execution_count": 14,
   "id": "d523edc9",
   "metadata": {},
   "outputs": [],
   "source": [
    "import pandas as pd"
   ]
  },
  {
   "cell_type": "code",
   "execution_count": 15,
   "id": "ec6460b3",
   "metadata": {},
   "outputs": [
    {
     "data": {
      "text/html": [
       "<div>\n",
       "<style scoped>\n",
       "    .dataframe tbody tr th:only-of-type {\n",
       "        vertical-align: middle;\n",
       "    }\n",
       "\n",
       "    .dataframe tbody tr th {\n",
       "        vertical-align: top;\n",
       "    }\n",
       "\n",
       "    .dataframe thead th {\n",
       "        text-align: right;\n",
       "    }\n",
       "</style>\n",
       "<table border=\"1\" class=\"dataframe\">\n",
       "  <thead>\n",
       "    <tr style=\"text-align: right;\">\n",
       "      <th></th>\n",
       "      <th>pathway</th>\n",
       "      <th>tfs</th>\n",
       "    </tr>\n",
       "  </thead>\n",
       "  <tbody>\n",
       "    <tr>\n",
       "      <th>0</th>\n",
       "      <td>acute myeloid leukemia</td>\n",
       "      <td>['STAT3', 'PRDM1']</td>\n",
       "    </tr>\n",
       "    <tr>\n",
       "      <th>1</th>\n",
       "      <td>adipocytokine signaling pathway</td>\n",
       "      <td>['STAT3', 'PRDM1']</td>\n",
       "    </tr>\n",
       "    <tr>\n",
       "      <th>2</th>\n",
       "      <td>pancreatic cancer</td>\n",
       "      <td>['STAT3', 'PRDM1']</td>\n",
       "    </tr>\n",
       "    <tr>\n",
       "      <th>3</th>\n",
       "      <td>jak stat signaling pathway</td>\n",
       "      <td>['STAT3', 'PRDM1']</td>\n",
       "    </tr>\n",
       "    <tr>\n",
       "      <th>4</th>\n",
       "      <td>acute myeloid leukemia</td>\n",
       "      <td>['STAT3', 'KLF5']</td>\n",
       "    </tr>\n",
       "    <tr>\n",
       "      <th>...</th>\n",
       "      <td>...</td>\n",
       "      <td>...</td>\n",
       "    </tr>\n",
       "    <tr>\n",
       "      <th>1048570</th>\n",
       "      <td>cell cycle</td>\n",
       "      <td>['LEF1', 'MYC', 'SNAI1', 'NANOG', 'POU5F1', 'S...</td>\n",
       "    </tr>\n",
       "    <tr>\n",
       "      <th>1048571</th>\n",
       "      <td>focal adhesion</td>\n",
       "      <td>['LEF1', 'MYC', 'SNAI1', 'NANOG', 'POU5F1', 'S...</td>\n",
       "    </tr>\n",
       "    <tr>\n",
       "      <th>1048572</th>\n",
       "      <td>neuroactive ligand receptor interaction</td>\n",
       "      <td>['LEF1', 'MYC', 'SNAI1', 'NANOG', 'POU5F1', 'S...</td>\n",
       "    </tr>\n",
       "    <tr>\n",
       "      <th>1048573</th>\n",
       "      <td>prostate cancer</td>\n",
       "      <td>['SMAD4', 'TBX18', 'SNAI2', 'STAT1', 'TBX21', ...</td>\n",
       "    </tr>\n",
       "    <tr>\n",
       "      <th>1048574</th>\n",
       "      <td>pancreatic cancer</td>\n",
       "      <td>['SMAD4', 'TBX18', 'SNAI2', 'STAT1', 'TBX21', ...</td>\n",
       "    </tr>\n",
       "  </tbody>\n",
       "</table>\n",
       "<p>1048575 rows × 2 columns</p>\n",
       "</div>"
      ],
      "text/plain": [
       "                                         pathway  \\\n",
       "0                         acute myeloid leukemia   \n",
       "1                adipocytokine signaling pathway   \n",
       "2                              pancreatic cancer   \n",
       "3                     jak stat signaling pathway   \n",
       "4                         acute myeloid leukemia   \n",
       "...                                          ...   \n",
       "1048570                               cell cycle   \n",
       "1048571                           focal adhesion   \n",
       "1048572  neuroactive ligand receptor interaction   \n",
       "1048573                          prostate cancer   \n",
       "1048574                        pancreatic cancer   \n",
       "\n",
       "                                                       tfs  \n",
       "0                                       ['STAT3', 'PRDM1']  \n",
       "1                                       ['STAT3', 'PRDM1']  \n",
       "2                                       ['STAT3', 'PRDM1']  \n",
       "3                                       ['STAT3', 'PRDM1']  \n",
       "4                                        ['STAT3', 'KLF5']  \n",
       "...                                                    ...  \n",
       "1048570  ['LEF1', 'MYC', 'SNAI1', 'NANOG', 'POU5F1', 'S...  \n",
       "1048571  ['LEF1', 'MYC', 'SNAI1', 'NANOG', 'POU5F1', 'S...  \n",
       "1048572  ['LEF1', 'MYC', 'SNAI1', 'NANOG', 'POU5F1', 'S...  \n",
       "1048573  ['SMAD4', 'TBX18', 'SNAI2', 'STAT1', 'TBX21', ...  \n",
       "1048574  ['SMAD4', 'TBX18', 'SNAI2', 'STAT1', 'TBX21', ...  \n",
       "\n",
       "[1048575 rows x 2 columns]"
      ]
     },
     "execution_count": 15,
     "metadata": {},
     "output_type": "execute_result"
    }
   ],
   "source": [
    "xl = pd.ExcelFile(\"pathway-tf.xlsx\")\n",
    "df = xl.parse(\"Sheet1\", header=None)\n",
    "df.columns=[\"pathway\",\"tfs\"]\n",
    "# df=df.head()\n",
    "df"
   ]
  },
  {
   "cell_type": "code",
   "execution_count": 16,
   "id": "eb161767",
   "metadata": {},
   "outputs": [
    {
     "data": {
      "text/plain": [
       "str"
      ]
     },
     "execution_count": 16,
     "metadata": {},
     "output_type": "execute_result"
    }
   ],
   "source": [
    "df.tfs[1].__class__"
   ]
  },
  {
   "cell_type": "code",
   "execution_count": 17,
   "id": "99423373",
   "metadata": {},
   "outputs": [],
   "source": [
    "# import ast\n",
    "# for i in range(len(df)):\n",
    "#     x =df.tfs[i]\n",
    "#     x = ast.literal_eval(x)\n",
    "#     x = [n.strip() for n in x]\n",
    "#     df.tfs[i]=x\n"
   ]
  },
  {
   "cell_type": "code",
   "execution_count": 18,
   "id": "62b38ef9",
   "metadata": {},
   "outputs": [],
   "source": [
    "# x.__class__"
   ]
  },
  {
   "cell_type": "code",
   "execution_count": 19,
   "id": "5aab5706",
   "metadata": {},
   "outputs": [],
   "source": [
    "# df[['tf1','tf2']] = pd.DataFrame(df.tfs.tolist(), index= df.index)"
   ]
  },
  {
   "cell_type": "code",
   "execution_count": 20,
   "id": "e53928c8",
   "metadata": {},
   "outputs": [],
   "source": [
    "# df.drop([\"tfs\"],axis=1, inplace=True)\n",
    "# df"
   ]
  },
  {
   "cell_type": "code",
   "execution_count": 21,
   "id": "9bbb69a0",
   "metadata": {},
   "outputs": [
    {
     "name": "stdout",
     "output_type": "stream",
     "text": [
      "(1048575, 2)\n"
     ]
    },
    {
     "data": {
      "text/html": [
       "<div>\n",
       "<style scoped>\n",
       "    .dataframe tbody tr th:only-of-type {\n",
       "        vertical-align: middle;\n",
       "    }\n",
       "\n",
       "    .dataframe tbody tr th {\n",
       "        vertical-align: top;\n",
       "    }\n",
       "\n",
       "    .dataframe thead th {\n",
       "        text-align: right;\n",
       "    }\n",
       "</style>\n",
       "<table border=\"1\" class=\"dataframe\">\n",
       "  <thead>\n",
       "    <tr style=\"text-align: right;\">\n",
       "      <th></th>\n",
       "      <th>pathway</th>\n",
       "      <th>tfs</th>\n",
       "    </tr>\n",
       "  </thead>\n",
       "  <tbody>\n",
       "    <tr>\n",
       "      <th>0</th>\n",
       "      <td>acute myeloid leukemia</td>\n",
       "      <td>['STAT3', 'PRDM1']</td>\n",
       "    </tr>\n",
       "    <tr>\n",
       "      <th>1</th>\n",
       "      <td>adipocytokine signaling pathway</td>\n",
       "      <td>['STAT3', 'PRDM1']</td>\n",
       "    </tr>\n",
       "    <tr>\n",
       "      <th>2</th>\n",
       "      <td>pancreatic cancer</td>\n",
       "      <td>['STAT3', 'PRDM1']</td>\n",
       "    </tr>\n",
       "    <tr>\n",
       "      <th>3</th>\n",
       "      <td>jak stat signaling pathway</td>\n",
       "      <td>['STAT3', 'PRDM1']</td>\n",
       "    </tr>\n",
       "    <tr>\n",
       "      <th>4</th>\n",
       "      <td>acute myeloid leukemia</td>\n",
       "      <td>['STAT3', 'KLF5']</td>\n",
       "    </tr>\n",
       "  </tbody>\n",
       "</table>\n",
       "</div>"
      ],
      "text/plain": [
       "                           pathway                 tfs\n",
       "0           acute myeloid leukemia  ['STAT3', 'PRDM1']\n",
       "1  adipocytokine signaling pathway  ['STAT3', 'PRDM1']\n",
       "2                pancreatic cancer  ['STAT3', 'PRDM1']\n",
       "3       jak stat signaling pathway  ['STAT3', 'PRDM1']\n",
       "4           acute myeloid leukemia   ['STAT3', 'KLF5']"
      ]
     },
     "execution_count": 21,
     "metadata": {},
     "output_type": "execute_result"
    }
   ],
   "source": [
    "print(df.shape)\n",
    "df.head()"
   ]
  },
  {
   "cell_type": "code",
   "execution_count": 22,
   "id": "e328bcf5",
   "metadata": {},
   "outputs": [
    {
     "data": {
      "text/plain": [
       "(42918, 2)"
      ]
     },
     "execution_count": 22,
     "metadata": {},
     "output_type": "execute_result"
    }
   ],
   "source": [
    "df=df.drop_duplicates(subset=['pathway', 'tfs'], keep=False)\n",
    "df.shape"
   ]
  },
  {
   "cell_type": "code",
   "execution_count": 32,
   "id": "15d7b0d0",
   "metadata": {},
   "outputs": [],
   "source": [
    "df.columns=[\"target\",\"source\"]"
   ]
  },
  {
   "cell_type": "markdown",
   "id": "4e3527b7",
   "metadata": {},
   "source": [
    "## Stellargraph"
   ]
  },
  {
   "cell_type": "code",
   "execution_count": 33,
   "id": "bf9c90a3",
   "metadata": {},
   "outputs": [
    {
     "data": {
      "text/html": [
       "<div>\n",
       "<style scoped>\n",
       "    .dataframe tbody tr th:only-of-type {\n",
       "        vertical-align: middle;\n",
       "    }\n",
       "\n",
       "    .dataframe tbody tr th {\n",
       "        vertical-align: top;\n",
       "    }\n",
       "\n",
       "    .dataframe thead th {\n",
       "        text-align: right;\n",
       "    }\n",
       "</style>\n",
       "<table border=\"1\" class=\"dataframe\">\n",
       "  <thead>\n",
       "    <tr style=\"text-align: right;\">\n",
       "      <th></th>\n",
       "      <th>target</th>\n",
       "      <th>source</th>\n",
       "    </tr>\n",
       "  </thead>\n",
       "  <tbody>\n",
       "    <tr>\n",
       "      <th>24</th>\n",
       "      <td>lysine degradation</td>\n",
       "      <td>['SETDB1', 'STAT3']</td>\n",
       "    </tr>\n",
       "    <tr>\n",
       "      <th>29</th>\n",
       "      <td>methionine metabolism</td>\n",
       "      <td>['STAT3', 'DNMT1']</td>\n",
       "    </tr>\n",
       "    <tr>\n",
       "      <th>174</th>\n",
       "      <td>vegf signaling pathway</td>\n",
       "      <td>['STAT3', 'NFATC2']</td>\n",
       "    </tr>\n",
       "    <tr>\n",
       "      <th>177</th>\n",
       "      <td>axon guidance</td>\n",
       "      <td>['STAT3', 'NFATC2']</td>\n",
       "    </tr>\n",
       "    <tr>\n",
       "      <th>178</th>\n",
       "      <td>natural killer cell mediated cytotoxicity</td>\n",
       "      <td>['STAT3', 'NFATC2']</td>\n",
       "    </tr>\n",
       "    <tr>\n",
       "      <th>...</th>\n",
       "      <td>...</td>\n",
       "      <td>...</td>\n",
       "    </tr>\n",
       "    <tr>\n",
       "      <th>1048493</th>\n",
       "      <td>notch signaling pathway</td>\n",
       "      <td>['HMGA2', 'SOX2', 'NANOG', 'POU5F1', 'SALL4', ...</td>\n",
       "    </tr>\n",
       "    <tr>\n",
       "      <th>1048552</th>\n",
       "      <td>vegf signaling pathway</td>\n",
       "      <td>['LEF1', 'MYC', 'SNAI1', 'NANOG', 'POU5F1', 'S...</td>\n",
       "    </tr>\n",
       "    <tr>\n",
       "      <th>1048556</th>\n",
       "      <td>circadian rhythm</td>\n",
       "      <td>['LEF1', 'MYC', 'SNAI1', 'NANOG', 'POU5F1', 'S...</td>\n",
       "    </tr>\n",
       "    <tr>\n",
       "      <th>1048557</th>\n",
       "      <td>axon guidance</td>\n",
       "      <td>['LEF1', 'MYC', 'SNAI1', 'NANOG', 'POU5F1', 'S...</td>\n",
       "    </tr>\n",
       "    <tr>\n",
       "      <th>1048558</th>\n",
       "      <td>natural killer cell mediated cytotoxicity</td>\n",
       "      <td>['LEF1', 'MYC', 'SNAI1', 'NANOG', 'POU5F1', 'S...</td>\n",
       "    </tr>\n",
       "  </tbody>\n",
       "</table>\n",
       "<p>42918 rows × 2 columns</p>\n",
       "</div>"
      ],
      "text/plain": [
       "                                            target  \\\n",
       "24                              lysine degradation   \n",
       "29                           methionine metabolism   \n",
       "174                         vegf signaling pathway   \n",
       "177                                  axon guidance   \n",
       "178      natural killer cell mediated cytotoxicity   \n",
       "...                                            ...   \n",
       "1048493                    notch signaling pathway   \n",
       "1048552                     vegf signaling pathway   \n",
       "1048556                           circadian rhythm   \n",
       "1048557                              axon guidance   \n",
       "1048558  natural killer cell mediated cytotoxicity   \n",
       "\n",
       "                                                    source  \n",
       "24                                     ['SETDB1', 'STAT3']  \n",
       "29                                      ['STAT3', 'DNMT1']  \n",
       "174                                    ['STAT3', 'NFATC2']  \n",
       "177                                    ['STAT3', 'NFATC2']  \n",
       "178                                    ['STAT3', 'NFATC2']  \n",
       "...                                                    ...  \n",
       "1048493  ['HMGA2', 'SOX2', 'NANOG', 'POU5F1', 'SALL4', ...  \n",
       "1048552  ['LEF1', 'MYC', 'SNAI1', 'NANOG', 'POU5F1', 'S...  \n",
       "1048556  ['LEF1', 'MYC', 'SNAI1', 'NANOG', 'POU5F1', 'S...  \n",
       "1048557  ['LEF1', 'MYC', 'SNAI1', 'NANOG', 'POU5F1', 'S...  \n",
       "1048558  ['LEF1', 'MYC', 'SNAI1', 'NANOG', 'POU5F1', 'S...  \n",
       "\n",
       "[42918 rows x 2 columns]"
      ]
     },
     "execution_count": 33,
     "metadata": {},
     "output_type": "execute_result"
    }
   ],
   "source": [
    "square_edges = df\n"
   ]
  },
  {
   "cell_type": "code",
   "execution_count": 37,
   "id": "42e04edd",
   "metadata": {},
   "outputs": [
    {
     "name": "stdout",
     "output_type": "stream",
     "text": [
      "StellarGraph: Undirected multigraph\n",
      " Nodes: 9784, Edges: 42918\n",
      "\n",
      " Node types:\n",
      "  tfs: [9784]\n",
      "    Features: none\n",
      "    Edge types: tfs-pathway->tfs\n",
      "\n",
      " Edge types:\n",
      "    tfs-pathway->tfs: [42918]\n",
      "        Weights: all 1 (default)\n",
      "        Features: none\n"
     ]
    }
   ],
   "source": [
    "square_named = StellarGraph(\n",
    "    edges=square_edges, node_type_default=\"tfs\", edge_type_default=\"pathway\"\n",
    ")\n",
    "print(square_named.info())"
   ]
  },
  {
   "cell_type": "code",
   "execution_count": 39,
   "id": "974b5703",
   "metadata": {},
   "outputs": [
    {
     "data": {
      "text/plain": [
       "<stellargraph.core.graph.StellarGraph at 0x7f5691b910d0>"
      ]
     },
     "execution_count": 39,
     "metadata": {},
     "output_type": "execute_result"
    }
   ],
   "source": [
    "square_named"
   ]
  },
  {
   "cell_type": "code",
   "execution_count": 41,
   "id": "77c5b9f6",
   "metadata": {},
   "outputs": [
    {
     "data": {
      "text/html": [
       "<div>\n",
       "<style scoped>\n",
       "    .dataframe tbody tr th:only-of-type {\n",
       "        vertical-align: middle;\n",
       "    }\n",
       "\n",
       "    .dataframe tbody tr th {\n",
       "        vertical-align: top;\n",
       "    }\n",
       "\n",
       "    .dataframe thead th {\n",
       "        text-align: right;\n",
       "    }\n",
       "</style>\n",
       "<table border=\"1\" class=\"dataframe\">\n",
       "  <thead>\n",
       "    <tr style=\"text-align: right;\">\n",
       "      <th></th>\n",
       "      <th>pathway</th>\n",
       "      <th>tfs</th>\n",
       "    </tr>\n",
       "  </thead>\n",
       "  <tbody>\n",
       "    <tr>\n",
       "      <th>24</th>\n",
       "      <td>lysine degradation</td>\n",
       "      <td>['SETDB1', 'STAT3']</td>\n",
       "    </tr>\n",
       "    <tr>\n",
       "      <th>29</th>\n",
       "      <td>methionine metabolism</td>\n",
       "      <td>['STAT3', 'DNMT1']</td>\n",
       "    </tr>\n",
       "    <tr>\n",
       "      <th>174</th>\n",
       "      <td>vegf signaling pathway</td>\n",
       "      <td>['STAT3', 'NFATC2']</td>\n",
       "    </tr>\n",
       "    <tr>\n",
       "      <th>177</th>\n",
       "      <td>axon guidance</td>\n",
       "      <td>['STAT3', 'NFATC2']</td>\n",
       "    </tr>\n",
       "    <tr>\n",
       "      <th>178</th>\n",
       "      <td>natural killer cell mediated cytotoxicity</td>\n",
       "      <td>['STAT3', 'NFATC2']</td>\n",
       "    </tr>\n",
       "    <tr>\n",
       "      <th>...</th>\n",
       "      <td>...</td>\n",
       "      <td>...</td>\n",
       "    </tr>\n",
       "    <tr>\n",
       "      <th>1048493</th>\n",
       "      <td>notch signaling pathway</td>\n",
       "      <td>['HMGA2', 'SOX2', 'NANOG', 'POU5F1', 'SALL4', ...</td>\n",
       "    </tr>\n",
       "    <tr>\n",
       "      <th>1048552</th>\n",
       "      <td>vegf signaling pathway</td>\n",
       "      <td>['LEF1', 'MYC', 'SNAI1', 'NANOG', 'POU5F1', 'S...</td>\n",
       "    </tr>\n",
       "    <tr>\n",
       "      <th>1048556</th>\n",
       "      <td>circadian rhythm</td>\n",
       "      <td>['LEF1', 'MYC', 'SNAI1', 'NANOG', 'POU5F1', 'S...</td>\n",
       "    </tr>\n",
       "    <tr>\n",
       "      <th>1048557</th>\n",
       "      <td>axon guidance</td>\n",
       "      <td>['LEF1', 'MYC', 'SNAI1', 'NANOG', 'POU5F1', 'S...</td>\n",
       "    </tr>\n",
       "    <tr>\n",
       "      <th>1048558</th>\n",
       "      <td>natural killer cell mediated cytotoxicity</td>\n",
       "      <td>['LEF1', 'MYC', 'SNAI1', 'NANOG', 'POU5F1', 'S...</td>\n",
       "    </tr>\n",
       "  </tbody>\n",
       "</table>\n",
       "<p>42918 rows × 2 columns</p>\n",
       "</div>"
      ],
      "text/plain": [
       "                                           pathway  \\\n",
       "24                              lysine degradation   \n",
       "29                           methionine metabolism   \n",
       "174                         vegf signaling pathway   \n",
       "177                                  axon guidance   \n",
       "178      natural killer cell mediated cytotoxicity   \n",
       "...                                            ...   \n",
       "1048493                    notch signaling pathway   \n",
       "1048552                     vegf signaling pathway   \n",
       "1048556                           circadian rhythm   \n",
       "1048557                              axon guidance   \n",
       "1048558  natural killer cell mediated cytotoxicity   \n",
       "\n",
       "                                                       tfs  \n",
       "24                                     ['SETDB1', 'STAT3']  \n",
       "29                                      ['STAT3', 'DNMT1']  \n",
       "174                                    ['STAT3', 'NFATC2']  \n",
       "177                                    ['STAT3', 'NFATC2']  \n",
       "178                                    ['STAT3', 'NFATC2']  \n",
       "...                                                    ...  \n",
       "1048493  ['HMGA2', 'SOX2', 'NANOG', 'POU5F1', 'SALL4', ...  \n",
       "1048552  ['LEF1', 'MYC', 'SNAI1', 'NANOG', 'POU5F1', 'S...  \n",
       "1048556  ['LEF1', 'MYC', 'SNAI1', 'NANOG', 'POU5F1', 'S...  \n",
       "1048557  ['LEF1', 'MYC', 'SNAI1', 'NANOG', 'POU5F1', 'S...  \n",
       "1048558  ['LEF1', 'MYC', 'SNAI1', 'NANOG', 'POU5F1', 'S...  \n",
       "\n",
       "[42918 rows x 2 columns]"
      ]
     },
     "execution_count": 41,
     "metadata": {},
     "output_type": "execute_result"
    }
   ],
   "source": [
    "square_edges_first_second = square_edges.rename(\n",
    "    columns={\"source\": \"tfs\", \"target\": \"pathway\"}\n",
    ")\n",
    "square_edges_first_second"
   ]
  },
  {
   "cell_type": "code",
   "execution_count": 43,
   "id": "4de18837",
   "metadata": {},
   "outputs": [
    {
     "name": "stdout",
     "output_type": "stream",
     "text": [
      "StellarGraph: Undirected multigraph\n",
      " Nodes: 9784, Edges: 42918\n",
      "\n",
      " Node types:\n",
      "  tfs: [9784]\n",
      "    Features: none\n",
      "    Edge types: tfs-pathway->tfs\n",
      "\n",
      " Edge types:\n",
      "    tfs-pathway->tfs: [42918]\n",
      "        Weights: all 1 (default)\n",
      "        Features: none\n"
     ]
    }
   ],
   "source": [
    "square_first_second = StellarGraph(\n",
    "    edges=square_edges_first_second, source_column=\"tfs\", target_column=\"pathway\",node_type_default=\"tfs\", edge_type_default=\"pathway\"\n",
    ")\n",
    "print(square_first_second.info())"
   ]
  },
  {
   "cell_type": "code",
   "execution_count": 45,
   "id": "5b3998d2",
   "metadata": {},
   "outputs": [],
   "source": [
    "\n",
    "import stellargraph as sg\n",
    "from stellargraph.data import EdgeSplitter\n",
    "from stellargraph.mapper import GraphSAGELinkGenerator\n",
    "from stellargraph.layer import GraphSAGE, HinSAGE, link_classification\n",
    "\n",
    "from tensorflow import keras\n",
    "from sklearn import preprocessing, feature_extraction, model_selection\n",
    "\n",
    "from stellargraph import globalvar\n",
    "from stellargraph import datasets\n",
    "from IPython.display import display, HTML\n",
    "%matplotlib inline"
   ]
  },
  {
   "cell_type": "code",
   "execution_count": 47,
   "id": "078be62f",
   "metadata": {},
   "outputs": [
    {
     "name": "stdout",
     "output_type": "stream",
     "text": [
      "StellarGraph: Undirected multigraph\n",
      " Nodes: 9784, Edges: 42918\n",
      "\n",
      " Node types:\n",
      "  tfs: [9784]\n",
      "    Features: none\n",
      "    Edge types: tfs-pathway->tfs\n",
      "\n",
      " Edge types:\n",
      "    tfs-pathway->tfs: [42918]\n",
      "        Weights: all 1 (default)\n",
      "        Features: none\n"
     ]
    }
   ],
   "source": [
    "G=square_first_second\n",
    "print(G.info())"
   ]
  },
  {
   "cell_type": "code",
   "execution_count": 48,
   "id": "e9e2a7da",
   "metadata": {},
   "outputs": [
    {
     "name": "stdout",
     "output_type": "stream",
     "text": [
      "** Sampled 4291 positive and 4291 negative edges. **\n"
     ]
    }
   ],
   "source": [
    "# Define an edge splitter on the original graph G:\n",
    "edge_splitter_test = EdgeSplitter(G)\n",
    "\n",
    "# Randomly sample a fraction p=0.1 of all positive links, and same number of negative links, from G, and obtain the\n",
    "# reduced graph G_test with the sampled links removed:\n",
    "G_test, edge_ids_test, edge_labels_test = edge_splitter_test.train_test_split(\n",
    "    p=0.1, method=\"global\", keep_connected=True\n",
    ")"
   ]
  },
  {
   "cell_type": "code",
   "execution_count": 51,
   "id": "fc09bace",
   "metadata": {},
   "outputs": [
    {
     "name": "stdout",
     "output_type": "stream",
     "text": [
      "** Sampled 3862 positive and 3862 negative edges. **\n"
     ]
    }
   ],
   "source": [
    "# Define an edge splitter on the reduced graph G_test:\n",
    "edge_splitter_train = EdgeSplitter(G_test)\n",
    "\n",
    "# Randomly sample a fraction p=0.1 of all positive links, and same number of negative links, from G_test, and obtain the\n",
    "# reduced graph G_train with the sampled links removed:\n",
    "G_train, edge_ids_train, edge_labels_train = edge_splitter_train.train_test_split(\n",
    "    p=0.1, method=\"global\", keep_connected=True\n",
    ")"
   ]
  },
  {
   "cell_type": "code",
   "execution_count": 52,
   "id": "4eaf6316",
   "metadata": {},
   "outputs": [
    {
     "name": "stdout",
     "output_type": "stream",
     "text": [
      "StellarGraph: Undirected multigraph\n",
      " Nodes: 9784, Edges: 34765\n",
      "\n",
      " Node types:\n",
      "  tfs: [9784]\n",
      "    Features: none\n",
      "    Edge types: tfs-pathway->tfs\n",
      "\n",
      " Edge types:\n",
      "    tfs-pathway->tfs: [34765]\n",
      "        Weights: all 1 (default)\n",
      "        Features: none\n"
     ]
    }
   ],
   "source": [
    "print(G_train.info())"
   ]
  },
  {
   "cell_type": "code",
   "execution_count": 50,
   "id": "721b8f76",
   "metadata": {},
   "outputs": [
    {
     "name": "stdout",
     "output_type": "stream",
     "text": [
      "StellarGraph: Undirected multigraph\n",
      " Nodes: 9784, Edges: 38627\n",
      "\n",
      " Node types:\n",
      "  tfs: [9784]\n",
      "    Features: none\n",
      "    Edge types: tfs-pathway->tfs\n",
      "\n",
      " Edge types:\n",
      "    tfs-pathway->tfs: [38627]\n",
      "        Weights: all 1 (default)\n",
      "        Features: none\n"
     ]
    }
   ],
   "source": [
    "print(G_test.info())"
   ]
  },
  {
   "cell_type": "code",
   "execution_count": 53,
   "id": "2e8dddf9",
   "metadata": {},
   "outputs": [],
   "source": [
    "batch_size = 20\n",
    "epochs = 20"
   ]
  },
  {
   "cell_type": "code",
   "execution_count": 54,
   "id": "8f0c4d1f",
   "metadata": {},
   "outputs": [],
   "source": [
    "num_samples = [20, 10]"
   ]
  },
  {
   "cell_type": "code",
   "execution_count": null,
   "id": "b1979484",
   "metadata": {},
   "outputs": [],
   "source": [
    "train_gen = GraphSAGELinkGenerator(G_train, batch_size, num_samples)\n",
    "train_flow = train_gen.flow(edge_ids_train, edge_labels_train, shuffle=True)"
   ]
  },
  {
   "cell_type": "code",
   "execution_count": null,
   "id": "4a183480",
   "metadata": {},
   "outputs": [],
   "source": []
  }
 ],
 "metadata": {
  "kernelspec": {
   "display_name": "Python 3 (ipykernel)",
   "language": "python",
   "name": "python3"
  },
  "language_info": {
   "codemirror_mode": {
    "name": "ipython",
    "version": 3
   },
   "file_extension": ".py",
   "mimetype": "text/x-python",
   "name": "python",
   "nbconvert_exporter": "python",
   "pygments_lexer": "ipython3",
   "version": "3.8.5"
  }
 },
 "nbformat": 4,
 "nbformat_minor": 5
}
