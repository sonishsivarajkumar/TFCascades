{
 "cells": [
  {
   "cell_type": "code",
   "execution_count": 1,
   "id": "935be965",
   "metadata": {},
   "outputs": [
    {
     "name": "stdout",
     "output_type": "stream",
     "text": [
      "\u001b[31mERROR: After October 2020 you may experience errors when installing or updating packages. This is because pip will change the way that it resolves dependency conflicts.\n",
      "\n",
      "We recommend you use --use-feature=2020-resolver to test your packages with the new resolver before it becomes the default.\n",
      "\n",
      "numba 0.55.1 requires numpy<1.22,>=1.18, but you'll have numpy 1.22.0 which is incompatible.\u001b[0m\n"
     ]
    }
   ],
   "source": [
    "!pip install -q stellargraph[demos]==1.2.1"
   ]
  },
  {
   "cell_type": "code",
   "execution_count": 17,
   "id": "3ad5099b",
   "metadata": {},
   "outputs": [],
   "source": [
    "!pip install -q openpyxl"
   ]
  },
  {
   "cell_type": "code",
   "execution_count": 1,
   "id": "921f3d90",
   "metadata": {},
   "outputs": [
    {
     "name": "stderr",
     "output_type": "stream",
     "text": [
      "2022-02-03 16:23:22.318535: W tensorflow/stream_executor/platform/default/dso_loader.cc:64] Could not load dynamic library 'libcudnn.so.8'; dlerror: libcudnn.so.8: cannot open shared object file: No such file or directory; LD_LIBRARY_PATH: /ihome/crc/install/cuda-11.1.1/pytorch/1.8.1_gpu/python3.8/lib:/usr/lib64:/ihome/crc/install/cuda/11.1.1/lib64/stubs:/ihome/crc/install/cuda/11.1.1/lib64\n",
      "2022-02-03 16:23:22.318573: W tensorflow/core/common_runtime/gpu/gpu_device.cc:1850] Cannot dlopen some GPU libraries. Please make sure the missing libraries mentioned above are installed properly if you would like to use GPU. Follow the guide at https://www.tensorflow.org/install/gpu for how to download and setup the required libraries for your platform.\n",
      "Skipping registering GPU devices...\n",
      "2022-02-03 16:23:22.319822: I tensorflow/core/platform/cpu_feature_guard.cc:151] This TensorFlow binary is optimized with oneAPI Deep Neural Network Library (oneDNN) to use the following CPU instructions in performance-critical operations:  AVX2 FMA\n",
      "To enable them in other operations, rebuild TensorFlow with the appropriate compiler flags.\n"
     ]
    }
   ],
   "source": [
    "# verify that we're using the correct version of StellarGraph for this notebook\n",
    "import stellargraph as sg\n",
    "\n",
    "try:\n",
    "    sg.utils.validate_notebook_version(\"1.2.1\")\n",
    "except AttributeError:\n",
    "    raise ValueError(\n",
    "        f\"This notebook requires StellarGraph version 1.2.1, but a different version {sg.__version__} is installed.  Please see <https://github.com/stellargraph/stellargraph/issues/1172>.\"\n",
    "    ) from None"
   ]
  },
  {
   "cell_type": "code",
   "execution_count": 2,
   "id": "ce18d4b2",
   "metadata": {},
   "outputs": [
    {
     "name": "stdout",
     "output_type": "stream",
     "text": [
      "dummy.xlsx\t      GCN-2.ipynb\n",
      "file_for_network.csv  GCN-3 networkx for tf-pathway.ipynb\n",
      "foo3.pdf\t      GCN.ipynb\n",
      "foo3.png\t      pathway-tf.xlsx\n",
      "foo.pdf\t\t      tfc_graph_analysis.csv\n",
      "foo.png\t\t      tfc_graph.png\n"
     ]
    }
   ],
   "source": [
    "!ls"
   ]
  },
  {
   "cell_type": "code",
   "execution_count": 3,
   "id": "994bd066",
   "metadata": {},
   "outputs": [],
   "source": [
    "from stellargraph import StellarGraph\n",
    "import json\n",
    "import pandas as pd\n",
    "import numpy as np\n",
    "from sklearn import preprocessing, feature_extraction, model_selection\n",
    "from sklearn.metrics import mean_absolute_error, mean_squared_error\n",
    "\n",
    "import stellargraph as sg\n",
    "from stellargraph.mapper import HinSAGELinkGenerator\n",
    "from stellargraph.layer import HinSAGE, link_regression\n",
    "from tensorflow.keras import Model, optimizers, losses, metrics\n",
    "\n",
    "import multiprocessing\n",
    "from stellargraph import datasets\n",
    "from IPython.display import display, HTML\n",
    "import matplotlib.pyplot as plt\n",
    "%matplotlib inline"
   ]
  },
  {
   "cell_type": "code",
   "execution_count": 4,
   "id": "1e0bb623",
   "metadata": {},
   "outputs": [],
   "source": [
    "import pandas as pd"
   ]
  },
  {
   "cell_type": "code",
   "execution_count": 39,
   "id": "081fb193",
   "metadata": {},
   "outputs": [
    {
     "data": {
      "text/html": [
       "<div>\n",
       "<style scoped>\n",
       "    .dataframe tbody tr th:only-of-type {\n",
       "        vertical-align: middle;\n",
       "    }\n",
       "\n",
       "    .dataframe tbody tr th {\n",
       "        vertical-align: top;\n",
       "    }\n",
       "\n",
       "    .dataframe thead th {\n",
       "        text-align: right;\n",
       "    }\n",
       "</style>\n",
       "<table border=\"1\" class=\"dataframe\">\n",
       "  <thead>\n",
       "    <tr style=\"text-align: right;\">\n",
       "      <th></th>\n",
       "      <th>pathway</th>\n",
       "      <th>tfs</th>\n",
       "    </tr>\n",
       "  </thead>\n",
       "  <tbody>\n",
       "    <tr>\n",
       "      <th>0</th>\n",
       "      <td>acute myeloid leukemia</td>\n",
       "      <td>['STAT3', 'PRDM1']</td>\n",
       "    </tr>\n",
       "    <tr>\n",
       "      <th>1</th>\n",
       "      <td>adipocytokine signaling pathway</td>\n",
       "      <td>['STAT3', 'PRDM1']</td>\n",
       "    </tr>\n",
       "    <tr>\n",
       "      <th>2</th>\n",
       "      <td>pancreatic cancer</td>\n",
       "      <td>['STAT3', 'PRDM1']</td>\n",
       "    </tr>\n",
       "    <tr>\n",
       "      <th>3</th>\n",
       "      <td>jak stat signaling pathway</td>\n",
       "      <td>['STAT3', 'PRDM1']</td>\n",
       "    </tr>\n",
       "    <tr>\n",
       "      <th>4</th>\n",
       "      <td>acute myeloid leukemia</td>\n",
       "      <td>['STAT3', 'KLF5']</td>\n",
       "    </tr>\n",
       "    <tr>\n",
       "      <th>...</th>\n",
       "      <td>...</td>\n",
       "      <td>...</td>\n",
       "    </tr>\n",
       "    <tr>\n",
       "      <th>1048570</th>\n",
       "      <td>cell cycle</td>\n",
       "      <td>['LEF1', 'MYC', 'SNAI1', 'NANOG', 'POU5F1', 'S...</td>\n",
       "    </tr>\n",
       "    <tr>\n",
       "      <th>1048571</th>\n",
       "      <td>focal adhesion</td>\n",
       "      <td>['LEF1', 'MYC', 'SNAI1', 'NANOG', 'POU5F1', 'S...</td>\n",
       "    </tr>\n",
       "    <tr>\n",
       "      <th>1048572</th>\n",
       "      <td>neuroactive ligand receptor interaction</td>\n",
       "      <td>['LEF1', 'MYC', 'SNAI1', 'NANOG', 'POU5F1', 'S...</td>\n",
       "    </tr>\n",
       "    <tr>\n",
       "      <th>1048573</th>\n",
       "      <td>prostate cancer</td>\n",
       "      <td>['SMAD4', 'TBX18', 'SNAI2', 'STAT1', 'TBX21', ...</td>\n",
       "    </tr>\n",
       "    <tr>\n",
       "      <th>1048574</th>\n",
       "      <td>pancreatic cancer</td>\n",
       "      <td>['SMAD4', 'TBX18', 'SNAI2', 'STAT1', 'TBX21', ...</td>\n",
       "    </tr>\n",
       "  </tbody>\n",
       "</table>\n",
       "<p>1048575 rows × 2 columns</p>\n",
       "</div>"
      ],
      "text/plain": [
       "                                         pathway  \\\n",
       "0                         acute myeloid leukemia   \n",
       "1                adipocytokine signaling pathway   \n",
       "2                              pancreatic cancer   \n",
       "3                     jak stat signaling pathway   \n",
       "4                         acute myeloid leukemia   \n",
       "...                                          ...   \n",
       "1048570                               cell cycle   \n",
       "1048571                           focal adhesion   \n",
       "1048572  neuroactive ligand receptor interaction   \n",
       "1048573                          prostate cancer   \n",
       "1048574                        pancreatic cancer   \n",
       "\n",
       "                                                       tfs  \n",
       "0                                       ['STAT3', 'PRDM1']  \n",
       "1                                       ['STAT3', 'PRDM1']  \n",
       "2                                       ['STAT3', 'PRDM1']  \n",
       "3                                       ['STAT3', 'PRDM1']  \n",
       "4                                        ['STAT3', 'KLF5']  \n",
       "...                                                    ...  \n",
       "1048570  ['LEF1', 'MYC', 'SNAI1', 'NANOG', 'POU5F1', 'S...  \n",
       "1048571  ['LEF1', 'MYC', 'SNAI1', 'NANOG', 'POU5F1', 'S...  \n",
       "1048572  ['LEF1', 'MYC', 'SNAI1', 'NANOG', 'POU5F1', 'S...  \n",
       "1048573  ['SMAD4', 'TBX18', 'SNAI2', 'STAT1', 'TBX21', ...  \n",
       "1048574  ['SMAD4', 'TBX18', 'SNAI2', 'STAT1', 'TBX21', ...  \n",
       "\n",
       "[1048575 rows x 2 columns]"
      ]
     },
     "execution_count": 39,
     "metadata": {},
     "output_type": "execute_result"
    }
   ],
   "source": [
    "xl = pd.ExcelFile(\"pathway-tf.xlsx\")\n",
    "df = xl.parse(\"Sheet1\", header=None)\n",
    "df.columns=[\"pathway\",\"tfs\"]\n",
    "# df=df.head()\n",
    "df"
   ]
  },
  {
   "cell_type": "code",
   "execution_count": 40,
   "id": "f74aacc6",
   "metadata": {},
   "outputs": [
    {
     "data": {
      "text/plain": [
       "str"
      ]
     },
     "execution_count": 40,
     "metadata": {},
     "output_type": "execute_result"
    }
   ],
   "source": [
    "df.tfs[1].__class__"
   ]
  },
  {
   "cell_type": "code",
   "execution_count": 41,
   "id": "b09c398a",
   "metadata": {},
   "outputs": [],
   "source": [
    "# import ast\n",
    "# for i in range(len(df)):\n",
    "#     x =df.tfs[i]\n",
    "#     x = ast.literal_eval(x)\n",
    "#     x = [n.strip() for n in x]\n",
    "#     df.tfs[i]=x\n"
   ]
  },
  {
   "cell_type": "code",
   "execution_count": 42,
   "id": "204c01a6",
   "metadata": {},
   "outputs": [],
   "source": [
    "# x.__class__"
   ]
  },
  {
   "cell_type": "code",
   "execution_count": 43,
   "id": "8acc2860",
   "metadata": {},
   "outputs": [],
   "source": [
    "# df[['tf1','tf2']] = pd.DataFrame(df.tfs.tolist(), index= df.index)"
   ]
  },
  {
   "cell_type": "code",
   "execution_count": 44,
   "id": "0320a2e6",
   "metadata": {},
   "outputs": [],
   "source": [
    "# df.drop([\"tfs\"],axis=1, inplace=True)\n",
    "# df"
   ]
  },
  {
   "cell_type": "code",
   "execution_count": 45,
   "id": "733ef937",
   "metadata": {},
   "outputs": [
    {
     "name": "stdout",
     "output_type": "stream",
     "text": [
      "(1048575, 2)\n"
     ]
    },
    {
     "data": {
      "text/html": [
       "<div>\n",
       "<style scoped>\n",
       "    .dataframe tbody tr th:only-of-type {\n",
       "        vertical-align: middle;\n",
       "    }\n",
       "\n",
       "    .dataframe tbody tr th {\n",
       "        vertical-align: top;\n",
       "    }\n",
       "\n",
       "    .dataframe thead th {\n",
       "        text-align: right;\n",
       "    }\n",
       "</style>\n",
       "<table border=\"1\" class=\"dataframe\">\n",
       "  <thead>\n",
       "    <tr style=\"text-align: right;\">\n",
       "      <th></th>\n",
       "      <th>pathway</th>\n",
       "      <th>tfs</th>\n",
       "    </tr>\n",
       "  </thead>\n",
       "  <tbody>\n",
       "    <tr>\n",
       "      <th>0</th>\n",
       "      <td>acute myeloid leukemia</td>\n",
       "      <td>['STAT3', 'PRDM1']</td>\n",
       "    </tr>\n",
       "    <tr>\n",
       "      <th>1</th>\n",
       "      <td>adipocytokine signaling pathway</td>\n",
       "      <td>['STAT3', 'PRDM1']</td>\n",
       "    </tr>\n",
       "    <tr>\n",
       "      <th>2</th>\n",
       "      <td>pancreatic cancer</td>\n",
       "      <td>['STAT3', 'PRDM1']</td>\n",
       "    </tr>\n",
       "    <tr>\n",
       "      <th>3</th>\n",
       "      <td>jak stat signaling pathway</td>\n",
       "      <td>['STAT3', 'PRDM1']</td>\n",
       "    </tr>\n",
       "    <tr>\n",
       "      <th>4</th>\n",
       "      <td>acute myeloid leukemia</td>\n",
       "      <td>['STAT3', 'KLF5']</td>\n",
       "    </tr>\n",
       "  </tbody>\n",
       "</table>\n",
       "</div>"
      ],
      "text/plain": [
       "                           pathway                 tfs\n",
       "0           acute myeloid leukemia  ['STAT3', 'PRDM1']\n",
       "1  adipocytokine signaling pathway  ['STAT3', 'PRDM1']\n",
       "2                pancreatic cancer  ['STAT3', 'PRDM1']\n",
       "3       jak stat signaling pathway  ['STAT3', 'PRDM1']\n",
       "4           acute myeloid leukemia   ['STAT3', 'KLF5']"
      ]
     },
     "execution_count": 45,
     "metadata": {},
     "output_type": "execute_result"
    }
   ],
   "source": [
    "print(df.shape)\n",
    "df.head()"
   ]
  },
  {
   "cell_type": "code",
   "execution_count": 49,
   "id": "f3df9ae2",
   "metadata": {},
   "outputs": [
    {
     "data": {
      "text/plain": [
       "(42918, 2)"
      ]
     },
     "execution_count": 49,
     "metadata": {},
     "output_type": "execute_result"
    }
   ],
   "source": [
    "df=df.drop_duplicates(subset=['pathway', 'tfs'], keep=False)\n",
    "df.shape"
   ]
  },
  {
   "cell_type": "markdown",
   "id": "677529c5",
   "metadata": {},
   "source": [
    "## Networkx"
   ]
  },
  {
   "cell_type": "code",
   "execution_count": 8,
   "id": "58919cc7",
   "metadata": {},
   "outputs": [],
   "source": [
    "import matplotlib.pyplot as plt\n",
    "import networkx as nx\n",
    "import pandas as pd"
   ]
  },
  {
   "cell_type": "code",
   "execution_count": 13,
   "id": "be82dab3",
   "metadata": {},
   "outputs": [],
   "source": [
    "#  # Larger data preperation - SNA of Trump's Person-Person Edge List\n",
    "# # Edgelist & Adjacency list is created by myself with the dataset above\n",
    "# df1=pd.read_csv(\"file_for_network.csv\",encoding = \"ISO-8859-1\", index_col=0)\n",
    "# df1\n",
    "# p_a=df1['Gene 1']\n",
    "# p_b=df1['Gene 2']\n",
    "# df2=pd.concat([p_a,p_b],axis=0)    \n",
    "# df2_l=df2.values.tolist() # To count the frequency of names\n",
    "# # Filter vertices - each one must know 2 or more people\n",
    "# output = [] # Get unique values \n",
    "# for x in p_a:\n",
    "#     if x not in output:\n",
    "#         output.append(x)\n",
    "# for x in p_b:\n",
    "#     if x not in output:\n",
    "#         output.append(x)\n",
    "# #print (output)\n",
    "# df3=pd.DataFrame(output)\n",
    "# cnt=[]\n",
    "# for x in output:\n",
    "#     cnt.append(df2_l.count(x))\n",
    "# df3['cnt']=cnt # Add a new column of frequency of the names\n",
    "# df4=df3\n",
    "# df4=df4.drop(df3[df3.cnt>1].index) # Get the list the vertices with only 1 target\n",
    "# df4_l=df4[0].values.tolist()# list the vertices with only 1 target\n",
    "# # Drop the names who only know one person\n",
    "# for x in df4_l:\n",
    "#     df1=df1[~df1['Gene 1'].str.contains(x)]\n",
    "#     df1=df1[~df1['Gene 2'].str.contains(x)]\n",
    "# p_a1=df1['Gene 1'].values.tolist()\n",
    "# p_b1=df1['Gene 2'].values.tolist()\n",
    "# output2 = [] # Get unique values again\n",
    "# for x in p_a1:\n",
    "#     if x not in output2:\n",
    "#         output2.append(x)\n",
    "# for x in p_b1:\n",
    "#     if x not in output2:\n",
    "#         output2.append(x)"
   ]
  },
  {
   "cell_type": "code",
   "execution_count": 14,
   "id": "40f2990d",
   "metadata": {},
   "outputs": [],
   "source": [
    "# ## networkx - edgelist\n",
    "# l=list(zip(p_a1,p_b1)) # EDGELIST\n",
    "# NetxG1 = nx.Graph()\n",
    "# NetxG1.add_nodes_from(output2)\n",
    "# NetxG1.add_edges_from(l)\n",
    "# #print(list(NetxG1.nodes))\n",
    "# #print(list(NetxG1.edges))\n",
    "# plt.figure(figsize=(20,20)) \n",
    "# nx.draw(NetxG1,with_labels=True)\n",
    "# plt.savefig('foo3.png')\n",
    "# plt.savefig('foo3.pdf')\n",
    "# plt.show()"
   ]
  },
  {
   "cell_type": "code",
   "execution_count": 50,
   "id": "ab4f8965",
   "metadata": {},
   "outputs": [],
   "source": [
    "tuples = [tuple(x) for x in df.values]"
   ]
  },
  {
   "cell_type": "code",
   "execution_count": 51,
   "id": "ed3cd29d",
   "metadata": {},
   "outputs": [],
   "source": [
    "# sns.set()\n",
    "# plt.figure(figsize=(8,20))\n",
    "# ax = sns.barplot(x='Total',y='Name',data=npoke_total.sort_values(by='Total', ascending=False).head(25))\n",
    "# ax.set(xlabel='Overall', ylabel='TF')\n",
    "# plt.show()"
   ]
  },
  {
   "cell_type": "code",
   "execution_count": null,
   "id": "85f9a5f1",
   "metadata": {},
   "outputs": [
    {
     "name": "stdout",
     "output_type": "stream",
     "text": [
      "DiGraph with 9784 nodes and 42918 edges\n"
     ]
    }
   ],
   "source": [
    "\n",
    "g = nx.DiGraph()\n",
    "g.add_edges_from(tuples)\n",
    "nx.draw_networkx(g)\n",
    "print(nx.info(g))"
   ]
  },
  {
   "cell_type": "code",
   "execution_count": null,
   "id": "7790d49f",
   "metadata": {},
   "outputs": [],
   "source": [
    "plt.figure(figsize=(20, 20))\n",
    "pos=nx.spring_layout(g, k=0.15)\n",
    "nx.draw_networkx(g,pos,node_size=25, node_color='blue')\n",
    "plt.savefig('tfc_graph.png')\n",
    "plt.show()"
   ]
  },
  {
   "cell_type": "code",
   "execution_count": null,
   "id": "45f23f5f",
   "metadata": {},
   "outputs": [],
   "source": [
    "import warnings\n",
    "warnings.filterwarnings(\"ignore\", category=UserWarning)\n",
    "\n",
    "import networkx as nx\n",
    "import matplotlib.pyplot as plt\n",
    "import pandas as pd\n",
    "\n",
    "G = nx.from_pandas_edgelist(df, source='pathway', target='tfs', \\\n",
    "    create_using=nx.DiGraph)\n",
    "colors = []\n",
    "for node in G:\n",
    "    if node in df[\"pathway\"].values:\n",
    "        colors.append(\"red\")\n",
    "    else: colors.append(\"blue\")\n",
    "\n",
    "# print(colors)\n",
    "# ['lightblue', 'lightgreen', 'lightgreen', 'lightgreen', 'lightgreen',\n",
    "#  'lightblue', 'lightblue', 'lightgreen', 'lightblue', 'lightblue',\n",
    "#  'lightblue', 'lightblue', 'lightgreen', 'lightgreen']\n",
    "\n",
    "plt.figure(figsize=(20, 20))\n",
    "# <Figure size 1500x1000 with 0 Axes>\n",
    "\n",
    "nx.draw(G, pos = nx.spring_layout(G), \\\n",
    "    node_size=200, node_color=colors, linewidths=0.25, \\\n",
    "    font_size=10, font_weight='bold', with_labels=True)\n",
    "plt.savefig('tfc_graph_colour.png')\n",
    "plt.show()\n"
   ]
  },
  {
   "cell_type": "code",
   "execution_count": null,
   "id": "8228a9ba",
   "metadata": {},
   "outputs": [],
   "source": [
    "plt.show()\n",
    "# plt.savefig('tfc_graph_colour.png')"
   ]
  },
  {
   "cell_type": "code",
   "execution_count": null,
   "id": "f3705ba2",
   "metadata": {},
   "outputs": [],
   "source": [
    "# pd.set_option('precision',10)\n",
    "# G = nx.from_pandas_edgelist(df, 'pathway', 'tfs', create_using = nx.Graph())\n",
    "\n",
    "# nodes = G.nodes()\n",
    "# degree = G.degree()\n",
    "# colors = [degree[n] for n in nodes]\n",
    "# #size = [(degree[n]) for n in nodes]\n",
    "\n",
    "# pos = nx.kamada_kawai_layout(G)\n",
    "# #pos = nx.spring_layout(G, k = 0.2)\n",
    "# cmap = plt.cm.viridis_r\n",
    "# cmap = plt.cm.Greys\n",
    "\n",
    "# vmin = min(colors)\n",
    "# vmax = max(colors)\n",
    "\n",
    "# fig = plt.figure(figsize = (15,9), dpi=100)\n",
    "\n",
    "# nx.draw(G,pos,alpha = 0.8, nodelist = nodes, node_color = 'w', node_size = 10, with_labels= True,font_size = 6, width = 0.2, cmap = cmap, edge_color ='yellow')\n",
    "# fig.set_facecolor('#0B243B')\n",
    "\n",
    "# plt.legend()\n",
    "# plt.show()"
   ]
  },
  {
   "cell_type": "code",
   "execution_count": null,
   "id": "bdfb414f",
   "metadata": {},
   "outputs": [],
   "source": [
    "################ Analyse ###############\n",
    "\n",
    "# Calculation of the different coefficients of centrality and storage in a dataframe of independent nodes\n",
    "\n",
    "# We will create an output dataframe with the nodes and their attributes to store the results of the analysis\n",
    "\n",
    "# Degree of each node\n",
    "for i in sorted(G.nodes()):\n",
    "    G.nodes[i]['Degree'] = G.degree(i)\n",
    "\n",
    "\n",
    "#extraction of network nodes in a dataframe\n",
    "nodes_data = pd.DataFrame([i[1] for i in G.nodes(data=True)], index=[i[0] for i in G.nodes(data=True)])\n",
    "nodes_data = nodes_data.sort_index(ascending= False)\n",
    "nodes_data.index.names=['ID']\n",
    "nodes_data.reset_index(level=0, inplace=True)\n",
    "\n",
    "\n",
    "# Betweenness centrality \n",
    "bet_cen = nx.betweenness_centrality(G)\n",
    "df_bet_cen = pd.DataFrame.from_dict(bet_cen, orient='index')\n",
    "df_bet_cen.columns = ['betweenness_centrality']\n",
    "df_bet_cen.index.names = ['ID']\n",
    "df_bet_cen.reset_index(level=0, inplace=True)\n",
    "analyse= pd.merge(nodes_data,df_bet_cen, on = ['ID'])\n",
    "\n",
    "# Clustering coefficient \n",
    "clust_coefficients = nx.clustering(G)\n",
    "df_clust = pd.DataFrame.from_dict(clust_coefficients, orient='index')\n",
    "df_clust.columns = ['clust_coefficient']\n",
    "df_clust.index.names = ['ID']\n",
    "df_clust.reset_index(level=0, inplace=True)\n",
    "analyse= pd.merge(analyse, df_clust, on = ['ID'])\n",
    "\n",
    "# Closeness centrality \n",
    "clo_cen = nx.closeness_centrality(G)\n",
    "df_clo = pd.DataFrame.from_dict(clo_cen, orient='index')\n",
    "df_clo.columns = ['closeness_centrality']\n",
    "df_clo.index.names = ['ID']\n",
    "df_clo.reset_index(level=0, inplace=True)\n",
    "analyse= pd.merge(analyse, df_clo, on = ['ID'])\n",
    "\n",
    "# Eigenvector centrality\n",
    "#eig_cen = nx.eigenvector_centrality(G)\n",
    "#eig_cen = nx.katz_centrality(G)\n",
    "eig_cen = nx.eigenvector_centrality_numpy(G)\n",
    "df_eig = pd.DataFrame.from_dict(eig_cen, orient='index')\n",
    "df_eig.columns = ['eigenvector_centrality']\n",
    "df_eig.index.names = ['ID']\n",
    "df_eig.reset_index(level=0, inplace=True)\n",
    "analyse= pd.merge(analyse, df_eig, on = ['ID'])\n",
    "\n",
    "\n",
    "print(analyse)"
   ]
  },
  {
   "cell_type": "code",
   "execution_count": null,
   "id": "cce79eae",
   "metadata": {},
   "outputs": [],
   "source": [
    "df_analyse = analyse.sort_values(by=['Degree'],ascending=False, inplace=True)\n",
    "analyse.head()\n",
    "analyse.to_csv(\"tfc_graph_analysis.csv\")"
   ]
  },
  {
   "cell_type": "code",
   "execution_count": null,
   "id": "05aac83e",
   "metadata": {},
   "outputs": [],
   "source": []
  }
 ],
 "metadata": {
  "kernelspec": {
   "display_name": "Python 3 (ipykernel)",
   "language": "python",
   "name": "python3"
  },
  "language_info": {
   "codemirror_mode": {
    "name": "ipython",
    "version": 3
   },
   "file_extension": ".py",
   "mimetype": "text/x-python",
   "name": "python",
   "nbconvert_exporter": "python",
   "pygments_lexer": "ipython3",
   "version": "3.8.5"
  }
 },
 "nbformat": 4,
 "nbformat_minor": 5
}
