{
 "cells": [
  {
   "cell_type": "code",
   "execution_count": 1,
   "id": "d50081d5",
   "metadata": {},
   "outputs": [],
   "source": [
    "!pip install -q stellargraph[demos]==1.2.1"
   ]
  },
  {
   "cell_type": "code",
   "execution_count": 2,
   "id": "3257a192",
   "metadata": {},
   "outputs": [],
   "source": [
    "!pip install -q openpyxl"
   ]
  },
  {
   "cell_type": "code",
   "execution_count": 5,
   "id": "d3b63621",
   "metadata": {},
   "outputs": [],
   "source": [
    "# !pip install tensorflow-gpu"
   ]
  },
  {
   "cell_type": "code",
   "execution_count": 6,
   "id": "037494cf",
   "metadata": {},
   "outputs": [],
   "source": [
    "# verify that we're using the correct version of StellarGraph for this notebook\n",
    "import stellargraph as sg\n",
    "\n",
    "try:\n",
    "    sg.utils.validate_notebook_version(\"1.2.1\")\n",
    "except AttributeError:\n",
    "    raise ValueError(\n",
    "        f\"This notebook requires StellarGraph version 1.2.1, but a different version {sg.__version__} is installed.  Please see <https://github.com/stellargraph/stellargraph/issues/1172>.\"\n",
    "    ) from None"
   ]
  },
  {
   "cell_type": "code",
   "execution_count": 7,
   "id": "9b03af70",
   "metadata": {},
   "outputs": [
    {
     "name": "stdout",
     "output_type": "stream",
     "text": [
      "dummy.xlsx\t      GCN-3 networkx for tf-pathway.ipynb\n",
      "file_for_network.csv  GCN-4 stelllargraph.ipynb\n",
      "foo3.pdf\t      GCN.ipynb\n",
      "foo3.png\t      pathway-tf.xlsx\n",
      "foo.pdf\t\t      tfc_graph_analysis.csv\n",
      "foo.png\t\t      tfc_graph_colour.png\n",
      "GCN-2.ipynb\n"
     ]
    }
   ],
   "source": [
    "!ls"
   ]
  },
  {
   "cell_type": "code",
   "execution_count": 13,
   "id": "4df09017",
   "metadata": {},
   "outputs": [],
   "source": [
    "from stellargraph import StellarGraph\n",
    "import json\n",
    "import pandas as pd\n",
    "import numpy as np\n",
    "from sklearn import preprocessing, feature_extraction, model_selection\n",
    "from sklearn.metrics import mean_absolute_error, mean_squared_error\n",
    "\n",
    "import stellargraph as sg\n",
    "from stellargraph.mapper import HinSAGELinkGenerator\n",
    "from stellargraph.layer import HinSAGE, link_regression\n",
    "from tensorflow.keras import Model, optimizers, losses, metrics\n",
    "\n",
    "import multiprocessing\n",
    "from stellargraph import datasets\n",
    "from IPython.display import display, HTML\n",
    "import matplotlib.pyplot as plt\n",
    "%matplotlib inline"
   ]
  },
  {
   "cell_type": "code",
   "execution_count": 14,
   "id": "6ccc75f2",
   "metadata": {},
   "outputs": [],
   "source": [
    "import pandas as pd"
   ]
  },
  {
   "cell_type": "code",
   "execution_count": 15,
   "id": "029613f3",
   "metadata": {},
   "outputs": [
    {
     "data": {
      "text/html": [
       "<div>\n",
       "<style scoped>\n",
       "    .dataframe tbody tr th:only-of-type {\n",
       "        vertical-align: middle;\n",
       "    }\n",
       "\n",
       "    .dataframe tbody tr th {\n",
       "        vertical-align: top;\n",
       "    }\n",
       "\n",
       "    .dataframe thead th {\n",
       "        text-align: right;\n",
       "    }\n",
       "</style>\n",
       "<table border=\"1\" class=\"dataframe\">\n",
       "  <thead>\n",
       "    <tr style=\"text-align: right;\">\n",
       "      <th></th>\n",
       "      <th>pathway</th>\n",
       "      <th>tfs</th>\n",
       "    </tr>\n",
       "  </thead>\n",
       "  <tbody>\n",
       "    <tr>\n",
       "      <th>0</th>\n",
       "      <td>acute myeloid leukemia</td>\n",
       "      <td>['STAT3', 'PRDM1']</td>\n",
       "    </tr>\n",
       "    <tr>\n",
       "      <th>1</th>\n",
       "      <td>adipocytokine signaling pathway</td>\n",
       "      <td>['STAT3', 'PRDM1']</td>\n",
       "    </tr>\n",
       "    <tr>\n",
       "      <th>2</th>\n",
       "      <td>pancreatic cancer</td>\n",
       "      <td>['STAT3', 'PRDM1']</td>\n",
       "    </tr>\n",
       "    <tr>\n",
       "      <th>3</th>\n",
       "      <td>jak stat signaling pathway</td>\n",
       "      <td>['STAT3', 'PRDM1']</td>\n",
       "    </tr>\n",
       "    <tr>\n",
       "      <th>4</th>\n",
       "      <td>acute myeloid leukemia</td>\n",
       "      <td>['STAT3', 'KLF5']</td>\n",
       "    </tr>\n",
       "    <tr>\n",
       "      <th>...</th>\n",
       "      <td>...</td>\n",
       "      <td>...</td>\n",
       "    </tr>\n",
       "    <tr>\n",
       "      <th>1048570</th>\n",
       "      <td>cell cycle</td>\n",
       "      <td>['LEF1', 'MYC', 'SNAI1', 'NANOG', 'POU5F1', 'S...</td>\n",
       "    </tr>\n",
       "    <tr>\n",
       "      <th>1048571</th>\n",
       "      <td>focal adhesion</td>\n",
       "      <td>['LEF1', 'MYC', 'SNAI1', 'NANOG', 'POU5F1', 'S...</td>\n",
       "    </tr>\n",
       "    <tr>\n",
       "      <th>1048572</th>\n",
       "      <td>neuroactive ligand receptor interaction</td>\n",
       "      <td>['LEF1', 'MYC', 'SNAI1', 'NANOG', 'POU5F1', 'S...</td>\n",
       "    </tr>\n",
       "    <tr>\n",
       "      <th>1048573</th>\n",
       "      <td>prostate cancer</td>\n",
       "      <td>['SMAD4', 'TBX18', 'SNAI2', 'STAT1', 'TBX21', ...</td>\n",
       "    </tr>\n",
       "    <tr>\n",
       "      <th>1048574</th>\n",
       "      <td>pancreatic cancer</td>\n",
       "      <td>['SMAD4', 'TBX18', 'SNAI2', 'STAT1', 'TBX21', ...</td>\n",
       "    </tr>\n",
       "  </tbody>\n",
       "</table>\n",
       "<p>1048575 rows × 2 columns</p>\n",
       "</div>"
      ],
      "text/plain": [
       "                                         pathway  \\\n",
       "0                         acute myeloid leukemia   \n",
       "1                adipocytokine signaling pathway   \n",
       "2                              pancreatic cancer   \n",
       "3                     jak stat signaling pathway   \n",
       "4                         acute myeloid leukemia   \n",
       "...                                          ...   \n",
       "1048570                               cell cycle   \n",
       "1048571                           focal adhesion   \n",
       "1048572  neuroactive ligand receptor interaction   \n",
       "1048573                          prostate cancer   \n",
       "1048574                        pancreatic cancer   \n",
       "\n",
       "                                                       tfs  \n",
       "0                                       ['STAT3', 'PRDM1']  \n",
       "1                                       ['STAT3', 'PRDM1']  \n",
       "2                                       ['STAT3', 'PRDM1']  \n",
       "3                                       ['STAT3', 'PRDM1']  \n",
       "4                                        ['STAT3', 'KLF5']  \n",
       "...                                                    ...  \n",
       "1048570  ['LEF1', 'MYC', 'SNAI1', 'NANOG', 'POU5F1', 'S...  \n",
       "1048571  ['LEF1', 'MYC', 'SNAI1', 'NANOG', 'POU5F1', 'S...  \n",
       "1048572  ['LEF1', 'MYC', 'SNAI1', 'NANOG', 'POU5F1', 'S...  \n",
       "1048573  ['SMAD4', 'TBX18', 'SNAI2', 'STAT1', 'TBX21', ...  \n",
       "1048574  ['SMAD4', 'TBX18', 'SNAI2', 'STAT1', 'TBX21', ...  \n",
       "\n",
       "[1048575 rows x 2 columns]"
      ]
     },
     "execution_count": 15,
     "metadata": {},
     "output_type": "execute_result"
    }
   ],
   "source": [
    "xl = pd.ExcelFile(\"pathway-tf.xlsx\")\n",
    "df = xl.parse(\"Sheet1\", header=None)\n",
    "df.columns=[\"pathway\",\"tfs\"]\n",
    "# df=df.head()\n",
    "df"
   ]
  },
  {
   "cell_type": "code",
   "execution_count": 16,
   "id": "90656631",
   "metadata": {},
   "outputs": [
    {
     "data": {
      "text/plain": [
       "str"
      ]
     },
     "execution_count": 16,
     "metadata": {},
     "output_type": "execute_result"
    }
   ],
   "source": [
    "df.tfs[1].__class__"
   ]
  },
  {
   "cell_type": "code",
   "execution_count": 17,
   "id": "ae498aab",
   "metadata": {},
   "outputs": [],
   "source": [
    "# import ast\n",
    "# for i in range(len(df)):\n",
    "#     x =df.tfs[i]\n",
    "#     x = ast.literal_eval(x)\n",
    "#     x = [n.strip() for n in x]\n",
    "#     df.tfs[i]=x\n"
   ]
  },
  {
   "cell_type": "code",
   "execution_count": 18,
   "id": "e117fb96",
   "metadata": {},
   "outputs": [],
   "source": [
    "# x.__class__"
   ]
  },
  {
   "cell_type": "code",
   "execution_count": 19,
   "id": "8a3f4322",
   "metadata": {},
   "outputs": [],
   "source": [
    "# df[['tf1','tf2']] = pd.DataFrame(df.tfs.tolist(), index= df.index)"
   ]
  },
  {
   "cell_type": "code",
   "execution_count": 20,
   "id": "0a67b3a6",
   "metadata": {},
   "outputs": [],
   "source": [
    "# df.drop([\"tfs\"],axis=1, inplace=True)\n",
    "# df"
   ]
  },
  {
   "cell_type": "code",
   "execution_count": 21,
   "id": "f7599d0e",
   "metadata": {},
   "outputs": [
    {
     "name": "stdout",
     "output_type": "stream",
     "text": [
      "(1048575, 2)\n"
     ]
    },
    {
     "data": {
      "text/html": [
       "<div>\n",
       "<style scoped>\n",
       "    .dataframe tbody tr th:only-of-type {\n",
       "        vertical-align: middle;\n",
       "    }\n",
       "\n",
       "    .dataframe tbody tr th {\n",
       "        vertical-align: top;\n",
       "    }\n",
       "\n",
       "    .dataframe thead th {\n",
       "        text-align: right;\n",
       "    }\n",
       "</style>\n",
       "<table border=\"1\" class=\"dataframe\">\n",
       "  <thead>\n",
       "    <tr style=\"text-align: right;\">\n",
       "      <th></th>\n",
       "      <th>pathway</th>\n",
       "      <th>tfs</th>\n",
       "    </tr>\n",
       "  </thead>\n",
       "  <tbody>\n",
       "    <tr>\n",
       "      <th>0</th>\n",
       "      <td>acute myeloid leukemia</td>\n",
       "      <td>['STAT3', 'PRDM1']</td>\n",
       "    </tr>\n",
       "    <tr>\n",
       "      <th>1</th>\n",
       "      <td>adipocytokine signaling pathway</td>\n",
       "      <td>['STAT3', 'PRDM1']</td>\n",
       "    </tr>\n",
       "    <tr>\n",
       "      <th>2</th>\n",
       "      <td>pancreatic cancer</td>\n",
       "      <td>['STAT3', 'PRDM1']</td>\n",
       "    </tr>\n",
       "    <tr>\n",
       "      <th>3</th>\n",
       "      <td>jak stat signaling pathway</td>\n",
       "      <td>['STAT3', 'PRDM1']</td>\n",
       "    </tr>\n",
       "    <tr>\n",
       "      <th>4</th>\n",
       "      <td>acute myeloid leukemia</td>\n",
       "      <td>['STAT3', 'KLF5']</td>\n",
       "    </tr>\n",
       "  </tbody>\n",
       "</table>\n",
       "</div>"
      ],
      "text/plain": [
       "                           pathway                 tfs\n",
       "0           acute myeloid leukemia  ['STAT3', 'PRDM1']\n",
       "1  adipocytokine signaling pathway  ['STAT3', 'PRDM1']\n",
       "2                pancreatic cancer  ['STAT3', 'PRDM1']\n",
       "3       jak stat signaling pathway  ['STAT3', 'PRDM1']\n",
       "4           acute myeloid leukemia   ['STAT3', 'KLF5']"
      ]
     },
     "execution_count": 21,
     "metadata": {},
     "output_type": "execute_result"
    }
   ],
   "source": [
    "print(df.shape)\n",
    "df.head()"
   ]
  },
  {
   "cell_type": "code",
   "execution_count": 22,
   "id": "f38e00a2",
   "metadata": {},
   "outputs": [
    {
     "data": {
      "text/plain": [
       "(42918, 2)"
      ]
     },
     "execution_count": 22,
     "metadata": {},
     "output_type": "execute_result"
    }
   ],
   "source": [
    "df=df.drop_duplicates(subset=['pathway', 'tfs'], keep=False)\n",
    "df.shape"
   ]
  },
  {
   "cell_type": "code",
   "execution_count": 32,
   "id": "e84af555",
   "metadata": {},
   "outputs": [],
   "source": [
    "df.columns=[\"target\",\"source\"]"
   ]
  },
  {
   "cell_type": "markdown",
   "id": "0cc27597",
   "metadata": {},
   "source": [
    "## Stellargraph"
   ]
  },
  {
   "cell_type": "code",
   "execution_count": 33,
   "id": "27ff42f0",
   "metadata": {},
   "outputs": [
    {
     "data": {
      "text/html": [
       "<div>\n",
       "<style scoped>\n",
       "    .dataframe tbody tr th:only-of-type {\n",
       "        vertical-align: middle;\n",
       "    }\n",
       "\n",
       "    .dataframe tbody tr th {\n",
       "        vertical-align: top;\n",
       "    }\n",
       "\n",
       "    .dataframe thead th {\n",
       "        text-align: right;\n",
       "    }\n",
       "</style>\n",
       "<table border=\"1\" class=\"dataframe\">\n",
       "  <thead>\n",
       "    <tr style=\"text-align: right;\">\n",
       "      <th></th>\n",
       "      <th>target</th>\n",
       "      <th>source</th>\n",
       "    </tr>\n",
       "  </thead>\n",
       "  <tbody>\n",
       "    <tr>\n",
       "      <th>24</th>\n",
       "      <td>lysine degradation</td>\n",
       "      <td>['SETDB1', 'STAT3']</td>\n",
       "    </tr>\n",
       "    <tr>\n",
       "      <th>29</th>\n",
       "      <td>methionine metabolism</td>\n",
       "      <td>['STAT3', 'DNMT1']</td>\n",
       "    </tr>\n",
       "    <tr>\n",
       "      <th>174</th>\n",
       "      <td>vegf signaling pathway</td>\n",
       "      <td>['STAT3', 'NFATC2']</td>\n",
       "    </tr>\n",
       "    <tr>\n",
       "      <th>177</th>\n",
       "      <td>axon guidance</td>\n",
       "      <td>['STAT3', 'NFATC2']</td>\n",
       "    </tr>\n",
       "    <tr>\n",
       "      <th>178</th>\n",
       "      <td>natural killer cell mediated cytotoxicity</td>\n",
       "      <td>['STAT3', 'NFATC2']</td>\n",
       "    </tr>\n",
       "    <tr>\n",
       "      <th>...</th>\n",
       "      <td>...</td>\n",
       "      <td>...</td>\n",
       "    </tr>\n",
       "    <tr>\n",
       "      <th>1048493</th>\n",
       "      <td>notch signaling pathway</td>\n",
       "      <td>['HMGA2', 'SOX2', 'NANOG', 'POU5F1', 'SALL4', ...</td>\n",
       "    </tr>\n",
       "    <tr>\n",
       "      <th>1048552</th>\n",
       "      <td>vegf signaling pathway</td>\n",
       "      <td>['LEF1', 'MYC', 'SNAI1', 'NANOG', 'POU5F1', 'S...</td>\n",
       "    </tr>\n",
       "    <tr>\n",
       "      <th>1048556</th>\n",
       "      <td>circadian rhythm</td>\n",
       "      <td>['LEF1', 'MYC', 'SNAI1', 'NANOG', 'POU5F1', 'S...</td>\n",
       "    </tr>\n",
       "    <tr>\n",
       "      <th>1048557</th>\n",
       "      <td>axon guidance</td>\n",
       "      <td>['LEF1', 'MYC', 'SNAI1', 'NANOG', 'POU5F1', 'S...</td>\n",
       "    </tr>\n",
       "    <tr>\n",
       "      <th>1048558</th>\n",
       "      <td>natural killer cell mediated cytotoxicity</td>\n",
       "      <td>['LEF1', 'MYC', 'SNAI1', 'NANOG', 'POU5F1', 'S...</td>\n",
       "    </tr>\n",
       "  </tbody>\n",
       "</table>\n",
       "<p>42918 rows × 2 columns</p>\n",
       "</div>"
      ],
      "text/plain": [
       "                                            target  \\\n",
       "24                              lysine degradation   \n",
       "29                           methionine metabolism   \n",
       "174                         vegf signaling pathway   \n",
       "177                                  axon guidance   \n",
       "178      natural killer cell mediated cytotoxicity   \n",
       "...                                            ...   \n",
       "1048493                    notch signaling pathway   \n",
       "1048552                     vegf signaling pathway   \n",
       "1048556                           circadian rhythm   \n",
       "1048557                              axon guidance   \n",
       "1048558  natural killer cell mediated cytotoxicity   \n",
       "\n",
       "                                                    source  \n",
       "24                                     ['SETDB1', 'STAT3']  \n",
       "29                                      ['STAT3', 'DNMT1']  \n",
       "174                                    ['STAT3', 'NFATC2']  \n",
       "177                                    ['STAT3', 'NFATC2']  \n",
       "178                                    ['STAT3', 'NFATC2']  \n",
       "...                                                    ...  \n",
       "1048493  ['HMGA2', 'SOX2', 'NANOG', 'POU5F1', 'SALL4', ...  \n",
       "1048552  ['LEF1', 'MYC', 'SNAI1', 'NANOG', 'POU5F1', 'S...  \n",
       "1048556  ['LEF1', 'MYC', 'SNAI1', 'NANOG', 'POU5F1', 'S...  \n",
       "1048557  ['LEF1', 'MYC', 'SNAI1', 'NANOG', 'POU5F1', 'S...  \n",
       "1048558  ['LEF1', 'MYC', 'SNAI1', 'NANOG', 'POU5F1', 'S...  \n",
       "\n",
       "[42918 rows x 2 columns]"
      ]
     },
     "execution_count": 33,
     "metadata": {},
     "output_type": "execute_result"
    }
   ],
   "source": [
    "square_edges = df\n"
   ]
  },
  {
   "cell_type": "code",
   "execution_count": 37,
   "id": "b096401d",
   "metadata": {},
   "outputs": [
    {
     "name": "stdout",
     "output_type": "stream",
     "text": [
      "StellarGraph: Undirected multigraph\n",
      " Nodes: 9784, Edges: 42918\n",
      "\n",
      " Node types:\n",
      "  tfs: [9784]\n",
      "    Features: none\n",
      "    Edge types: tfs-pathway->tfs\n",
      "\n",
      " Edge types:\n",
      "    tfs-pathway->tfs: [42918]\n",
      "        Weights: all 1 (default)\n",
      "        Features: none\n"
     ]
    }
   ],
   "source": [
    "square_named = StellarGraph(\n",
    "    edges=square_edges, node_type_default=\"tfs\", edge_type_default=\"pathway\"\n",
    ")\n",
    "print(square_named.info())"
   ]
  },
  {
   "cell_type": "code",
   "execution_count": 39,
   "id": "a9c49e34",
   "metadata": {},
   "outputs": [
    {
     "data": {
      "text/plain": [
       "<stellargraph.core.graph.StellarGraph at 0x7f5691b910d0>"
      ]
     },
     "execution_count": 39,
     "metadata": {},
     "output_type": "execute_result"
    }
   ],
   "source": [
    "square_named"
   ]
  },
  {
   "cell_type": "code",
   "execution_count": 41,
   "id": "1eab753d",
   "metadata": {},
   "outputs": [
    {
     "data": {
      "text/html": [
       "<div>\n",
       "<style scoped>\n",
       "    .dataframe tbody tr th:only-of-type {\n",
       "        vertical-align: middle;\n",
       "    }\n",
       "\n",
       "    .dataframe tbody tr th {\n",
       "        vertical-align: top;\n",
       "    }\n",
       "\n",
       "    .dataframe thead th {\n",
       "        text-align: right;\n",
       "    }\n",
       "</style>\n",
       "<table border=\"1\" class=\"dataframe\">\n",
       "  <thead>\n",
       "    <tr style=\"text-align: right;\">\n",
       "      <th></th>\n",
       "      <th>pathway</th>\n",
       "      <th>tfs</th>\n",
       "    </tr>\n",
       "  </thead>\n",
       "  <tbody>\n",
       "    <tr>\n",
       "      <th>24</th>\n",
       "      <td>lysine degradation</td>\n",
       "      <td>['SETDB1', 'STAT3']</td>\n",
       "    </tr>\n",
       "    <tr>\n",
       "      <th>29</th>\n",
       "      <td>methionine metabolism</td>\n",
       "      <td>['STAT3', 'DNMT1']</td>\n",
       "    </tr>\n",
       "    <tr>\n",
       "      <th>174</th>\n",
       "      <td>vegf signaling pathway</td>\n",
       "      <td>['STAT3', 'NFATC2']</td>\n",
       "    </tr>\n",
       "    <tr>\n",
       "      <th>177</th>\n",
       "      <td>axon guidance</td>\n",
       "      <td>['STAT3', 'NFATC2']</td>\n",
       "    </tr>\n",
       "    <tr>\n",
       "      <th>178</th>\n",
       "      <td>natural killer cell mediated cytotoxicity</td>\n",
       "      <td>['STAT3', 'NFATC2']</td>\n",
       "    </tr>\n",
       "    <tr>\n",
       "      <th>...</th>\n",
       "      <td>...</td>\n",
       "      <td>...</td>\n",
       "    </tr>\n",
       "    <tr>\n",
       "      <th>1048493</th>\n",
       "      <td>notch signaling pathway</td>\n",
       "      <td>['HMGA2', 'SOX2', 'NANOG', 'POU5F1', 'SALL4', ...</td>\n",
       "    </tr>\n",
       "    <tr>\n",
       "      <th>1048552</th>\n",
       "      <td>vegf signaling pathway</td>\n",
       "      <td>['LEF1', 'MYC', 'SNAI1', 'NANOG', 'POU5F1', 'S...</td>\n",
       "    </tr>\n",
       "    <tr>\n",
       "      <th>1048556</th>\n",
       "      <td>circadian rhythm</td>\n",
       "      <td>['LEF1', 'MYC', 'SNAI1', 'NANOG', 'POU5F1', 'S...</td>\n",
       "    </tr>\n",
       "    <tr>\n",
       "      <th>1048557</th>\n",
       "      <td>axon guidance</td>\n",
       "      <td>['LEF1', 'MYC', 'SNAI1', 'NANOG', 'POU5F1', 'S...</td>\n",
       "    </tr>\n",
       "    <tr>\n",
       "      <th>1048558</th>\n",
       "      <td>natural killer cell mediated cytotoxicity</td>\n",
       "      <td>['LEF1', 'MYC', 'SNAI1', 'NANOG', 'POU5F1', 'S...</td>\n",
       "    </tr>\n",
       "  </tbody>\n",
       "</table>\n",
       "<p>42918 rows × 2 columns</p>\n",
       "</div>"
      ],
      "text/plain": [
       "                                           pathway  \\\n",
       "24                              lysine degradation   \n",
       "29                           methionine metabolism   \n",
       "174                         vegf signaling pathway   \n",
       "177                                  axon guidance   \n",
       "178      natural killer cell mediated cytotoxicity   \n",
       "...                                            ...   \n",
       "1048493                    notch signaling pathway   \n",
       "1048552                     vegf signaling pathway   \n",
       "1048556                           circadian rhythm   \n",
       "1048557                              axon guidance   \n",
       "1048558  natural killer cell mediated cytotoxicity   \n",
       "\n",
       "                                                       tfs  \n",
       "24                                     ['SETDB1', 'STAT3']  \n",
       "29                                      ['STAT3', 'DNMT1']  \n",
       "174                                    ['STAT3', 'NFATC2']  \n",
       "177                                    ['STAT3', 'NFATC2']  \n",
       "178                                    ['STAT3', 'NFATC2']  \n",
       "...                                                    ...  \n",
       "1048493  ['HMGA2', 'SOX2', 'NANOG', 'POU5F1', 'SALL4', ...  \n",
       "1048552  ['LEF1', 'MYC', 'SNAI1', 'NANOG', 'POU5F1', 'S...  \n",
       "1048556  ['LEF1', 'MYC', 'SNAI1', 'NANOG', 'POU5F1', 'S...  \n",
       "1048557  ['LEF1', 'MYC', 'SNAI1', 'NANOG', 'POU5F1', 'S...  \n",
       "1048558  ['LEF1', 'MYC', 'SNAI1', 'NANOG', 'POU5F1', 'S...  \n",
       "\n",
       "[42918 rows x 2 columns]"
      ]
     },
     "execution_count": 41,
     "metadata": {},
     "output_type": "execute_result"
    }
   ],
   "source": [
    "square_edges_first_second = square_edges.rename(\n",
    "    columns={\"source\": \"tfs\", \"target\": \"pathway\"}\n",
    ")\n",
    "square_edges_first_second"
   ]
  },
  {
   "cell_type": "code",
   "execution_count": 43,
   "id": "ed35ad4e",
   "metadata": {},
   "outputs": [
    {
     "name": "stdout",
     "output_type": "stream",
     "text": [
      "StellarGraph: Undirected multigraph\n",
      " Nodes: 9784, Edges: 42918\n",
      "\n",
      " Node types:\n",
      "  tfs: [9784]\n",
      "    Features: none\n",
      "    Edge types: tfs-pathway->tfs\n",
      "\n",
      " Edge types:\n",
      "    tfs-pathway->tfs: [42918]\n",
      "        Weights: all 1 (default)\n",
      "        Features: none\n"
     ]
    }
   ],
   "source": [
    "square_first_second = StellarGraph(\n",
    "    edges=square_edges_first_second, source_column=\"tfs\", target_column=\"pathway\",node_type_default=\"tfs\", edge_type_default=\"pathway\"\n",
    ")\n",
    "print(square_first_second.info())"
   ]
  },
  {
   "cell_type": "code",
   "execution_count": 45,
   "id": "10b03b64",
   "metadata": {},
   "outputs": [],
   "source": [
    "\n",
    "import stellargraph as sg\n",
    "from stellargraph.data import EdgeSplitter\n",
    "from stellargraph.mapper import GraphSAGELinkGenerator\n",
    "from stellargraph.layer import GraphSAGE, HinSAGE, link_classification\n",
    "\n",
    "from tensorflow import keras\n",
    "from sklearn import preprocessing, feature_extraction, model_selection\n",
    "\n",
    "from stellargraph import globalvar\n",
    "from stellargraph import datasets\n",
    "from IPython.display import display, HTML\n",
    "%matplotlib inline"
   ]
  },
  {
   "cell_type": "code",
   "execution_count": 47,
   "id": "8f4b0058",
   "metadata": {},
   "outputs": [
    {
     "name": "stdout",
     "output_type": "stream",
     "text": [
      "StellarGraph: Undirected multigraph\n",
      " Nodes: 9784, Edges: 42918\n",
      "\n",
      " Node types:\n",
      "  tfs: [9784]\n",
      "    Features: none\n",
      "    Edge types: tfs-pathway->tfs\n",
      "\n",
      " Edge types:\n",
      "    tfs-pathway->tfs: [42918]\n",
      "        Weights: all 1 (default)\n",
      "        Features: none\n"
     ]
    }
   ],
   "source": [
    "G=square_first_second\n",
    "print(G.info())"
   ]
  },
  {
   "cell_type": "code",
   "execution_count": 48,
   "id": "4c22659e",
   "metadata": {},
   "outputs": [
    {
     "name": "stdout",
     "output_type": "stream",
     "text": [
      "** Sampled 4291 positive and 4291 negative edges. **\n"
     ]
    }
   ],
   "source": [
    "# Define an edge splitter on the original graph G:\n",
    "edge_splitter_test = EdgeSplitter(G)\n",
    "\n",
    "# Randomly sample a fraction p=0.1 of all positive links, and same number of negative links, from G, and obtain the\n",
    "# reduced graph G_test with the sampled links removed:\n",
    "G_test, edge_ids_test, edge_labels_test = edge_splitter_test.train_test_split(\n",
    "    p=0.1, method=\"global\", keep_connected=True\n",
    ")"
   ]
  },
  {
   "cell_type": "code",
   "execution_count": 51,
   "id": "b627da03",
   "metadata": {},
   "outputs": [
    {
     "name": "stdout",
     "output_type": "stream",
     "text": [
      "** Sampled 3862 positive and 3862 negative edges. **\n"
     ]
    }
   ],
   "source": [
    "# Define an edge splitter on the reduced graph G_test:\n",
    "edge_splitter_train = EdgeSplitter(G_test)\n",
    "\n",
    "# Randomly sample a fraction p=0.1 of all positive links, and same number of negative links, from G_test, and obtain the\n",
    "# reduced graph G_train with the sampled links removed:\n",
    "G_train, edge_ids_train, edge_labels_train = edge_splitter_train.train_test_split(\n",
    "    p=0.1, method=\"global\", keep_connected=True\n",
    ")"
   ]
  },
  {
   "cell_type": "code",
   "execution_count": 52,
   "id": "27be854d",
   "metadata": {},
   "outputs": [
    {
     "name": "stdout",
     "output_type": "stream",
     "text": [
      "StellarGraph: Undirected multigraph\n",
      " Nodes: 9784, Edges: 34765\n",
      "\n",
      " Node types:\n",
      "  tfs: [9784]\n",
      "    Features: none\n",
      "    Edge types: tfs-pathway->tfs\n",
      "\n",
      " Edge types:\n",
      "    tfs-pathway->tfs: [34765]\n",
      "        Weights: all 1 (default)\n",
      "        Features: none\n"
     ]
    }
   ],
   "source": [
    "print(G_train.info())"
   ]
  },
  {
   "cell_type": "code",
   "execution_count": 50,
   "id": "283611b6",
   "metadata": {},
   "outputs": [
    {
     "name": "stdout",
     "output_type": "stream",
     "text": [
      "StellarGraph: Undirected multigraph\n",
      " Nodes: 9784, Edges: 38627\n",
      "\n",
      " Node types:\n",
      "  tfs: [9784]\n",
      "    Features: none\n",
      "    Edge types: tfs-pathway->tfs\n",
      "\n",
      " Edge types:\n",
      "    tfs-pathway->tfs: [38627]\n",
      "        Weights: all 1 (default)\n",
      "        Features: none\n"
     ]
    }
   ],
   "source": [
    "print(G_test.info())"
   ]
  },
  {
   "cell_type": "code",
   "execution_count": 53,
   "id": "90e26693",
   "metadata": {},
   "outputs": [],
   "source": [
    "batch_size = 20\n",
    "epochs = 20"
   ]
  },
  {
   "cell_type": "code",
   "execution_count": 54,
   "id": "3a0cc51f",
   "metadata": {},
   "outputs": [],
   "source": [
    "num_samples = [20, 10]"
   ]
  },
  {
   "cell_type": "code",
   "execution_count": null,
   "id": "040cf712",
   "metadata": {},
   "outputs": [],
   "source": [
    "train_gen = GraphSAGELinkGenerator(G_train, batch_size, num_samples)\n",
    "train_flow = train_gen.flow(edge_ids_train, edge_labels_train, shuffle=True)"
   ]
  },
  {
   "cell_type": "code",
   "execution_count": 55,
   "id": "3163f67b",
   "metadata": {},
   "outputs": [
    {
     "ename": "RuntimeError",
     "evalue": "This StellarGraph has no numeric feature attributes for nodesNode features are required for machine learning",
     "output_type": "error",
     "traceback": [
      "\u001b[0;31m---------------------------------------------------------------------------\u001b[0m",
      "\u001b[0;31mRuntimeError\u001b[0m                              Traceback (most recent call last)",
      "\u001b[0;32m/scratch/slurm-261161/ipykernel_21611/768129456.py\u001b[0m in \u001b[0;36m<module>\u001b[0;34m\u001b[0m\n\u001b[0;32m----> 1\u001b[0;31m \u001b[0mtest_gen\u001b[0m \u001b[0;34m=\u001b[0m \u001b[0mGraphSAGELinkGenerator\u001b[0m\u001b[0;34m(\u001b[0m\u001b[0mG_test\u001b[0m\u001b[0;34m,\u001b[0m \u001b[0mbatch_size\u001b[0m\u001b[0;34m,\u001b[0m \u001b[0mnum_samples\u001b[0m\u001b[0;34m)\u001b[0m\u001b[0;34m\u001b[0m\u001b[0;34m\u001b[0m\u001b[0m\n\u001b[0m\u001b[1;32m      2\u001b[0m \u001b[0mtest_flow\u001b[0m \u001b[0;34m=\u001b[0m \u001b[0mtest_gen\u001b[0m\u001b[0;34m.\u001b[0m\u001b[0mflow\u001b[0m\u001b[0;34m(\u001b[0m\u001b[0medge_ids_test\u001b[0m\u001b[0;34m,\u001b[0m \u001b[0medge_labels_test\u001b[0m\u001b[0;34m)\u001b[0m\u001b[0;34m\u001b[0m\u001b[0;34m\u001b[0m\u001b[0m\n",
      "\u001b[0;32m~/.local/lib/python3.8/site-packages/stellargraph/mapper/sampled_link_generators.py\u001b[0m in \u001b[0;36m__init__\u001b[0;34m(self, G, batch_size, num_samples, seed, name, weighted)\u001b[0m\n\u001b[1;32m    244\u001b[0m         \u001b[0mself\u001b[0m\u001b[0;34m,\u001b[0m \u001b[0mG\u001b[0m\u001b[0;34m,\u001b[0m \u001b[0mbatch_size\u001b[0m\u001b[0;34m,\u001b[0m \u001b[0mnum_samples\u001b[0m\u001b[0;34m,\u001b[0m \u001b[0mseed\u001b[0m\u001b[0;34m=\u001b[0m\u001b[0;32mNone\u001b[0m\u001b[0;34m,\u001b[0m \u001b[0mname\u001b[0m\u001b[0;34m=\u001b[0m\u001b[0;32mNone\u001b[0m\u001b[0;34m,\u001b[0m \u001b[0mweighted\u001b[0m\u001b[0;34m=\u001b[0m\u001b[0;32mFalse\u001b[0m\u001b[0;34m\u001b[0m\u001b[0;34m\u001b[0m\u001b[0m\n\u001b[1;32m    245\u001b[0m     ):\n\u001b[0;32m--> 246\u001b[0;31m         \u001b[0msuper\u001b[0m\u001b[0;34m(\u001b[0m\u001b[0;34m)\u001b[0m\u001b[0;34m.\u001b[0m\u001b[0m__init__\u001b[0m\u001b[0;34m(\u001b[0m\u001b[0mG\u001b[0m\u001b[0;34m,\u001b[0m \u001b[0mbatch_size\u001b[0m\u001b[0;34m)\u001b[0m\u001b[0;34m\u001b[0m\u001b[0;34m\u001b[0m\u001b[0m\n\u001b[0m\u001b[1;32m    247\u001b[0m \u001b[0;34m\u001b[0m\u001b[0m\n\u001b[1;32m    248\u001b[0m         \u001b[0mself\u001b[0m\u001b[0;34m.\u001b[0m\u001b[0mnum_samples\u001b[0m \u001b[0;34m=\u001b[0m \u001b[0mnum_samples\u001b[0m\u001b[0;34m\u001b[0m\u001b[0;34m\u001b[0m\u001b[0m\n",
      "\u001b[0;32m~/.local/lib/python3.8/site-packages/stellargraph/mapper/sampled_link_generators.py\u001b[0m in \u001b[0;36m__init__\u001b[0;34m(self, G, batch_size, schema, use_node_features)\u001b[0m\n\u001b[1;32m     79\u001b[0m         \u001b[0;31m# Check if the graph has features\u001b[0m\u001b[0;34m\u001b[0m\u001b[0;34m\u001b[0m\u001b[0;34m\u001b[0m\u001b[0m\n\u001b[1;32m     80\u001b[0m         \u001b[0;32mif\u001b[0m \u001b[0muse_node_features\u001b[0m\u001b[0;34m:\u001b[0m\u001b[0;34m\u001b[0m\u001b[0;34m\u001b[0m\u001b[0m\n\u001b[0;32m---> 81\u001b[0;31m             \u001b[0mG\u001b[0m\u001b[0;34m.\u001b[0m\u001b[0mcheck_graph_for_ml\u001b[0m\u001b[0;34m(\u001b[0m\u001b[0;34m)\u001b[0m\u001b[0;34m\u001b[0m\u001b[0;34m\u001b[0m\u001b[0m\n\u001b[0m\u001b[1;32m     82\u001b[0m \u001b[0;34m\u001b[0m\u001b[0m\n\u001b[1;32m     83\u001b[0m     \u001b[0;34m@\u001b[0m\u001b[0mabc\u001b[0m\u001b[0;34m.\u001b[0m\u001b[0mabstractmethod\u001b[0m\u001b[0;34m\u001b[0m\u001b[0;34m\u001b[0m\u001b[0m\n",
      "\u001b[0;32m~/.local/lib/python3.8/site-packages/stellargraph/core/graph.py\u001b[0m in \u001b[0;36mcheck_graph_for_ml\u001b[0;34m(self, features, expensive_check)\u001b[0m\n\u001b[1;32m   1192\u001b[0m         \"\"\"\n\u001b[1;32m   1193\u001b[0m         \u001b[0;32mif\u001b[0m \u001b[0mall\u001b[0m\u001b[0;34m(\u001b[0m\u001b[0msize\u001b[0m \u001b[0;34m==\u001b[0m \u001b[0;36m0\u001b[0m \u001b[0;32mfor\u001b[0m \u001b[0m_\u001b[0m\u001b[0;34m,\u001b[0m \u001b[0msize\u001b[0m \u001b[0;32min\u001b[0m \u001b[0mself\u001b[0m\u001b[0;34m.\u001b[0m\u001b[0mnode_feature_sizes\u001b[0m\u001b[0;34m(\u001b[0m\u001b[0;34m)\u001b[0m\u001b[0;34m.\u001b[0m\u001b[0mitems\u001b[0m\u001b[0;34m(\u001b[0m\u001b[0;34m)\u001b[0m\u001b[0;34m)\u001b[0m\u001b[0;34m:\u001b[0m\u001b[0;34m\u001b[0m\u001b[0;34m\u001b[0m\u001b[0m\n\u001b[0;32m-> 1194\u001b[0;31m             raise RuntimeError(\n\u001b[0m\u001b[1;32m   1195\u001b[0m                 \u001b[0;34m\"This StellarGraph has no numeric feature attributes for nodes\"\u001b[0m\u001b[0;34m\u001b[0m\u001b[0;34m\u001b[0m\u001b[0m\n\u001b[1;32m   1196\u001b[0m                 \u001b[0;34m\"Node features are required for machine learning\"\u001b[0m\u001b[0;34m\u001b[0m\u001b[0;34m\u001b[0m\u001b[0m\n",
      "\u001b[0;31mRuntimeError\u001b[0m: This StellarGraph has no numeric feature attributes for nodesNode features are required for machine learning"
     ]
    }
   ],
   "source": [
    "test_gen = GraphSAGELinkGenerator(G_test, batch_size, num_samples)\n",
    "test_flow = test_gen.flow(edge_ids_test, edge_labels_test)"
   ]
  },
  {
   "cell_type": "code",
   "execution_count": null,
   "id": "85c96d65",
   "metadata": {},
   "outputs": [],
   "source": []
  }
 ],
 "metadata": {
  "kernelspec": {
   "display_name": "Python 3 (ipykernel)",
   "language": "python",
   "name": "python3"
  },
  "language_info": {
   "codemirror_mode": {
    "name": "ipython",
    "version": 3
   },
   "file_extension": ".py",
   "mimetype": "text/x-python",
   "name": "python",
   "nbconvert_exporter": "python",
   "pygments_lexer": "ipython3",
   "version": "3.8.5"
  }
 },
 "nbformat": 4,
 "nbformat_minor": 5
}
