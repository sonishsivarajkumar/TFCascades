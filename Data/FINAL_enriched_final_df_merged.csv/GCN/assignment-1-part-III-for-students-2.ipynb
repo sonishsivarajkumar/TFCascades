{
 "cells": [
  {
   "cell_type": "markdown",
   "metadata": {},
   "source": [
    "The libraries needed to import the graph and work with it"
   ]
  },
  {
   "cell_type": "code",
   "execution_count": 1,
   "metadata": {},
   "outputs": [],
   "source": [
    "!pip install -q networkx"
   ]
  },
  {
   "cell_type": "code",
   "execution_count": 2,
   "metadata": {},
   "outputs": [],
   "source": [
    "import os\n",
    "import os.path\n",
    "import networkx as nx\n",
    "import json\n",
    "import urllib\n",
    "import traceback\n",
    "import sys\n",
    "from itertools import islice\n",
    "from rdflib import Graph, URIRef, BNode, Namespace, Literal\n",
    "from rdflib.namespace import RDF, OWL\n",
    "import smart_open\n",
    "from node2vec import Node2Vec"
   ]
  },
  {
   "cell_type": "markdown",
   "metadata": {},
   "source": [
    "The next two cell are the graph loading step. The graph is the output of the PheKnowLator process including filtering out OWL semantics. The sources used in this version of the knowledge graph are listed on [this Wiki page](https://github.com/callahantiff/PheKnowLator/wiki/v2-Data-Sources). The graph takes more than 15 gigs of RAM once loaded."
   ]
  },
  {
   "cell_type": "code",
   "execution_count": 5,
   "metadata": {},
   "outputs": [],
   "source": [
    "GRAPHPATH = \"PheKnowLator_full_InverseRelations_NotClosed_OWLNETS_Networkx_MultiDiGraph_REWEIGHT_NO_DISJOINT.gpickle\""
   ]
  },
  {
   "cell_type": "code",
   "execution_count": 6,
   "metadata": {},
   "outputs": [],
   "source": [
    "# Reloading the graph produced from the PheKnowLator workflow\n",
    "# The graph \n",
    "nx_mdg = nx.read_gpickle(GRAPHPATH)"
   ]
  },
  {
   "cell_type": "markdown",
   "metadata": {},
   "source": [
    "The next cell defines several functions that will help to explain the results of path searches."
   ]
  },
  {
   "cell_type": "markdown",
   "metadata": {},
   "source": [
    "### Part III - how to embed nodes in the knowledge graph to try and fill in gaps"
   ]
  },
  {
   "cell_type": "markdown",
   "metadata": {},
   "source": [
    "We're going to tackle link prediction as a supervised learning problem on top of node representations/embeddings. The embeddings are computed with the unsupervised node2vec algorithm. After obtaining embeddings, a binary classifier can be used to predict a link, or not, between any two nodes in the graph. Various hyperparameters could be relevant in obtaining the best link classifier -\n",
    "\n",
    "There are four steps:\n",
    "\n",
    "1. Obtain embeddings for each node\n",
    "2. For each set of hyperparameters, train a classifier\n",
    "3. Select the classifier that performs the best\n",
    "4. Evaluate the selected classifier on unseen data to validate its ability to generalise\n",
    "\n",
    "This part of the notebook has been adapted from a demo of the StellarGraph library (https://stellargraph.readthedocs.io/en/stable/index.html) for link prediction using the node2vec algorithm.\n",
    "\n",
    "<a name=\"refs\"></a>\n",
    "**References:** \n",
    "\n",
    "[1] Node2Vec: Scalable Feature Learning for Networks. A. Grover, J. Leskovec. ACM SIGKDD International Conference on Knowledge Discovery and Data Mining (KDD), 2016."
   ]
  },
  {
   "cell_type": "markdown",
   "metadata": {},
   "source": [
    "First, we derive a simple undirected graph that has only predicates (edges) indicitive of interaction:\n",
    "\n",
    "http://purl.obolibrary.org/obo/RO_0002434 - interacts with\n",
    "\n",
    "http://purl.obolibrary.org/obo/RO_0002436 - molecularly interacts with\n",
    "\n",
    "http://purl.obolibrary.org/obo/RO_0002435 - geneticly interacts with\n",
    "\n",
    "http://purl.obolibrary.org/obo/RO_0002437 - biotically interacts with\n",
    "\n",
    "http://purl.obolibrary.org/obo/RO_0000056 - partipates in\n",
    "\n",
    "Note: We limit the graph size to be a few tens of thousands of nodes (the full graph is >200K nodes) so that embedding can happen in a relatively short amount of time \n",
    "\n",
    "We also need to be choosy about the nodes we select because there are some more general nodes that have many thousands of interaction relationships."
   ]
  },
  {
   "cell_type": "code",
   "execution_count": 26,
   "metadata": {},
   "outputs": [],
   "source": [
    "nx_mdg_interacts = nx.Graph()\n",
    "\n",
    "object_nodeD = {} # tracking object nodes so we can add only those that are the object of 2 or more interactions\n",
    "maxNodes = 6000 # the max count of unique subject nodes\n",
    "edge_key = -1 # an int that we will increment to uniquely identify edges\n",
    "s_node_visitedD = {} # tracks unique subject nodes \n",
    "s_count = 0 # some entitites have a huge number of interactions so we will only sample a max of 100 for any entity\n",
    "s_current = None\n",
    "for s, o, data in nx_mdg.edges(data=True):\n",
    "    if not s_node_visitedD.get(s):\n",
    "        s_node_visitedD[s] = 1\n",
    "        if len(s_node_visitedD) == maxNodes:\n",
    "            break\n",
    "    \n",
    "    if s == s_current:\n",
    "        s_count += 1\n",
    "        if s_count > 50:\n",
    "            continue\n",
    "    else:\n",
    "        s_current = s\n",
    "        s_count = 0 \n",
    "        \n",
    "    p = data['predicate']\n",
    "    \n",
    "    edge_key += 1\n",
    "    \n",
    "    if not (p.toPython() == 'http://purl.obolibrary.org/obo/RO_0002434' # interacts with\n",
    "            or p.toPython() == 'http://purl.obolibrary.org/obo/RO_0002436' # molecularly interacts with\n",
    "            or p.toPython() == 'http://purl.obolibrary.org/obo/RO_0002435' # genetically interacts with\n",
    "            or p.toPython() == 'http://purl.obolibrary.org/obo/RO_0002437' # biotically interacts with \n",
    "            or p.toPython() == 'http://purl.obolibrary.org/obo/RO_0000056' # partipates in\n",
    "           ):\n",
    "        continue    \n",
    "    \n",
    "    if object_nodeD.get(o):\n",
    "        object_nodeD[o] += 1\n",
    "        \n",
    "        # add the edge to the graph giving it a unique key \n",
    "        nx_mdg_interacts.add_edge(s, o, **{'predicate': p,'key': edge_key})\n",
    "        \n",
    "    else:\n",
    "        object_nodeD[o] = 1"
   ]
  },
  {
   "cell_type": "code",
   "execution_count": 27,
   "metadata": {},
   "outputs": [],
   "source": [
    "nx.write_gpickle(nx_mdg_interacts,'PheKnowLator_full_InverseRelations_NotClosed_OWLNETS_INTERACTS.gpickle')"
   ]
  },
  {
   "cell_type": "code",
   "execution_count": 28,
   "metadata": {},
   "outputs": [],
   "source": [
    "## Uncomment this to reload the 'interacts only' graph from file if needed\n",
    "# nx_mdg_interacts = nx.read_gpickle('PheKnowLator_full_InverseRelations_NotClosed_OWLNETS_INTERACTS.gpickle')"
   ]
  },
  {
   "cell_type": "markdown",
   "metadata": {},
   "source": [
    "The next few cells give some insight into the content of our interaction sub-graph"
   ]
  },
  {
   "cell_type": "code",
   "execution_count": 29,
   "metadata": {},
   "outputs": [
    {
     "name": "stdout",
     "output_type": "stream",
     "text": [
      "Name: \n",
      "Type: Graph\n",
      "Number of nodes: 30568\n",
      "Number of edges: 150562\n",
      "Average degree:   9.8510\n"
     ]
    }
   ],
   "source": [
    "print(nx.info(nx_mdg_interacts))"
   ]
  },
  {
   "cell_type": "code",
   "execution_count": 30,
   "metadata": {},
   "outputs": [
    {
     "name": "stdout",
     "output_type": "stream",
     "text": [
      "(rdflib.term.URIRef('https://uswest.ensembl.org/Homo_sapiens/Transcript/Summary?t=ENST00000425941'), 3)\n",
      "(rdflib.term.URIRef('http://purl.obolibrary.org/obo/CHEBI_46024'), 427)\n",
      "(rdflib.term.URIRef('http://purl.obolibrary.org/obo/CHEBI_39867'), 1061)\n",
      "(rdflib.term.URIRef('http://purl.obolibrary.org/obo/CHEBI_23965'), 519)\n",
      "(rdflib.term.URIRef('http://purl.obolibrary.org/obo/PR_P41002'), 13)\n",
      "(rdflib.term.URIRef('http://purl.obolibrary.org/obo/PR_O95376'), 8)\n",
      "(rdflib.term.URIRef('http://purl.obolibrary.org/obo/PR_000009875'), 5)\n",
      "(rdflib.term.URIRef('http://purl.obolibrary.org/obo/PR_O95352'), 10)\n",
      "(rdflib.term.URIRef('http://purl.obolibrary.org/obo/PR_Q9H765'), 13)\n",
      "(rdflib.term.URIRef('http://purl.obolibrary.org/obo/GO_0098685'), 3)\n",
      "(rdflib.term.URIRef('http://purl.obolibrary.org/obo/CHEBI_3766'), 52)\n",
      "(rdflib.term.URIRef('http://purl.obolibrary.org/obo/CHEBI_33566'), 121)\n",
      "(rdflib.term.URIRef('http://purl.obolibrary.org/obo/CHEBI_31206'), 71)\n",
      "(rdflib.term.URIRef('https://uswest.ensembl.org/Homo_sapiens/Transcript/Summary?t=ENST00000477422'), 4)\n",
      "(rdflib.term.URIRef('http://purl.obolibrary.org/obo/CHEBI_30563'), 390)\n",
      "(rdflib.term.URIRef('http://purl.obolibrary.org/obo/CHEBI_38940'), 490)\n",
      "(rdflib.term.URIRef('http://purl.obolibrary.org/obo/CHEBI_29699'), 161)\n",
      "(rdflib.term.URIRef('http://purl.obolibrary.org/obo/CHEBI_15930'), 252)\n",
      "(rdflib.term.URIRef('http://purl.obolibrary.org/obo/PR_000011121'), 9)\n",
      "(rdflib.term.URIRef('http://purl.obolibrary.org/obo/PR_P32245'), 8)\n",
      "(rdflib.term.URIRef('http://purl.obolibrary.org/obo/PR_000001237'), 7)\n",
      "(rdflib.term.URIRef('https://www.ncbi.nlm.nih.gov/gene/2272'), 7)\n",
      "(rdflib.term.URIRef('https://uswest.ensembl.org/Homo_sapiens/Transcript/Summary?t=ENST00000528525'), 9)\n",
      "(rdflib.term.URIRef('http://purl.obolibrary.org/obo/CHEBI_132082'), 225)\n",
      "(rdflib.term.URIRef('http://purl.obolibrary.org/obo/CHEBI_25255'), 318)\n",
      "(rdflib.term.URIRef('http://purl.obolibrary.org/obo/CHEBI_41879'), 364)\n",
      "(rdflib.term.URIRef('http://purl.obolibrary.org/obo/CHEBI_27899'), 612)\n",
      "(rdflib.term.URIRef('http://purl.obolibrary.org/obo/CHEBI_2504'), 485)\n",
      "(rdflib.term.URIRef('http://purl.obolibrary.org/obo/CHEBI_29865'), 615)\n",
      "(rdflib.term.URIRef('http://purl.obolibrary.org/obo/CHEBI_33234'), 190)\n",
      "(rdflib.term.URIRef('http://purl.obolibrary.org/obo/PR_P63272'), 12)\n",
      "(rdflib.term.URIRef('http://purl.obolibrary.org/obo/PR_Q9HB65'), 14)\n",
      "(rdflib.term.URIRef('http://purl.obolibrary.org/obo/PR_O00267'), 7)\n",
      "(rdflib.term.URIRef('http://purl.obolibrary.org/obo/PR_000007029'), 5)\n",
      "(rdflib.term.URIRef('http://purl.obolibrary.org/obo/PR_000016168'), 13)\n",
      "(rdflib.term.URIRef('https://reactome.org/content/detail/R-HSA-112382'), 4)\n",
      "(rdflib.term.URIRef('http://purl.obolibrary.org/obo/PR_000014176'), 4)\n",
      "(rdflib.term.URIRef('http://purl.obolibrary.org/obo/PR_Q9NVM9'), 44)\n",
      "(rdflib.term.URIRef('http://purl.obolibrary.org/obo/PR_Q9UHB7'), 5)\n",
      "(rdflib.term.URIRef('http://purl.obolibrary.org/obo/GO_0045944'), 67)\n",
      "(rdflib.term.URIRef('http://purl.obolibrary.org/obo/PR_Q96HW7'), 4)\n",
      "(rdflib.term.URIRef('http://purl.obolibrary.org/obo/PR_000005267'), 9)\n",
      "(rdflib.term.URIRef('http://purl.obolibrary.org/obo/PR_000003806'), 3)\n",
      "(rdflib.term.URIRef('http://purl.obolibrary.org/obo/PR_Q9BQ15'), 5)\n",
      "(rdflib.term.URIRef('https://uswest.ensembl.org/Homo_sapiens/Transcript/Summary?t=ENST00000441709'), 20)\n",
      "(rdflib.term.URIRef('http://purl.obolibrary.org/obo/CHEBI_16842'), 315)\n",
      "(rdflib.term.URIRef('http://purl.obolibrary.org/obo/CHEBI_33216'), 570)\n",
      "(rdflib.term.URIRef('http://purl.obolibrary.org/obo/CHEBI_8069'), 170)\n",
      "(rdflib.term.URIRef('http://purl.obolibrary.org/obo/CHEBI_16243'), 316)\n",
      "(rdflib.term.URIRef('http://purl.obolibrary.org/obo/CHEBI_45716'), 238)\n",
      "(rdflib.term.URIRef('http://purl.obolibrary.org/obo/CHEBI_28420'), 85)\n",
      "(rdflib.term.URIRef('http://purl.obolibrary.org/obo/CHEBI_17967'), 327)\n",
      "(rdflib.term.URIRef('http://purl.obolibrary.org/obo/CHEBI_50740'), 135)\n",
      "(rdflib.term.URIRef('http://purl.obolibrary.org/obo/CHEBI_17347'), 183)\n",
      "(rdflib.term.URIRef('http://purl.obolibrary.org/obo/CHEBI_29678'), 447)\n",
      "(rdflib.term.URIRef('http://purl.obolibrary.org/obo/CHEBI_4917'), 60)\n",
      "(rdflib.term.URIRef('http://purl.obolibrary.org/obo/CHEBI_53444'), 89)\n",
      "(rdflib.term.URIRef('http://purl.obolibrary.org/obo/CHEBI_28445'), 127)\n",
      "(rdflib.term.URIRef('http://purl.obolibrary.org/obo/CHEBI_85085'), 15)\n",
      "(rdflib.term.URIRef('http://purl.obolibrary.org/obo/GO_0097708'), 13)\n",
      "(rdflib.term.URIRef('http://purl.obolibrary.org/obo/GO_0048583'), 74)\n",
      "(rdflib.term.URIRef('http://purl.obolibrary.org/obo/GO_0046890'), 28)\n",
      "(rdflib.term.URIRef('http://purl.obolibrary.org/obo/CHEBI_38298'), 29)\n",
      "(rdflib.term.URIRef('http://purl.obolibrary.org/obo/CHEBI_39464'), 66)\n",
      "(rdflib.term.URIRef('http://purl.obolibrary.org/obo/CHEBI_5063'), 60)\n",
      "(rdflib.term.URIRef('http://purl.obolibrary.org/obo/CHEBI_9516'), 141)\n",
      "(rdflib.term.URIRef('http://purl.obolibrary.org/obo/CHEBI_63632'), 51)\n",
      "(rdflib.term.URIRef('http://purl.obolibrary.org/obo/CHEBI_16240'), 264)\n",
      "(rdflib.term.URIRef('http://purl.obolibrary.org/obo/CHEBI_38102'), 89)\n",
      "(rdflib.term.URIRef('https://reactome.org/content/detail/R-HSA-73857'), 50)\n",
      "(rdflib.term.URIRef('http://purl.obolibrary.org/obo/PR_000005652'), 15)\n",
      "(rdflib.term.URIRef('http://purl.obolibrary.org/obo/PR_P11940'), 8)\n",
      "(rdflib.term.URIRef('http://purl.obolibrary.org/obo/PR_000016970'), 6)\n",
      "(rdflib.term.URIRef('http://purl.obolibrary.org/obo/PR_000016972'), 8)\n",
      "(rdflib.term.URIRef('http://purl.obolibrary.org/obo/PR_000012204'), 10)\n",
      "(rdflib.term.URIRef('http://purl.obolibrary.org/obo/PR_P06730'), 6)\n",
      "(rdflib.term.URIRef('http://purl.obolibrary.org/obo/PR_Q9Y2X8'), 7)\n",
      "(rdflib.term.URIRef('http://purl.obolibrary.org/obo/PR_000005656'), 4)\n",
      "(rdflib.term.URIRef('http://purl.obolibrary.org/obo/PR_P23588'), 4)\n",
      "(rdflib.term.URIRef('http://purl.obolibrary.org/obo/PR_Q9UFF9'), 3)\n",
      "(rdflib.term.URIRef('http://purl.obolibrary.org/obo/PR_000003154'), 59)\n",
      "(rdflib.term.URIRef('http://purl.obolibrary.org/obo/PR_000012236'), 4)\n",
      "(rdflib.term.URIRef('https://uswest.ensembl.org/Homo_sapiens/Transcript/Summary?t=ENST00000639342'), 7)\n",
      "(rdflib.term.URIRef('http://purl.obolibrary.org/obo/CHEBI_64090'), 187)\n",
      "(rdflib.term.URIRef('http://purl.obolibrary.org/obo/CHEBI_38658'), 260)\n",
      "(rdflib.term.URIRef('http://purl.obolibrary.org/obo/GO_0032271'), 18)\n",
      "(rdflib.term.URIRef('http://purl.obolibrary.org/obo/CHEBI_348530'), 55)\n",
      "(rdflib.term.URIRef('http://purl.obolibrary.org/obo/CHEBI_23238'), 104)\n",
      "(rdflib.term.URIRef('http://purl.obolibrary.org/obo/CHEBI_35338'), 78)\n",
      "(rdflib.term.URIRef('http://purl.obolibrary.org/obo/CHEBI_48901'), 79)\n",
      "(rdflib.term.URIRef('http://purl.obolibrary.org/obo/CHEBI_59659'), 124)\n",
      "(rdflib.term.URIRef('http://purl.obolibrary.org/obo/CHEBI_23493'), 34)\n",
      "(rdflib.term.URIRef('http://purl.obolibrary.org/obo/CHEBI_41774'), 160)\n",
      "(rdflib.term.URIRef('https://reactome.org/content/detail/R-HSA-1430728'), 121)\n",
      "(rdflib.term.URIRef('https://uswest.ensembl.org/Homo_sapiens/Transcript/Summary?t=ENST00000396475'), 11)\n",
      "(rdflib.term.URIRef('http://purl.obolibrary.org/obo/CHEBI_23994'), 211)\n",
      "(rdflib.term.URIRef('http://purl.obolibrary.org/obo/CHEBI_78886'), 19)\n",
      "(rdflib.term.URIRef('http://purl.obolibrary.org/obo/GO_0034614'), 58)\n",
      "(rdflib.term.URIRef('http://purl.obolibrary.org/obo/GO_0042110'), 53)\n",
      "(rdflib.term.URIRef('http://purl.obolibrary.org/obo/GO_0070663'), 20)\n"
     ]
    }
   ],
   "source": [
    "i = 0 \n",
    "for d in nx_mdg_interacts.degree():\n",
    "    if d[1] > 2:        \n",
    "        print(d)\n",
    "        i += 1\n",
    "        if i == 100:\n",
    "            break"
   ]
  },
  {
   "cell_type": "code",
   "execution_count": 31,
   "metadata": {},
   "outputs": [
    {
     "name": "stdout",
     "output_type": "stream",
     "text": [
      "https://uswest.ensembl.org/Homo_sapiens/Transcript/Summary?t=ENST00000425941\thttp://purl.obolibrary.org/obo/CHEBI_46024\t{'predicate': rdflib.term.URIRef('http://purl.obolibrary.org/obo/RO_0002434'), 'key': 218}\n",
      "https://uswest.ensembl.org/Homo_sapiens/Transcript/Summary?t=ENST00000425941\thttp://purl.obolibrary.org/obo/CHEBI_39867\t{'predicate': rdflib.term.URIRef('http://purl.obolibrary.org/obo/RO_0002434'), 'key': 235}\n",
      "https://uswest.ensembl.org/Homo_sapiens/Transcript/Summary?t=ENST00000425941\thttp://purl.obolibrary.org/obo/CHEBI_23965\t{'predicate': rdflib.term.URIRef('http://purl.obolibrary.org/obo/RO_0002434'), 'key': 236}\n",
      "http://purl.obolibrary.org/obo/CHEBI_46024\thttps://uswest.ensembl.org/Homo_sapiens/Transcript/Summary?t=ENST00000441709\t{'predicate': rdflib.term.URIRef('http://purl.obolibrary.org/obo/RO_0002434'), 'key': 1096}\n",
      "http://purl.obolibrary.org/obo/CHEBI_46024\thttps://uswest.ensembl.org/Homo_sapiens/Transcript/Summary?t=ENST00000396475\t{'predicate': rdflib.term.URIRef('http://purl.obolibrary.org/obo/RO_0002434'), 'key': 1664}\n",
      "http://purl.obolibrary.org/obo/CHEBI_46024\thttps://uswest.ensembl.org/Homo_sapiens/Transcript/Summary?t=ENST00000530884\t{'predicate': rdflib.term.URIRef('http://purl.obolibrary.org/obo/RO_0002434'), 'key': 2135}\n",
      "http://purl.obolibrary.org/obo/CHEBI_46024\thttps://uswest.ensembl.org/Homo_sapiens/Transcript/Summary?t=ENST00000354489\t{'predicate': rdflib.term.URIRef('http://purl.obolibrary.org/obo/RO_0002434'), 'key': 2267}\n",
      "http://purl.obolibrary.org/obo/CHEBI_46024\thttps://uswest.ensembl.org/Homo_sapiens/Transcript/Summary?t=ENST00000548870\t{'predicate': rdflib.term.URIRef('http://purl.obolibrary.org/obo/RO_0002434'), 'key': 2270}\n",
      "http://purl.obolibrary.org/obo/CHEBI_46024\thttps://uswest.ensembl.org/Homo_sapiens/Transcript/Summary?t=ENST00000557107\t{'predicate': rdflib.term.URIRef('http://purl.obolibrary.org/obo/RO_0002434'), 'key': 2862}\n",
      "http://purl.obolibrary.org/obo/CHEBI_46024\thttps://uswest.ensembl.org/Homo_sapiens/Transcript/Summary?t=ENST00000508584\t{'predicate': rdflib.term.URIRef('http://purl.obolibrary.org/obo/RO_0002434'), 'key': 3384}\n",
      "http://purl.obolibrary.org/obo/CHEBI_46024\thttps://uswest.ensembl.org/Homo_sapiens/Transcript/Summary?t=ENST00000672664\t{'predicate': rdflib.term.URIRef('http://purl.obolibrary.org/obo/RO_0002434'), 'key': 4296}\n",
      "http://purl.obolibrary.org/obo/CHEBI_46024\thttps://uswest.ensembl.org/Homo_sapiens/Transcript/Summary?t=ENST00000571595\t{'predicate': rdflib.term.URIRef('http://purl.obolibrary.org/obo/RO_0002434'), 'key': 4744}\n",
      "http://purl.obolibrary.org/obo/CHEBI_46024\thttps://uswest.ensembl.org/Homo_sapiens/Transcript/Summary?t=ENST00000588813\t{'predicate': rdflib.term.URIRef('http://purl.obolibrary.org/obo/RO_0002434'), 'key': 4935}\n",
      "http://purl.obolibrary.org/obo/CHEBI_46024\thttps://uswest.ensembl.org/Homo_sapiens/Transcript/Summary?t=ENST00000547738\t{'predicate': rdflib.term.URIRef('http://purl.obolibrary.org/obo/RO_0002434'), 'key': 6008}\n",
      "http://purl.obolibrary.org/obo/CHEBI_46024\thttps://uswest.ensembl.org/Homo_sapiens/Transcript/Summary?t=ENST00000495132\t{'predicate': rdflib.term.URIRef('http://purl.obolibrary.org/obo/RO_0002434'), 'key': 7049}\n",
      "http://purl.obolibrary.org/obo/CHEBI_46024\thttps://uswest.ensembl.org/Homo_sapiens/Transcript/Summary?t=ENST00000628245\t{'predicate': rdflib.term.URIRef('http://purl.obolibrary.org/obo/RO_0002434'), 'key': 7274}\n",
      "http://purl.obolibrary.org/obo/CHEBI_46024\thttps://uswest.ensembl.org/Homo_sapiens/Transcript/Summary?t=ENST00000371655\t{'predicate': rdflib.term.URIRef('http://purl.obolibrary.org/obo/RO_0002434'), 'key': 9883}\n",
      "http://purl.obolibrary.org/obo/CHEBI_46024\thttps://uswest.ensembl.org/Homo_sapiens/Transcript/Summary?t=ENST00000417833\t{'predicate': rdflib.term.URIRef('http://purl.obolibrary.org/obo/RO_0002434'), 'key': 11178}\n",
      "http://purl.obolibrary.org/obo/CHEBI_46024\thttp://purl.obolibrary.org/obo/GO_0034762\t{'predicate': rdflib.term.URIRef('http://purl.obolibrary.org/obo/RO_0002436'), 'key': 11407}\n",
      "http://purl.obolibrary.org/obo/CHEBI_46024\thttps://uswest.ensembl.org/Homo_sapiens/Transcript/Summary?t=ENST00000626957\t{'predicate': rdflib.term.URIRef('http://purl.obolibrary.org/obo/RO_0002434'), 'key': 12819}\n",
      "http://purl.obolibrary.org/obo/CHEBI_46024\thttps://uswest.ensembl.org/Homo_sapiens/Transcript/Summary?t=ENST00000215882\t{'predicate': rdflib.term.URIRef('http://purl.obolibrary.org/obo/RO_0002434'), 'key': 14326}\n",
      "http://purl.obolibrary.org/obo/CHEBI_46024\thttps://uswest.ensembl.org/Homo_sapiens/Transcript/Summary?t=ENST00000552823\t{'predicate': rdflib.term.URIRef('http://purl.obolibrary.org/obo/RO_0002434'), 'key': 15007}\n",
      "http://purl.obolibrary.org/obo/CHEBI_46024\thttps://uswest.ensembl.org/Homo_sapiens/Transcript/Summary?t=ENST00000334010\t{'predicate': rdflib.term.URIRef('http://purl.obolibrary.org/obo/RO_0002434'), 'key': 16958}\n",
      "http://purl.obolibrary.org/obo/CHEBI_46024\thttps://uswest.ensembl.org/Homo_sapiens/Transcript/Summary?t=ENST00000340209\t{'predicate': rdflib.term.URIRef('http://purl.obolibrary.org/obo/RO_0002434'), 'key': 17787}\n",
      "http://purl.obolibrary.org/obo/CHEBI_46024\thttps://uswest.ensembl.org/Homo_sapiens/Transcript/Summary?t=ENST00000472444\t{'predicate': rdflib.term.URIRef('http://purl.obolibrary.org/obo/RO_0002434'), 'key': 18214}\n",
      "http://purl.obolibrary.org/obo/CHEBI_46024\thttps://uswest.ensembl.org/Homo_sapiens/Transcript/Summary?t=ENST00000555843\t{'predicate': rdflib.term.URIRef('http://purl.obolibrary.org/obo/RO_0002434'), 'key': 18234}\n",
      "http://purl.obolibrary.org/obo/CHEBI_46024\thttps://uswest.ensembl.org/Homo_sapiens/Transcript/Summary?t=ENST00000510357\t{'predicate': rdflib.term.URIRef('http://purl.obolibrary.org/obo/RO_0002434'), 'key': 18477}\n",
      "http://purl.obolibrary.org/obo/CHEBI_46024\thttps://uswest.ensembl.org/Homo_sapiens/Transcript/Summary?t=ENST00000590261\t{'predicate': rdflib.term.URIRef('http://purl.obolibrary.org/obo/RO_0002434'), 'key': 18836}\n",
      "http://purl.obolibrary.org/obo/CHEBI_46024\thttp://purl.obolibrary.org/obo/PR_P62937\t{'predicate': rdflib.term.URIRef('http://purl.obolibrary.org/obo/RO_0002434'), 'key': 19762}\n",
      "http://purl.obolibrary.org/obo/CHEBI_46024\thttps://uswest.ensembl.org/Homo_sapiens/Transcript/Summary?t=ENST00000644204\t{'predicate': rdflib.term.URIRef('http://purl.obolibrary.org/obo/RO_0002434'), 'key': 21924}\n",
      "http://purl.obolibrary.org/obo/CHEBI_46024\thttps://uswest.ensembl.org/Homo_sapiens/Transcript/Summary?t=ENST00000431961\t{'predicate': rdflib.term.URIRef('http://purl.obolibrary.org/obo/RO_0002434'), 'key': 23782}\n",
      "http://purl.obolibrary.org/obo/CHEBI_46024\thttps://uswest.ensembl.org/Homo_sapiens/Transcript/Summary?t=ENST00000485274\t{'predicate': rdflib.term.URIRef('http://purl.obolibrary.org/obo/RO_0002434'), 'key': 23978}\n",
      "http://purl.obolibrary.org/obo/CHEBI_46024\thttps://uswest.ensembl.org/Homo_sapiens/Transcript/Summary?t=ENST00000544291\t{'predicate': rdflib.term.URIRef('http://purl.obolibrary.org/obo/RO_0002434'), 'key': 24539}\n",
      "http://purl.obolibrary.org/obo/CHEBI_46024\thttps://uswest.ensembl.org/Homo_sapiens/Transcript/Summary?t=ENST00000550056\t{'predicate': rdflib.term.URIRef('http://purl.obolibrary.org/obo/RO_0002434'), 'key': 25379}\n",
      "http://purl.obolibrary.org/obo/CHEBI_46024\thttps://uswest.ensembl.org/Homo_sapiens/Transcript/Summary?t=ENST00000490248\t{'predicate': rdflib.term.URIRef('http://purl.obolibrary.org/obo/RO_0002434'), 'key': 25692}\n",
      "http://purl.obolibrary.org/obo/CHEBI_46024\thttps://uswest.ensembl.org/Homo_sapiens/Transcript/Summary?t=ENST00000646551\t{'predicate': rdflib.term.URIRef('http://purl.obolibrary.org/obo/RO_0002434'), 'key': 26822}\n",
      "http://purl.obolibrary.org/obo/CHEBI_46024\thttps://uswest.ensembl.org/Homo_sapiens/Transcript/Summary?t=ENST00000672765\t{'predicate': rdflib.term.URIRef('http://purl.obolibrary.org/obo/RO_0002434'), 'key': 26914}\n",
      "http://purl.obolibrary.org/obo/CHEBI_46024\thttps://uswest.ensembl.org/Homo_sapiens/Transcript/Summary?t=ENST00000507506\t{'predicate': rdflib.term.URIRef('http://purl.obolibrary.org/obo/RO_0002434'), 'key': 27279}\n",
      "http://purl.obolibrary.org/obo/CHEBI_46024\thttp://purl.obolibrary.org/obo/GO_0035770\t{'predicate': rdflib.term.URIRef('http://purl.obolibrary.org/obo/RO_0002436'), 'key': 27425}\n",
      "http://purl.obolibrary.org/obo/CHEBI_46024\thttps://uswest.ensembl.org/Homo_sapiens/Transcript/Summary?t=ENST00000444334\t{'predicate': rdflib.term.URIRef('http://purl.obolibrary.org/obo/RO_0002434'), 'key': 28058}\n",
      "http://purl.obolibrary.org/obo/CHEBI_46024\thttp://purl.obolibrary.org/obo/GO_0050808\t{'predicate': rdflib.term.URIRef('http://purl.obolibrary.org/obo/RO_0002436'), 'key': 28241}\n",
      "http://purl.obolibrary.org/obo/CHEBI_46024\thttps://uswest.ensembl.org/Homo_sapiens/Transcript/Summary?t=ENST00000467575\t{'predicate': rdflib.term.URIRef('http://purl.obolibrary.org/obo/RO_0002434'), 'key': 28907}\n",
      "http://purl.obolibrary.org/obo/CHEBI_46024\thttps://uswest.ensembl.org/Homo_sapiens/Transcript/Summary?t=ENST00000454122\t{'predicate': rdflib.term.URIRef('http://purl.obolibrary.org/obo/RO_0002434'), 'key': 29250}\n",
      "http://purl.obolibrary.org/obo/CHEBI_46024\thttps://uswest.ensembl.org/Homo_sapiens/Transcript/Summary?t=ENST00000413082\t{'predicate': rdflib.term.URIRef('http://purl.obolibrary.org/obo/RO_0002434'), 'key': 29380}\n",
      "http://purl.obolibrary.org/obo/CHEBI_46024\thttps://uswest.ensembl.org/Homo_sapiens/Transcript/Summary?t=ENST00000572659\t{'predicate': rdflib.term.URIRef('http://purl.obolibrary.org/obo/RO_0002434'), 'key': 30435}\n",
      "http://purl.obolibrary.org/obo/CHEBI_46024\thttps://uswest.ensembl.org/Homo_sapiens/Transcript/Summary?t=ENST00000405223\t{'predicate': rdflib.term.URIRef('http://purl.obolibrary.org/obo/RO_0002434'), 'key': 30512}\n",
      "http://purl.obolibrary.org/obo/CHEBI_46024\thttps://uswest.ensembl.org/Homo_sapiens/Transcript/Summary?t=ENST00000279147\t{'predicate': rdflib.term.URIRef('http://purl.obolibrary.org/obo/RO_0002434'), 'key': 34625}\n",
      "http://purl.obolibrary.org/obo/CHEBI_46024\thttps://uswest.ensembl.org/Homo_sapiens/Transcript/Summary?t=ENST00000507638\t{'predicate': rdflib.term.URIRef('http://purl.obolibrary.org/obo/RO_0002434'), 'key': 35175}\n",
      "http://purl.obolibrary.org/obo/CHEBI_46024\thttp://purl.obolibrary.org/obo/GO_0001822\t{'predicate': rdflib.term.URIRef('http://purl.obolibrary.org/obo/RO_0002436'), 'key': 35848}\n",
      "http://purl.obolibrary.org/obo/CHEBI_46024\thttps://uswest.ensembl.org/Homo_sapiens/Transcript/Summary?t=ENST00000474636\t{'predicate': rdflib.term.URIRef('http://purl.obolibrary.org/obo/RO_0002434'), 'key': 36535}\n",
      "http://purl.obolibrary.org/obo/CHEBI_46024\thttps://uswest.ensembl.org/Homo_sapiens/Transcript/Summary?t=ENST00000374675\t{'predicate': rdflib.term.URIRef('http://purl.obolibrary.org/obo/RO_0002434'), 'key': 36556}\n",
      "http://purl.obolibrary.org/obo/CHEBI_46024\thttp://purl.obolibrary.org/obo/PR_P07355\t{'predicate': rdflib.term.URIRef('http://purl.obolibrary.org/obo/RO_0002434'), 'key': 36617}\n",
      "http://purl.obolibrary.org/obo/CHEBI_46024\thttp://purl.obolibrary.org/obo/PR_P13631\t{'predicate': rdflib.term.URIRef('http://purl.obolibrary.org/obo/RO_0002434'), 'key': 36747}\n",
      "http://purl.obolibrary.org/obo/CHEBI_46024\thttps://uswest.ensembl.org/Homo_sapiens/Transcript/Summary?t=ENST00000470027\t{'predicate': rdflib.term.URIRef('http://purl.obolibrary.org/obo/RO_0002434'), 'key': 36904}\n",
      "http://purl.obolibrary.org/obo/CHEBI_46024\thttp://purl.obolibrary.org/obo/GO_0032233\t{'predicate': rdflib.term.URIRef('http://purl.obolibrary.org/obo/RO_0002436'), 'key': 36991}\n",
      "http://purl.obolibrary.org/obo/CHEBI_46024\thttps://uswest.ensembl.org/Homo_sapiens/Transcript/Summary?t=ENST00000604872\t{'predicate': rdflib.term.URIRef('http://purl.obolibrary.org/obo/RO_0002434'), 'key': 37454}\n",
      "http://purl.obolibrary.org/obo/CHEBI_46024\thttps://uswest.ensembl.org/Homo_sapiens/Transcript/Summary?t=ENST00000619306\t{'predicate': rdflib.term.URIRef('http://purl.obolibrary.org/obo/RO_0002434'), 'key': 38086}\n",
      "http://purl.obolibrary.org/obo/CHEBI_46024\thttps://uswest.ensembl.org/Homo_sapiens/Transcript/Summary?t=ENST00000449518\t{'predicate': rdflib.term.URIRef('http://purl.obolibrary.org/obo/RO_0002434'), 'key': 39807}\n",
      "http://purl.obolibrary.org/obo/CHEBI_46024\thttps://uswest.ensembl.org/Homo_sapiens/Transcript/Summary?t=ENST00000477072\t{'predicate': rdflib.term.URIRef('http://purl.obolibrary.org/obo/RO_0002434'), 'key': 39878}\n",
      "http://purl.obolibrary.org/obo/CHEBI_46024\thttps://uswest.ensembl.org/Homo_sapiens/Transcript/Summary?t=ENST00000631606\t{'predicate': rdflib.term.URIRef('http://purl.obolibrary.org/obo/RO_0002434'), 'key': 40944}\n",
      "http://purl.obolibrary.org/obo/CHEBI_46024\thttps://uswest.ensembl.org/Homo_sapiens/Transcript/Summary?t=ENST00000490675\t{'predicate': rdflib.term.URIRef('http://purl.obolibrary.org/obo/RO_0002434'), 'key': 40952}\n",
      "http://purl.obolibrary.org/obo/CHEBI_46024\thttps://uswest.ensembl.org/Homo_sapiens/Transcript/Summary?t=ENST00000586286\t{'predicate': rdflib.term.URIRef('http://purl.obolibrary.org/obo/RO_0002434'), 'key': 44280}\n",
      "http://purl.obolibrary.org/obo/CHEBI_46024\thttps://uswest.ensembl.org/Homo_sapiens/Transcript/Summary?t=ENST00000612116\t{'predicate': rdflib.term.URIRef('http://purl.obolibrary.org/obo/RO_0002434'), 'key': 44332}\n",
      "http://purl.obolibrary.org/obo/CHEBI_46024\thttps://uswest.ensembl.org/Homo_sapiens/Transcript/Summary?t=ENST00000631086\t{'predicate': rdflib.term.URIRef('http://purl.obolibrary.org/obo/RO_0002434'), 'key': 44359}\n",
      "http://purl.obolibrary.org/obo/CHEBI_46024\thttp://purl.obolibrary.org/obo/GO_0010558\t{'predicate': rdflib.term.URIRef('http://purl.obolibrary.org/obo/RO_0002436'), 'key': 45458}\n",
      "http://purl.obolibrary.org/obo/CHEBI_46024\thttps://uswest.ensembl.org/Homo_sapiens/Transcript/Summary?t=ENST00000538158\t{'predicate': rdflib.term.URIRef('http://purl.obolibrary.org/obo/RO_0002434'), 'key': 46343}\n",
      "http://purl.obolibrary.org/obo/CHEBI_46024\thttps://uswest.ensembl.org/Homo_sapiens/Transcript/Summary?t=ENST00000625522\t{'predicate': rdflib.term.URIRef('http://purl.obolibrary.org/obo/RO_0002434'), 'key': 47126}\n",
      "http://purl.obolibrary.org/obo/CHEBI_46024\thttps://uswest.ensembl.org/Homo_sapiens/Transcript/Summary?t=ENST00000589860\t{'predicate': rdflib.term.URIRef('http://purl.obolibrary.org/obo/RO_0002434'), 'key': 47496}\n",
      "http://purl.obolibrary.org/obo/CHEBI_46024\thttp://purl.obolibrary.org/obo/GO_1901652\t{'predicate': rdflib.term.URIRef('http://purl.obolibrary.org/obo/RO_0002436'), 'key': 48689}\n",
      "http://purl.obolibrary.org/obo/CHEBI_46024\thttps://uswest.ensembl.org/Homo_sapiens/Transcript/Summary?t=ENST00000667710\t{'predicate': rdflib.term.URIRef('http://purl.obolibrary.org/obo/RO_0002434'), 'key': 48887}\n",
      "http://purl.obolibrary.org/obo/CHEBI_46024\thttp://purl.obolibrary.org/obo/GO_0009410\t{'predicate': rdflib.term.URIRef('http://purl.obolibrary.org/obo/RO_0002436'), 'key': 51010}\n",
      "http://purl.obolibrary.org/obo/CHEBI_46024\thttps://uswest.ensembl.org/Homo_sapiens/Transcript/Summary?t=ENST00000535309\t{'predicate': rdflib.term.URIRef('http://purl.obolibrary.org/obo/RO_0002434'), 'key': 51395}\n",
      "http://purl.obolibrary.org/obo/CHEBI_46024\thttps://uswest.ensembl.org/Homo_sapiens/Transcript/Summary?t=ENST00000400068\t{'predicate': rdflib.term.URIRef('http://purl.obolibrary.org/obo/RO_0002434'), 'key': 52417}\n",
      "http://purl.obolibrary.org/obo/CHEBI_46024\thttps://uswest.ensembl.org/Homo_sapiens/Transcript/Summary?t=ENST00000524724\t{'predicate': rdflib.term.URIRef('http://purl.obolibrary.org/obo/RO_0002434'), 'key': 52553}\n",
      "http://purl.obolibrary.org/obo/CHEBI_46024\thttps://uswest.ensembl.org/Homo_sapiens/Transcript/Summary?t=ENST00000487247\t{'predicate': rdflib.term.URIRef('http://purl.obolibrary.org/obo/RO_0002434'), 'key': 52771}\n",
      "http://purl.obolibrary.org/obo/CHEBI_46024\thttps://uswest.ensembl.org/Homo_sapiens/Transcript/Summary?t=ENST00000423613\t{'predicate': rdflib.term.URIRef('http://purl.obolibrary.org/obo/RO_0002434'), 'key': 53103}\n",
      "http://purl.obolibrary.org/obo/CHEBI_46024\thttps://uswest.ensembl.org/Homo_sapiens/Transcript/Summary?t=ENST00000641358\t{'predicate': rdflib.term.URIRef('http://purl.obolibrary.org/obo/RO_0002434'), 'key': 54295}\n",
      "http://purl.obolibrary.org/obo/CHEBI_46024\thttps://uswest.ensembl.org/Homo_sapiens/Transcript/Summary?t=ENST00000586877\t{'predicate': rdflib.term.URIRef('http://purl.obolibrary.org/obo/RO_0002434'), 'key': 54559}\n",
      "http://purl.obolibrary.org/obo/CHEBI_46024\thttp://purl.obolibrary.org/obo/GO_1901216\t{'predicate': rdflib.term.URIRef('http://purl.obolibrary.org/obo/RO_0002436'), 'key': 55733}\n",
      "http://purl.obolibrary.org/obo/CHEBI_46024\thttps://uswest.ensembl.org/Homo_sapiens/Transcript/Summary?t=ENST00000484644\t{'predicate': rdflib.term.URIRef('http://purl.obolibrary.org/obo/RO_0002434'), 'key': 55813}\n",
      "http://purl.obolibrary.org/obo/CHEBI_46024\thttps://uswest.ensembl.org/Homo_sapiens/Transcript/Summary?t=ENST00000451724\t{'predicate': rdflib.term.URIRef('http://purl.obolibrary.org/obo/RO_0002434'), 'key': 56743}\n",
      "http://purl.obolibrary.org/obo/CHEBI_46024\thttps://uswest.ensembl.org/Homo_sapiens/Transcript/Summary?t=ENST00000553839\t{'predicate': rdflib.term.URIRef('http://purl.obolibrary.org/obo/RO_0002434'), 'key': 57183}\n",
      "http://purl.obolibrary.org/obo/CHEBI_46024\thttps://uswest.ensembl.org/Homo_sapiens/Transcript/Summary?t=ENST00000421577\t{'predicate': rdflib.term.URIRef('http://purl.obolibrary.org/obo/RO_0002434'), 'key': 58083}\n",
      "http://purl.obolibrary.org/obo/CHEBI_46024\thttps://uswest.ensembl.org/Homo_sapiens/Transcript/Summary?t=ENST00000400069\t{'predicate': rdflib.term.URIRef('http://purl.obolibrary.org/obo/RO_0002434'), 'key': 58373}\n",
      "http://purl.obolibrary.org/obo/CHEBI_46024\thttps://uswest.ensembl.org/Homo_sapiens/Transcript/Summary?t=ENST00000586858\t{'predicate': rdflib.term.URIRef('http://purl.obolibrary.org/obo/RO_0002434'), 'key': 60211}\n",
      "http://purl.obolibrary.org/obo/CHEBI_46024\thttps://uswest.ensembl.org/Homo_sapiens/Transcript/Summary?t=ENST00000541206\t{'predicate': rdflib.term.URIRef('http://purl.obolibrary.org/obo/RO_0002434'), 'key': 60431}\n",
      "http://purl.obolibrary.org/obo/CHEBI_46024\thttps://uswest.ensembl.org/Homo_sapiens/Transcript/Summary?t=ENST00000504764\t{'predicate': rdflib.term.URIRef('http://purl.obolibrary.org/obo/RO_0002434'), 'key': 60445}\n",
      "http://purl.obolibrary.org/obo/CHEBI_46024\thttps://uswest.ensembl.org/Homo_sapiens/Transcript/Summary?t=ENST00000372187\t{'predicate': rdflib.term.URIRef('http://purl.obolibrary.org/obo/RO_0002434'), 'key': 61440}\n",
      "http://purl.obolibrary.org/obo/CHEBI_46024\thttps://uswest.ensembl.org/Homo_sapiens/Transcript/Summary?t=ENST00000670063\t{'predicate': rdflib.term.URIRef('http://purl.obolibrary.org/obo/RO_0002434'), 'key': 62332}\n",
      "http://purl.obolibrary.org/obo/CHEBI_46024\thttps://uswest.ensembl.org/Homo_sapiens/Transcript/Summary?t=ENST00000380554\t{'predicate': rdflib.term.URIRef('http://purl.obolibrary.org/obo/RO_0002434'), 'key': 63076}\n",
      "http://purl.obolibrary.org/obo/CHEBI_46024\thttps://uswest.ensembl.org/Homo_sapiens/Transcript/Summary?t=ENST00000368125\t{'predicate': rdflib.term.URIRef('http://purl.obolibrary.org/obo/RO_0002434'), 'key': 63340}\n",
      "http://purl.obolibrary.org/obo/CHEBI_46024\thttps://uswest.ensembl.org/Homo_sapiens/Transcript/Summary?t=ENST00000672347\t{'predicate': rdflib.term.URIRef('http://purl.obolibrary.org/obo/RO_0002434'), 'key': 63869}\n",
      "http://purl.obolibrary.org/obo/CHEBI_46024\thttps://uswest.ensembl.org/Homo_sapiens/Transcript/Summary?t=ENST00000636295\t{'predicate': rdflib.term.URIRef('http://purl.obolibrary.org/obo/RO_0002434'), 'key': 64006}\n",
      "http://purl.obolibrary.org/obo/CHEBI_46024\thttps://uswest.ensembl.org/Homo_sapiens/Transcript/Summary?t=ENST00000462638\t{'predicate': rdflib.term.URIRef('http://purl.obolibrary.org/obo/RO_0002434'), 'key': 64355}\n",
      "http://purl.obolibrary.org/obo/CHEBI_46024\thttps://uswest.ensembl.org/Homo_sapiens/Transcript/Summary?t=ENST00000399121\t{'predicate': rdflib.term.URIRef('http://purl.obolibrary.org/obo/RO_0002434'), 'key': 64592}\n",
      "http://purl.obolibrary.org/obo/CHEBI_46024\thttps://uswest.ensembl.org/Homo_sapiens/Transcript/Summary?t=ENST00000644201\t{'predicate': rdflib.term.URIRef('http://purl.obolibrary.org/obo/RO_0002434'), 'key': 64733}\n",
      "http://purl.obolibrary.org/obo/CHEBI_46024\thttps://uswest.ensembl.org/Homo_sapiens/Transcript/Summary?t=ENST00000320985\t{'predicate': rdflib.term.URIRef('http://purl.obolibrary.org/obo/RO_0002434'), 'key': 65047}\n",
      "http://purl.obolibrary.org/obo/CHEBI_46024\thttps://uswest.ensembl.org/Homo_sapiens/Transcript/Summary?t=ENST00000576109\t{'predicate': rdflib.term.URIRef('http://purl.obolibrary.org/obo/RO_0002434'), 'key': 65078}\n",
      "http://purl.obolibrary.org/obo/CHEBI_46024\thttps://uswest.ensembl.org/Homo_sapiens/Transcript/Summary?t=ENST00000555982\t{'predicate': rdflib.term.URIRef('http://purl.obolibrary.org/obo/RO_0002434'), 'key': 65211}\n",
      "http://purl.obolibrary.org/obo/CHEBI_46024\thttps://uswest.ensembl.org/Homo_sapiens/Transcript/Summary?t=ENST00000641253\t{'predicate': rdflib.term.URIRef('http://purl.obolibrary.org/obo/RO_0002434'), 'key': 65280}\n",
      "http://purl.obolibrary.org/obo/CHEBI_46024\thttps://uswest.ensembl.org/Homo_sapiens/Transcript/Summary?t=ENST00000625689\t{'predicate': rdflib.term.URIRef('http://purl.obolibrary.org/obo/RO_0002434'), 'key': 65302}\n",
      "http://purl.obolibrary.org/obo/CHEBI_46024\thttps://uswest.ensembl.org/Homo_sapiens/Transcript/Summary?t=ENST00000661331\t{'predicate': rdflib.term.URIRef('http://purl.obolibrary.org/obo/RO_0002434'), 'key': 66145}\n",
      "http://purl.obolibrary.org/obo/CHEBI_46024\thttps://uswest.ensembl.org/Homo_sapiens/Transcript/Summary?t=ENST00000425063\t{'predicate': rdflib.term.URIRef('http://purl.obolibrary.org/obo/RO_0002434'), 'key': 69235}\n",
      "http://purl.obolibrary.org/obo/CHEBI_46024\thttps://uswest.ensembl.org/Homo_sapiens/Transcript/Summary?t=ENST00000377084\t{'predicate': rdflib.term.URIRef('http://purl.obolibrary.org/obo/RO_0002434'), 'key': 69568}\n",
      "http://purl.obolibrary.org/obo/CHEBI_46024\thttps://uswest.ensembl.org/Homo_sapiens/Transcript/Summary?t=ENST00000639002\t{'predicate': rdflib.term.URIRef('http://purl.obolibrary.org/obo/RO_0002434'), 'key': 69966}\n",
      "http://purl.obolibrary.org/obo/CHEBI_46024\thttps://uswest.ensembl.org/Homo_sapiens/Transcript/Summary?t=ENST00000505340\t{'predicate': rdflib.term.URIRef('http://purl.obolibrary.org/obo/RO_0002434'), 'key': 70056}\n",
      "http://purl.obolibrary.org/obo/CHEBI_46024\thttps://uswest.ensembl.org/Homo_sapiens/Transcript/Summary?t=ENST00000432991\t{'predicate': rdflib.term.URIRef('http://purl.obolibrary.org/obo/RO_0002434'), 'key': 70264}\n",
      "http://purl.obolibrary.org/obo/CHEBI_46024\thttps://uswest.ensembl.org/Homo_sapiens/Transcript/Summary?t=ENST00000572255\t{'predicate': rdflib.term.URIRef('http://purl.obolibrary.org/obo/RO_0002434'), 'key': 70729}\n",
      "http://purl.obolibrary.org/obo/CHEBI_46024\thttps://uswest.ensembl.org/Homo_sapiens/Transcript/Summary?t=ENST00000628432\t{'predicate': rdflib.term.URIRef('http://purl.obolibrary.org/obo/RO_0002434'), 'key': 70750}\n",
      "http://purl.obolibrary.org/obo/CHEBI_46024\thttps://uswest.ensembl.org/Homo_sapiens/Transcript/Summary?t=ENST00000518141\t{'predicate': rdflib.term.URIRef('http://purl.obolibrary.org/obo/RO_0002434'), 'key': 71295}\n",
      "http://purl.obolibrary.org/obo/CHEBI_46024\thttps://uswest.ensembl.org/Homo_sapiens/Transcript/Summary?t=ENST00000472778\t{'predicate': rdflib.term.URIRef('http://purl.obolibrary.org/obo/RO_0002434'), 'key': 72328}\n",
      "http://purl.obolibrary.org/obo/CHEBI_46024\thttps://uswest.ensembl.org/Homo_sapiens/Transcript/Summary?t=ENST00000550771\t{'predicate': rdflib.term.URIRef('http://purl.obolibrary.org/obo/RO_0002434'), 'key': 72391}\n",
      "http://purl.obolibrary.org/obo/CHEBI_46024\thttps://uswest.ensembl.org/Homo_sapiens/Transcript/Summary?t=ENST00000304760\t{'predicate': rdflib.term.URIRef('http://purl.obolibrary.org/obo/RO_0002434'), 'key': 72505}\n",
      "http://purl.obolibrary.org/obo/CHEBI_46024\thttps://uswest.ensembl.org/Homo_sapiens/Transcript/Summary?t=ENST00000547982\t{'predicate': rdflib.term.URIRef('http://purl.obolibrary.org/obo/RO_0002434'), 'key': 73047}\n",
      "http://purl.obolibrary.org/obo/CHEBI_46024\thttps://uswest.ensembl.org/Homo_sapiens/Transcript/Summary?t=ENST00000503822\t{'predicate': rdflib.term.URIRef('http://purl.obolibrary.org/obo/RO_0002434'), 'key': 73494}\n",
      "http://purl.obolibrary.org/obo/CHEBI_46024\thttps://uswest.ensembl.org/Homo_sapiens/Transcript/Summary?t=ENST00000484619\t{'predicate': rdflib.term.URIRef('http://purl.obolibrary.org/obo/RO_0002434'), 'key': 74056}\n",
      "http://purl.obolibrary.org/obo/CHEBI_46024\thttps://uswest.ensembl.org/Homo_sapiens/Transcript/Summary?t=ENST00000599685\t{'predicate': rdflib.term.URIRef('http://purl.obolibrary.org/obo/RO_0002434'), 'key': 74469}\n",
      "http://purl.obolibrary.org/obo/CHEBI_46024\thttps://uswest.ensembl.org/Homo_sapiens/Transcript/Summary?t=ENST00000432245\t{'predicate': rdflib.term.URIRef('http://purl.obolibrary.org/obo/RO_0002434'), 'key': 74542}\n",
      "http://purl.obolibrary.org/obo/CHEBI_46024\thttps://uswest.ensembl.org/Homo_sapiens/Transcript/Summary?t=ENST00000511531\t{'predicate': rdflib.term.URIRef('http://purl.obolibrary.org/obo/RO_0002434'), 'key': 74957}\n",
      "http://purl.obolibrary.org/obo/CHEBI_46024\thttps://uswest.ensembl.org/Homo_sapiens/Transcript/Summary?t=ENST00000498569\t{'predicate': rdflib.term.URIRef('http://purl.obolibrary.org/obo/RO_0002434'), 'key': 75646}\n",
      "http://purl.obolibrary.org/obo/CHEBI_46024\thttps://uswest.ensembl.org/Homo_sapiens/Transcript/Summary?t=ENST00000295701\t{'predicate': rdflib.term.URIRef('http://purl.obolibrary.org/obo/RO_0002434'), 'key': 76248}\n",
      "http://purl.obolibrary.org/obo/CHEBI_46024\thttps://uswest.ensembl.org/Homo_sapiens/Transcript/Summary?t=ENST00000474244\t{'predicate': rdflib.term.URIRef('http://purl.obolibrary.org/obo/RO_0002434'), 'key': 76421}\n",
      "http://purl.obolibrary.org/obo/CHEBI_46024\thttp://purl.obolibrary.org/obo/GO_0030500\t{'predicate': rdflib.term.URIRef('http://purl.obolibrary.org/obo/RO_0002436'), 'key': 76533}\n",
      "http://purl.obolibrary.org/obo/CHEBI_46024\thttps://uswest.ensembl.org/Homo_sapiens/Transcript/Summary?t=ENST00000446490\t{'predicate': rdflib.term.URIRef('http://purl.obolibrary.org/obo/RO_0002434'), 'key': 76898}\n",
      "http://purl.obolibrary.org/obo/CHEBI_46024\thttps://uswest.ensembl.org/Homo_sapiens/Transcript/Summary?t=ENST00000542675\t{'predicate': rdflib.term.URIRef('http://purl.obolibrary.org/obo/RO_0002434'), 'key': 78224}\n",
      "http://purl.obolibrary.org/obo/CHEBI_46024\thttp://purl.obolibrary.org/obo/GO_0016071\t{'predicate': rdflib.term.URIRef('http://purl.obolibrary.org/obo/RO_0002436'), 'key': 79831}\n",
      "http://purl.obolibrary.org/obo/CHEBI_46024\thttp://purl.obolibrary.org/obo/GO_0090090\t{'predicate': rdflib.term.URIRef('http://purl.obolibrary.org/obo/RO_0002436'), 'key': 79951}\n",
      "http://purl.obolibrary.org/obo/CHEBI_46024\thttps://uswest.ensembl.org/Homo_sapiens/Transcript/Summary?t=ENST00000438278\t{'predicate': rdflib.term.URIRef('http://purl.obolibrary.org/obo/RO_0002434'), 'key': 80589}\n",
      "http://purl.obolibrary.org/obo/CHEBI_46024\thttps://uswest.ensembl.org/Homo_sapiens/Transcript/Summary?t=ENST00000360790\t{'predicate': rdflib.term.URIRef('http://purl.obolibrary.org/obo/RO_0002434'), 'key': 80719}\n",
      "http://purl.obolibrary.org/obo/CHEBI_46024\thttps://uswest.ensembl.org/Homo_sapiens/Transcript/Summary?t=ENST00000570650\t{'predicate': rdflib.term.URIRef('http://purl.obolibrary.org/obo/RO_0002434'), 'key': 81309}\n",
      "http://purl.obolibrary.org/obo/CHEBI_46024\thttps://uswest.ensembl.org/Homo_sapiens/Transcript/Summary?t=ENST00000372989\t{'predicate': rdflib.term.URIRef('http://purl.obolibrary.org/obo/RO_0002434'), 'key': 81784}\n",
      "http://purl.obolibrary.org/obo/CHEBI_46024\thttps://uswest.ensembl.org/Homo_sapiens/Transcript/Summary?t=ENST00000649119\t{'predicate': rdflib.term.URIRef('http://purl.obolibrary.org/obo/RO_0002434'), 'key': 82269}\n",
      "http://purl.obolibrary.org/obo/CHEBI_46024\thttps://uswest.ensembl.org/Homo_sapiens/Transcript/Summary?t=ENST00000480024\t{'predicate': rdflib.term.URIRef('http://purl.obolibrary.org/obo/RO_0002434'), 'key': 82742}\n",
      "http://purl.obolibrary.org/obo/CHEBI_46024\thttps://uswest.ensembl.org/Homo_sapiens/Transcript/Summary?t=ENST00000464094\t{'predicate': rdflib.term.URIRef('http://purl.obolibrary.org/obo/RO_0002434'), 'key': 83392}\n",
      "http://purl.obolibrary.org/obo/CHEBI_46024\thttps://uswest.ensembl.org/Homo_sapiens/Transcript/Summary?t=ENST00000482470\t{'predicate': rdflib.term.URIRef('http://purl.obolibrary.org/obo/RO_0002434'), 'key': 86122}\n",
      "http://purl.obolibrary.org/obo/CHEBI_46024\thttps://uswest.ensembl.org/Homo_sapiens/Transcript/Summary?t=ENST00000613302\t{'predicate': rdflib.term.URIRef('http://purl.obolibrary.org/obo/RO_0002434'), 'key': 86209}\n",
      "http://purl.obolibrary.org/obo/CHEBI_46024\thttp://purl.obolibrary.org/obo/GO_0033143\t{'predicate': rdflib.term.URIRef('http://purl.obolibrary.org/obo/RO_0002436'), 'key': 86801}\n",
      "http://purl.obolibrary.org/obo/CHEBI_46024\thttps://uswest.ensembl.org/Homo_sapiens/Transcript/Summary?t=ENST00000502832\t{'predicate': rdflib.term.URIRef('http://purl.obolibrary.org/obo/RO_0002434'), 'key': 87637}\n",
      "http://purl.obolibrary.org/obo/CHEBI_46024\thttp://purl.obolibrary.org/obo/GO_0031056\t{'predicate': rdflib.term.URIRef('http://purl.obolibrary.org/obo/RO_0002436'), 'key': 87687}\n",
      "http://purl.obolibrary.org/obo/CHEBI_46024\thttps://uswest.ensembl.org/Homo_sapiens/Transcript/Summary?t=ENST00000438301\t{'predicate': rdflib.term.URIRef('http://purl.obolibrary.org/obo/RO_0002434'), 'key': 87837}\n",
      "http://purl.obolibrary.org/obo/CHEBI_46024\thttps://uswest.ensembl.org/Homo_sapiens/Transcript/Summary?t=ENST00000424881\t{'predicate': rdflib.term.URIRef('http://purl.obolibrary.org/obo/RO_0002434'), 'key': 88006}\n",
      "http://purl.obolibrary.org/obo/CHEBI_46024\thttps://uswest.ensembl.org/Homo_sapiens/Transcript/Summary?t=ENST00000553652\t{'predicate': rdflib.term.URIRef('http://purl.obolibrary.org/obo/RO_0002434'), 'key': 88521}\n",
      "http://purl.obolibrary.org/obo/CHEBI_46024\thttps://uswest.ensembl.org/Homo_sapiens/Transcript/Summary?t=ENST00000512379\t{'predicate': rdflib.term.URIRef('http://purl.obolibrary.org/obo/RO_0002434'), 'key': 88693}\n",
      "http://purl.obolibrary.org/obo/CHEBI_46024\thttps://uswest.ensembl.org/Homo_sapiens/Transcript/Summary?t=ENST00000456279\t{'predicate': rdflib.term.URIRef('http://purl.obolibrary.org/obo/RO_0002434'), 'key': 89248}\n",
      "http://purl.obolibrary.org/obo/CHEBI_46024\thttps://uswest.ensembl.org/Homo_sapiens/Transcript/Summary?t=ENST00000545203\t{'predicate': rdflib.term.URIRef('http://purl.obolibrary.org/obo/RO_0002434'), 'key': 91721}\n",
      "http://purl.obolibrary.org/obo/CHEBI_46024\thttps://uswest.ensembl.org/Homo_sapiens/Transcript/Summary?t=ENST00000466533\t{'predicate': rdflib.term.URIRef('http://purl.obolibrary.org/obo/RO_0002434'), 'key': 93124}\n",
      "http://purl.obolibrary.org/obo/CHEBI_46024\thttps://uswest.ensembl.org/Homo_sapiens/Transcript/Summary?t=ENST00000547310\t{'predicate': rdflib.term.URIRef('http://purl.obolibrary.org/obo/RO_0002434'), 'key': 94270}\n",
      "http://purl.obolibrary.org/obo/CHEBI_46024\thttps://uswest.ensembl.org/Homo_sapiens/Transcript/Summary?t=ENST00000560566\t{'predicate': rdflib.term.URIRef('http://purl.obolibrary.org/obo/RO_0002434'), 'key': 95338}\n",
      "http://purl.obolibrary.org/obo/CHEBI_46024\thttps://uswest.ensembl.org/Homo_sapiens/Transcript/Summary?t=ENST00000673536\t{'predicate': rdflib.term.URIRef('http://purl.obolibrary.org/obo/RO_0002434'), 'key': 95397}\n",
      "http://purl.obolibrary.org/obo/CHEBI_46024\thttps://uswest.ensembl.org/Homo_sapiens/Transcript/Summary?t=ENST00000244061\t{'predicate': rdflib.term.URIRef('http://purl.obolibrary.org/obo/RO_0002434'), 'key': 95641}\n",
      "http://purl.obolibrary.org/obo/CHEBI_46024\thttps://uswest.ensembl.org/Homo_sapiens/Transcript/Summary?t=ENST00000506928\t{'predicate': rdflib.term.URIRef('http://purl.obolibrary.org/obo/RO_0002434'), 'key': 96297}\n",
      "http://purl.obolibrary.org/obo/CHEBI_46024\thttps://uswest.ensembl.org/Homo_sapiens/Transcript/Summary?t=ENST00000220003\t{'predicate': rdflib.term.URIRef('http://purl.obolibrary.org/obo/RO_0002434'), 'key': 96741}\n",
      "http://purl.obolibrary.org/obo/CHEBI_46024\thttp://purl.obolibrary.org/obo/PR_O43464\t{'predicate': rdflib.term.URIRef('http://purl.obolibrary.org/obo/RO_0002434'), 'key': 97153}\n",
      "http://purl.obolibrary.org/obo/CHEBI_46024\thttps://uswest.ensembl.org/Homo_sapiens/Transcript/Summary?t=ENST00000481069\t{'predicate': rdflib.term.URIRef('http://purl.obolibrary.org/obo/RO_0002434'), 'key': 97271}\n",
      "http://purl.obolibrary.org/obo/CHEBI_46024\thttps://uswest.ensembl.org/Homo_sapiens/Transcript/Summary?t=ENST00000415806\t{'predicate': rdflib.term.URIRef('http://purl.obolibrary.org/obo/RO_0002434'), 'key': 97556}\n",
      "http://purl.obolibrary.org/obo/CHEBI_46024\thttps://uswest.ensembl.org/Homo_sapiens/Transcript/Summary?t=ENST00000515506\t{'predicate': rdflib.term.URIRef('http://purl.obolibrary.org/obo/RO_0002434'), 'key': 98105}\n",
      "http://purl.obolibrary.org/obo/CHEBI_46024\thttps://uswest.ensembl.org/Homo_sapiens/Transcript/Summary?t=ENST00000529145\t{'predicate': rdflib.term.URIRef('http://purl.obolibrary.org/obo/RO_0002434'), 'key': 98565}\n",
      "http://purl.obolibrary.org/obo/CHEBI_46024\thttps://uswest.ensembl.org/Homo_sapiens/Transcript/Summary?t=ENST00000489358\t{'predicate': rdflib.term.URIRef('http://purl.obolibrary.org/obo/RO_0002434'), 'key': 99096}\n",
      "http://purl.obolibrary.org/obo/CHEBI_46024\thttps://uswest.ensembl.org/Homo_sapiens/Transcript/Summary?t=ENST00000343987\t{'predicate': rdflib.term.URIRef('http://purl.obolibrary.org/obo/RO_0002434'), 'key': 99402}\n",
      "http://purl.obolibrary.org/obo/CHEBI_46024\thttps://uswest.ensembl.org/Homo_sapiens/Transcript/Summary?t=ENST00000358394\t{'predicate': rdflib.term.URIRef('http://purl.obolibrary.org/obo/RO_0002434'), 'key': 99635}\n",
      "http://purl.obolibrary.org/obo/CHEBI_46024\thttp://purl.obolibrary.org/obo/PR_000010240\t{'predicate': rdflib.term.URIRef('http://purl.obolibrary.org/obo/RO_0002434'), 'key': 99725}\n",
      "http://purl.obolibrary.org/obo/CHEBI_46024\thttps://uswest.ensembl.org/Homo_sapiens/Transcript/Summary?t=ENST00000648533\t{'predicate': rdflib.term.URIRef('http://purl.obolibrary.org/obo/RO_0002434'), 'key': 100326}\n",
      "http://purl.obolibrary.org/obo/CHEBI_46024\thttp://purl.obolibrary.org/obo/GO_0014003\t{'predicate': rdflib.term.URIRef('http://purl.obolibrary.org/obo/RO_0002436'), 'key': 100989}\n",
      "http://purl.obolibrary.org/obo/CHEBI_46024\thttps://uswest.ensembl.org/Homo_sapiens/Transcript/Summary?t=ENST00000528786\t{'predicate': rdflib.term.URIRef('http://purl.obolibrary.org/obo/RO_0002434'), 'key': 101213}\n",
      "http://purl.obolibrary.org/obo/CHEBI_46024\thttps://uswest.ensembl.org/Homo_sapiens/Transcript/Summary?t=ENST00000546466\t{'predicate': rdflib.term.URIRef('http://purl.obolibrary.org/obo/RO_0002434'), 'key': 101219}\n",
      "http://purl.obolibrary.org/obo/CHEBI_46024\thttps://uswest.ensembl.org/Homo_sapiens/Transcript/Summary?t=ENST00000561395\t{'predicate': rdflib.term.URIRef('http://purl.obolibrary.org/obo/RO_0002434'), 'key': 103373}\n",
      "http://purl.obolibrary.org/obo/CHEBI_46024\thttps://uswest.ensembl.org/Homo_sapiens/Transcript/Summary?t=ENST00000490576\t{'predicate': rdflib.term.URIRef('http://purl.obolibrary.org/obo/RO_0002434'), 'key': 105018}\n",
      "http://purl.obolibrary.org/obo/CHEBI_46024\thttps://uswest.ensembl.org/Homo_sapiens/Transcript/Summary?t=ENST00000619158\t{'predicate': rdflib.term.URIRef('http://purl.obolibrary.org/obo/RO_0002434'), 'key': 105314}\n",
      "http://purl.obolibrary.org/obo/CHEBI_46024\thttps://uswest.ensembl.org/Homo_sapiens/Transcript/Summary?t=ENST00000488060\t{'predicate': rdflib.term.URIRef('http://purl.obolibrary.org/obo/RO_0002434'), 'key': 105655}\n",
      "http://purl.obolibrary.org/obo/CHEBI_46024\thttps://uswest.ensembl.org/Homo_sapiens/Transcript/Summary?t=ENST00000438909\t{'predicate': rdflib.term.URIRef('http://purl.obolibrary.org/obo/RO_0002434'), 'key': 107416}\n",
      "http://purl.obolibrary.org/obo/CHEBI_46024\thttps://uswest.ensembl.org/Homo_sapiens/Transcript/Summary?t=ENST00000430180\t{'predicate': rdflib.term.URIRef('http://purl.obolibrary.org/obo/RO_0002434'), 'key': 107741}\n",
      "http://purl.obolibrary.org/obo/CHEBI_46024\thttps://uswest.ensembl.org/Homo_sapiens/Transcript/Summary?t=ENST00000640094\t{'predicate': rdflib.term.URIRef('http://purl.obolibrary.org/obo/RO_0002434'), 'key': 108012}\n",
      "http://purl.obolibrary.org/obo/CHEBI_46024\thttps://uswest.ensembl.org/Homo_sapiens/Transcript/Summary?t=ENST00000476710\t{'predicate': rdflib.term.URIRef('http://purl.obolibrary.org/obo/RO_0002434'), 'key': 108237}\n",
      "http://purl.obolibrary.org/obo/CHEBI_46024\thttps://uswest.ensembl.org/Homo_sapiens/Transcript/Summary?t=ENST00000519910\t{'predicate': rdflib.term.URIRef('http://purl.obolibrary.org/obo/RO_0002434'), 'key': 108759}\n",
      "http://purl.obolibrary.org/obo/CHEBI_46024\thttps://uswest.ensembl.org/Homo_sapiens/Transcript/Summary?t=ENST00000556491\t{'predicate': rdflib.term.URIRef('http://purl.obolibrary.org/obo/RO_0002434'), 'key': 109311}\n",
      "http://purl.obolibrary.org/obo/CHEBI_46024\thttps://uswest.ensembl.org/Homo_sapiens/Transcript/Summary?t=ENST00000346991\t{'predicate': rdflib.term.URIRef('http://purl.obolibrary.org/obo/RO_0002434'), 'key': 110661}\n",
      "http://purl.obolibrary.org/obo/CHEBI_46024\thttps://uswest.ensembl.org/Homo_sapiens/Transcript/Summary?t=ENST00000482085\t{'predicate': rdflib.term.URIRef('http://purl.obolibrary.org/obo/RO_0002434'), 'key': 111295}\n",
      "http://purl.obolibrary.org/obo/CHEBI_46024\thttps://uswest.ensembl.org/Homo_sapiens/Transcript/Summary?t=ENST00000623056\t{'predicate': rdflib.term.URIRef('http://purl.obolibrary.org/obo/RO_0002434'), 'key': 112110}\n",
      "http://purl.obolibrary.org/obo/CHEBI_46024\thttp://purl.obolibrary.org/obo/GO_0051283\t{'predicate': rdflib.term.URIRef('http://purl.obolibrary.org/obo/RO_0002436'), 'key': 112596}\n",
      "http://purl.obolibrary.org/obo/CHEBI_46024\thttp://purl.obolibrary.org/obo/GO_0071103\t{'predicate': rdflib.term.URIRef('http://purl.obolibrary.org/obo/RO_0002436'), 'key': 112964}\n",
      "http://purl.obolibrary.org/obo/CHEBI_46024\thttps://uswest.ensembl.org/Homo_sapiens/Transcript/Summary?t=ENST00000557954\t{'predicate': rdflib.term.URIRef('http://purl.obolibrary.org/obo/RO_0002434'), 'key': 114360}\n",
      "http://purl.obolibrary.org/obo/CHEBI_46024\thttps://uswest.ensembl.org/Homo_sapiens/Transcript/Summary?t=ENST00000658556\t{'predicate': rdflib.term.URIRef('http://purl.obolibrary.org/obo/RO_0002434'), 'key': 115895}\n",
      "http://purl.obolibrary.org/obo/CHEBI_46024\thttps://uswest.ensembl.org/Homo_sapiens/Transcript/Summary?t=ENST00000595879\t{'predicate': rdflib.term.URIRef('http://purl.obolibrary.org/obo/RO_0002434'), 'key': 115954}\n",
      "http://purl.obolibrary.org/obo/CHEBI_46024\thttp://purl.obolibrary.org/obo/GO_0046885\t{'predicate': rdflib.term.URIRef('http://purl.obolibrary.org/obo/RO_0002436'), 'key': 116711}\n",
      "http://purl.obolibrary.org/obo/CHEBI_46024\thttps://uswest.ensembl.org/Homo_sapiens/Transcript/Summary?t=ENST00000532808\t{'predicate': rdflib.term.URIRef('http://purl.obolibrary.org/obo/RO_0002434'), 'key': 117195}\n",
      "http://purl.obolibrary.org/obo/CHEBI_46024\thttps://uswest.ensembl.org/Homo_sapiens/Transcript/Summary?t=ENST00000669565\t{'predicate': rdflib.term.URIRef('http://purl.obolibrary.org/obo/RO_0002434'), 'key': 117770}\n",
      "http://purl.obolibrary.org/obo/CHEBI_46024\thttps://uswest.ensembl.org/Homo_sapiens/Transcript/Summary?t=ENST00000560877\t{'predicate': rdflib.term.URIRef('http://purl.obolibrary.org/obo/RO_0002434'), 'key': 118893}\n",
      "http://purl.obolibrary.org/obo/CHEBI_46024\thttps://uswest.ensembl.org/Homo_sapiens/Transcript/Summary?t=ENST00000641142\t{'predicate': rdflib.term.URIRef('http://purl.obolibrary.org/obo/RO_0002434'), 'key': 119320}\n",
      "http://purl.obolibrary.org/obo/CHEBI_46024\thttps://uswest.ensembl.org/Homo_sapiens/Transcript/Summary?t=ENST00000473949\t{'predicate': rdflib.term.URIRef('http://purl.obolibrary.org/obo/RO_0002434'), 'key': 119438}\n",
      "http://purl.obolibrary.org/obo/CHEBI_46024\thttps://uswest.ensembl.org/Homo_sapiens/Transcript/Summary?t=ENST00000564596\t{'predicate': rdflib.term.URIRef('http://purl.obolibrary.org/obo/RO_0002434'), 'key': 119495}\n",
      "http://purl.obolibrary.org/obo/CHEBI_46024\thttps://uswest.ensembl.org/Homo_sapiens/Transcript/Summary?t=ENST00000540492\t{'predicate': rdflib.term.URIRef('http://purl.obolibrary.org/obo/RO_0002434'), 'key': 119718}\n",
      "http://purl.obolibrary.org/obo/CHEBI_46024\thttp://purl.obolibrary.org/obo/GO_0019210\t{'predicate': rdflib.term.URIRef('http://purl.obolibrary.org/obo/RO_0002436'), 'key': 120048}\n",
      "http://purl.obolibrary.org/obo/CHEBI_46024\thttps://uswest.ensembl.org/Homo_sapiens/Transcript/Summary?t=ENST00000465164\t{'predicate': rdflib.term.URIRef('http://purl.obolibrary.org/obo/RO_0002434'), 'key': 120289}\n",
      "http://purl.obolibrary.org/obo/CHEBI_46024\thttps://uswest.ensembl.org/Homo_sapiens/Transcript/Summary?t=ENST00000477909\t{'predicate': rdflib.term.URIRef('http://purl.obolibrary.org/obo/RO_0002434'), 'key': 120840}\n",
      "http://purl.obolibrary.org/obo/CHEBI_46024\thttp://purl.obolibrary.org/obo/PR_Q16654\t{'predicate': rdflib.term.URIRef('http://purl.obolibrary.org/obo/RO_0002434'), 'key': 121522}\n",
      "http://purl.obolibrary.org/obo/CHEBI_46024\thttps://uswest.ensembl.org/Homo_sapiens/Transcript/Summary?t=ENST00000517766\t{'predicate': rdflib.term.URIRef('http://purl.obolibrary.org/obo/RO_0002434'), 'key': 123654}\n",
      "http://purl.obolibrary.org/obo/CHEBI_46024\thttps://uswest.ensembl.org/Homo_sapiens/Transcript/Summary?t=ENST00000453023\t{'predicate': rdflib.term.URIRef('http://purl.obolibrary.org/obo/RO_0002434'), 'key': 124183}\n",
      "http://purl.obolibrary.org/obo/CHEBI_46024\thttps://uswest.ensembl.org/Homo_sapiens/Transcript/Summary?t=ENST00000555318\t{'predicate': rdflib.term.URIRef('http://purl.obolibrary.org/obo/RO_0002434'), 'key': 125421}\n",
      "http://purl.obolibrary.org/obo/CHEBI_46024\thttps://uswest.ensembl.org/Homo_sapiens/Transcript/Summary?t=ENST00000262753\t{'predicate': rdflib.term.URIRef('http://purl.obolibrary.org/obo/RO_0002434'), 'key': 126754}\n",
      "http://purl.obolibrary.org/obo/CHEBI_46024\thttp://purl.obolibrary.org/obo/GO_0046031\t{'predicate': rdflib.term.URIRef('http://purl.obolibrary.org/obo/RO_0002436'), 'key': 127023}\n"
     ]
    }
   ],
   "source": [
    "# A sample of what this new graph looks like\n",
    "i = 0\n",
    "for s, o, data in nx_mdg_interacts.edges(data=True):\n",
    "    if i == 200:\n",
    "        break\n",
    "    \n",
    "    print('{}\\t{}\\t{}'.format(s,o,data))\n",
    "    i += 1"
   ]
  },
  {
   "cell_type": "markdown",
   "metadata": {},
   "source": [
    "#### Node2Vec\n",
    "\n",
    "We use Node2Vec [[1]](#refs), to calculate node embeddings. These embeddings are learned in such a way to ensure that nodes that are close in the graph remain close in the embedding space. Node2Vec first involves running random walks on the graph to obtain our context pairs, and using these to train a Word2Vec model.\n",
    "\n",
    "These are the set of parameters we can use:\n",
    "\n",
    "* `p` - Random walk parameter \"p\"\n",
    "* `q` - Random walk parameter \"q\"\n",
    "* `dimensions` - Dimensionality of node2vec embeddings\n",
    "* `num_walks` - Number of walks from each node\n",
    "* `walk_length` - Length of each random walk\n",
    "* `window_size` - Context window size for Word2Vec\n",
    "* `num_iter` - number of SGD iterations (epochs)\n",
    "* `workers` - Number of workers for Word2Vec"
   ]
  },
  {
   "cell_type": "markdown",
   "metadata": {},
   "source": [
    "There are a few steps involved in using the model to perform link prediction:\n",
    "1. We calculate link/edge embeddings for the positive and negative edge samples by applying a binary operator on the embeddings of the source and target nodes of each sampled edge.\n",
    "2. Given the embeddings of the positive and negative examples, we train a logistic regression classifier to predict the probability indicating whether an edge between two nodes should exist or not.\n",
    "3. To use the embeddings in a traditional machine learning classifier, we use binary operators on the embeddings such as average, Hadamard, L1, L2. Here we use the 'average operator' with node embeddings in the logistic regression classifier.\n"
   ]
  },
  {
   "cell_type": "markdown",
   "metadata": {},
   "source": [
    "The next cells aply the node2vec to conctruc a 30 dimension embedding of the interaction sub-graph using 5 random walks per node with up to 10 node steps each. These hyperparameters are not tuned."
   ]
  },
  {
   "cell_type": "code",
   "execution_count": 32,
   "metadata": {},
   "outputs": [
    {
     "data": {
      "application/vnd.jupyter.widget-view+json": {
       "model_id": "16ae6b30e78f4d93a0ef0e1ec6a3f2b6",
       "version_major": 2,
       "version_minor": 0
      },
      "text/plain": [
       "HBox(children=(FloatProgress(value=0.0, description='Computing transition probabilities', max=30568.0, style=P…"
      ]
     },
     "metadata": {},
     "output_type": "display_data"
    },
    {
     "name": "stderr",
     "output_type": "stream",
     "text": [
      "Generating walks (CPU: 1):   0%|          | 0/5 [00:00<?, ?it/s]"
     ]
    },
    {
     "name": "stdout",
     "output_type": "stream",
     "text": [
      "\n"
     ]
    },
    {
     "name": "stderr",
     "output_type": "stream",
     "text": [
      "Generating walks (CPU: 1): 100%|██████████| 5/5 [00:07<00:00,  1.46s/it]\n"
     ]
    }
   ],
   "source": [
    "node2vec = Node2Vec(nx_mdg_interacts, dimensions=30, walk_length=10, num_walks=5, workers=1)"
   ]
  },
  {
   "cell_type": "code",
   "execution_count": 33,
   "metadata": {},
   "outputs": [],
   "source": [
    "model = node2vec.fit(window=10, min_count=1, batch_words=4, vector_size=200)"
   ]
  },
  {
   "cell_type": "code",
   "execution_count": 34,
   "metadata": {},
   "outputs": [],
   "source": [
    "model.save('PheKnowLator_full_InverseRelations_NotClosed_OWLNETS_INTERACTS.model')"
   ]
  },
  {
   "cell_type": "code",
   "execution_count": 35,
   "metadata": {},
   "outputs": [],
   "source": [
    "## Uncomment this and run it to reload the model from a file if you have already created it\n",
    "# from gensim.models import Word2Vec\n",
    "# model = Word2Vec.load('PheKnowLator_full_InverseRelations_NotClosed_OWLNETS_INTERACTS.model')"
   ]
  },
  {
   "cell_type": "markdown",
   "metadata": {},
   "source": [
    "We can examine the embedding vectors for any node in the graph."
   ]
  },
  {
   "cell_type": "code",
   "execution_count": 36,
   "metadata": {},
   "outputs": [
    {
     "data": {
      "text/plain": [
       "array([-5.93670527e-04, -5.17316349e-03,  1.10559724e-03, -4.34594724e-04,\n",
       "        3.10785999e-03,  2.64846301e-03, -2.34318012e-03, -2.80945818e-03,\n",
       "       -3.97979235e-03, -1.83007820e-03, -3.55141994e-04, -2.85191782e-05,\n",
       "       -2.26112944e-03, -3.46464943e-03,  3.44630890e-03,  1.93310273e-03,\n",
       "       -2.52015167e-03, -8.02397495e-04, -2.38945824e-03,  2.79004732e-03,\n",
       "       -1.87318027e-03,  7.45047932e-04, -2.90185725e-03,  2.36411448e-04,\n",
       "       -3.76802962e-03,  2.61286553e-03, -2.85741151e-03,  1.00265106e-03,\n",
       "       -5.24299452e-03, -2.61541409e-03,  3.05629661e-03,  8.82533088e-04,\n",
       "        2.04425189e-03, -3.32299829e-03, -8.91144795e-04, -8.20668647e-04,\n",
       "        5.66369528e-03, -5.66688941e-05, -1.31841877e-03,  3.84059455e-03,\n",
       "        2.41078739e-03, -5.86752663e-04, -2.77923793e-03, -1.28730072e-03,\n",
       "        4.38222801e-03, -3.47604160e-03,  4.44684643e-03,  3.64490552e-03,\n",
       "        3.61964875e-03,  3.83566995e-03,  3.26912547e-03, -4.83042514e-03,\n",
       "       -1.92926941e-03, -2.15248903e-03, -2.58043851e-03, -5.00519853e-03,\n",
       "        1.32029760e-03,  1.94551772e-03, -1.68608921e-03,  4.81924973e-03,\n",
       "        1.48367835e-04,  4.74499632e-03,  3.50679713e-03, -1.66163419e-03,\n",
       "       -8.23607261e-04, -2.25535105e-03, -5.01997955e-03,  4.87569487e-03,\n",
       "        2.49880902e-03,  6.08444447e-03, -2.41173035e-03, -5.01612155e-03,\n",
       "       -1.69588067e-03, -5.47758909e-03, -1.35928611e-04,  3.02844634e-03,\n",
       "       -4.12063644e-04,  1.36558185e-04, -4.96402569e-03,  4.77811508e-03,\n",
       "       -3.27688036e-03, -2.20084563e-04,  2.70698080e-03,  5.07181918e-04,\n",
       "        5.45286748e-04,  3.46467772e-04, -3.34577914e-03,  3.90197546e-03,\n",
       "       -3.80905182e-03,  3.99861671e-03,  1.19938771e-03,  4.71454859e-03,\n",
       "        5.35847107e-03,  2.52724718e-03, -8.16151442e-04, -2.18040100e-03,\n",
       "        1.30061328e-03, -5.35252225e-03,  1.67543080e-03,  3.21206590e-03,\n",
       "       -3.60435643e-03,  3.44342389e-03, -1.01536702e-04, -3.36248078e-03,\n",
       "       -2.72081397e-03, -2.20642635e-03,  2.46572751e-03,  2.24830699e-03,\n",
       "       -3.47754173e-03, -1.09501695e-03, -1.61778193e-03, -3.59795726e-04,\n",
       "       -1.92772213e-03,  1.39685289e-03, -2.47116294e-03, -5.35246450e-03,\n",
       "       -8.03560950e-04,  4.92050836e-04,  4.36888356e-03, -2.34806235e-03,\n",
       "       -1.31652411e-03,  1.17875962e-03, -1.95864285e-03,  6.13122538e-04,\n",
       "       -3.01688560e-04, -3.63329775e-03,  2.74200086e-03,  2.60123308e-03,\n",
       "       -7.54590146e-05,  1.05382416e-04,  1.98928686e-03, -3.22901108e-03,\n",
       "        3.47754126e-03, -3.85195133e-03, -2.82802945e-03,  3.55252618e-04,\n",
       "       -5.06112818e-03,  2.32470897e-03, -6.80142490e-04,  2.74184020e-03,\n",
       "        2.66529061e-03, -1.29072461e-03, -5.54584991e-03, -3.57623212e-03,\n",
       "        1.93276105e-03, -7.66927318e-04,  2.46916991e-03,  2.35146214e-03,\n",
       "       -4.20253817e-03,  2.80886260e-03, -2.73756240e-03, -6.73511019e-03,\n",
       "        5.41978457e-04,  6.95810013e-04, -1.83851854e-03,  2.94306432e-03,\n",
       "       -3.92152555e-03, -3.85842309e-03,  4.79461579e-03,  4.97207372e-03,\n",
       "        1.68783136e-03,  6.07992057e-03, -5.26261283e-03,  3.86010436e-03,\n",
       "        1.72674761e-03,  3.80322174e-03,  5.80999418e-04, -5.50808618e-03,\n",
       "       -2.83365953e-03,  5.03558479e-03, -3.79497535e-03, -1.06646598e-03,\n",
       "       -4.36096510e-04, -2.53260625e-03, -1.16315600e-03, -4.77982219e-03,\n",
       "        3.82804894e-03,  5.34420414e-03,  4.78050765e-03,  1.88370747e-03,\n",
       "       -7.53403176e-04,  4.24457854e-03, -2.41278368e-03,  5.40450774e-03,\n",
       "        2.69152084e-03,  2.19372101e-03,  1.14082370e-03,  7.98270979e-04,\n",
       "       -2.16708495e-03,  2.38493504e-03,  5.05422894e-03, -4.71809739e-03,\n",
       "       -2.82402849e-03, -1.00218633e-03,  5.49153052e-03,  1.37958198e-03,\n",
       "        5.11023868e-03, -1.59002806e-03, -5.85646508e-03,  5.27287275e-03],\n",
       "      dtype=float32)"
      ]
     },
     "execution_count": 36,
     "metadata": {},
     "output_type": "execute_result"
    }
   ],
   "source": [
    "# the drug entinostat\n",
    "model.wv.get_vector('http://purl.obolibrary.org/obo/CHEBI_132082')"
   ]
  },
  {
   "cell_type": "code",
   "execution_count": 37,
   "metadata": {},
   "outputs": [
    {
     "data": {
      "text/plain": [
       "[('http://purl.obolibrary.org/obo/PR_Q15436', 0.2880791425704956),\n",
       " ('http://purl.obolibrary.org/obo/CHEBI_39867', 0.2801530063152313),\n",
       " ('http://purl.obolibrary.org/obo/GO_0007275', 0.27965760231018066),\n",
       " ('http://purl.obolibrary.org/obo/PR_P63167', 0.2755066752433777),\n",
       " ('https://www.ncbi.nlm.nih.gov/gene/9734', 0.27121084928512573),\n",
       " ('https://www.ncbi.nlm.nih.gov/gene/28984', 0.2696928083896637),\n",
       " ('https://www.ncbi.nlm.nih.gov/gene/4726', 0.2615227699279785),\n",
       " ('http://purl.obolibrary.org/obo/CHEBI_45716', 0.2602190673351288),\n",
       " ('https://www.ncbi.nlm.nih.gov/gene/9500', 0.2584768533706665),\n",
       " ('https://www.ncbi.nlm.nih.gov/gene/9081', 0.2555481791496277)]"
      ]
     },
     "execution_count": 37,
     "metadata": {},
     "output_type": "execute_result"
    }
   ],
   "source": [
    "model.wv.most_similar('http://purl.obolibrary.org/obo/CHEBI_132082')"
   ]
  },
  {
   "cell_type": "code",
   "execution_count": 38,
   "metadata": {},
   "outputs": [
    {
     "data": {
      "text/plain": [
       "array([-2.4946450e-04, -2.2245706e-03,  3.8163955e-03, -4.4157868e-03,\n",
       "       -2.6619053e-03, -4.1387943e-03,  3.5243883e-04, -4.0848114e-04,\n",
       "       -3.0815841e-03,  3.6395199e-03, -2.0938814e-03, -5.0422843e-03,\n",
       "        1.1586120e-03, -5.0233668e-03,  4.5230807e-04,  2.3617669e-05,\n",
       "       -4.0696347e-03,  4.4757947e-03, -3.2621042e-03, -5.0370586e-03,\n",
       "        3.9223293e-03,  2.7220657e-03,  8.6980406e-04,  7.2830204e-05,\n",
       "       -1.9545886e-03,  1.4149619e-04, -9.5717754e-04, -1.6380666e-03,\n",
       "        4.6243938e-03,  3.1584823e-03, -4.0717321e-03,  3.4332299e-03,\n",
       "        1.4038777e-03, -1.7748680e-04,  6.7058060e-04, -2.0902080e-03,\n",
       "        4.2528696e-03, -6.6892640e-04, -1.4804092e-03, -3.8500098e-03,\n",
       "       -1.5967677e-03, -4.4460180e-03,  4.8620580e-04,  5.0436164e-04,\n",
       "       -4.2818976e-03,  3.2651313e-03,  4.1220891e-03,  4.8834383e-03,\n",
       "       -1.4177533e-03,  3.8324569e-03, -3.8837799e-04,  3.4165748e-03,\n",
       "       -1.0933253e-03, -1.8316426e-03, -1.0094808e-03, -1.2022591e-03,\n",
       "        8.7017083e-04, -2.8170939e-03,  3.7692350e-03, -1.2478449e-03,\n",
       "        3.2725958e-03, -3.2483158e-03,  2.9416562e-03, -2.5902174e-03,\n",
       "       -4.5138188e-03,  3.6992312e-03, -2.9734599e-03,  2.7086819e-03,\n",
       "       -3.9359339e-04, -1.2883666e-03,  2.2409570e-03, -2.8592797e-03,\n",
       "       -3.6003590e-03,  1.0444125e-03, -7.4218330e-04,  4.7393176e-03,\n",
       "       -8.1064249e-04,  7.3201727e-04,  4.6591577e-04, -1.4857929e-03,\n",
       "       -1.4353332e-03,  2.9952596e-03, -9.5171446e-04, -1.3865973e-05,\n",
       "        1.3065679e-03, -2.4474454e-03, -5.5149838e-04, -1.6643205e-03,\n",
       "       -4.4884440e-03,  1.3621603e-03, -1.4990829e-03,  2.3785918e-03,\n",
       "        5.5364368e-04,  2.8624597e-03, -2.2160090e-03,  8.6930086e-04,\n",
       "        3.4556440e-03, -2.3764029e-05, -1.5004183e-03,  1.0530731e-03,\n",
       "        4.4543037e-04, -3.0932825e-03,  4.1154316e-03,  3.3807403e-03,\n",
       "        3.8586480e-03, -1.9941723e-03,  1.0587927e-03, -1.4964959e-03,\n",
       "        6.5185636e-04,  5.5114296e-04, -4.0091239e-03, -3.7534146e-03,\n",
       "       -1.6692142e-03, -2.0679443e-03, -2.4936122e-03, -2.3120462e-03,\n",
       "        2.1847480e-03, -1.4671450e-03,  3.7504935e-03, -4.0012258e-03,\n",
       "        2.1381518e-03, -4.8250617e-03, -2.2829613e-03,  2.5193412e-03,\n",
       "       -3.9944211e-05,  3.7345956e-03,  1.7623714e-03,  2.1389765e-03,\n",
       "       -1.7464269e-03,  4.2614904e-03,  4.7285371e-03,  4.4633946e-03,\n",
       "       -8.9225662e-04,  3.7336776e-03,  3.9666402e-03, -3.6836276e-03,\n",
       "       -4.7202781e-03, -3.1325705e-03, -3.2401888e-03,  2.7499150e-03,\n",
       "        2.2558153e-03, -1.6838121e-03,  2.8610257e-03, -4.5430011e-04,\n",
       "       -3.8265008e-03, -4.9966509e-03, -2.5447009e-03,  1.7852302e-03,\n",
       "       -1.3178252e-03, -5.7544408e-04,  3.0549131e-03, -3.9582388e-03,\n",
       "       -2.0965303e-05, -4.8947930e-03,  1.2961137e-03,  5.0006439e-03,\n",
       "        1.1389842e-03,  4.2632511e-03, -1.6060002e-03, -2.8207718e-04,\n",
       "        4.9179331e-03,  3.5775208e-03, -5.9208734e-04, -3.6398964e-03,\n",
       "       -1.6275314e-03, -1.0355790e-03, -3.5224748e-03,  1.5157330e-04,\n",
       "       -1.6948679e-03, -3.0457889e-04,  2.9342994e-04,  2.6049109e-03,\n",
       "       -9.9083618e-04,  4.8543354e-03, -1.9257750e-03, -7.0141663e-04,\n",
       "        1.1202565e-03, -3.5546410e-03,  3.6414748e-04, -8.8707590e-04,\n",
       "       -2.4103273e-03,  1.0092297e-03,  4.1062329e-03,  1.0988779e-03,\n",
       "       -5.4241787e-04,  3.1040893e-03,  2.5854053e-04,  1.2882195e-03,\n",
       "       -1.0484781e-03,  3.9170831e-03,  3.0734297e-04,  1.4255748e-03,\n",
       "        6.2275853e-04,  4.0316279e-03,  2.6492530e-03, -3.8751166e-03,\n",
       "       -2.1845174e-03,  5.4843677e-04,  3.6251583e-04,  5.0553610e-03],\n",
       "      dtype=float32)"
      ]
     },
     "execution_count": 38,
     "metadata": {},
     "output_type": "execute_result"
    }
   ],
   "source": [
    "# positive regulation of nervous system development\n",
    "model.wv.get_vector('http://purl.obolibrary.org/obo/GO_0051962')"
   ]
  },
  {
   "cell_type": "markdown",
   "metadata": {},
   "source": [
    "We can also seek the most similar nodes to a given ndode in the embedding space "
   ]
  },
  {
   "cell_type": "code",
   "execution_count": 39,
   "metadata": {},
   "outputs": [
    {
     "data": {
      "text/plain": [
       "[('https://www.ncbi.nlm.nih.gov/gene/7436', 0.2810508608818054),\n",
       " ('http://purl.obolibrary.org/obo/PR_000009232', 0.27281567454338074),\n",
       " ('http://purl.obolibrary.org/obo/PR_000000123', 0.2670929431915283),\n",
       " ('http://purl.obolibrary.org/obo/GO_0048856', 0.25589990615844727),\n",
       " ('http://purl.obolibrary.org/obo/PR_000007253', 0.25027763843536377),\n",
       " ('https://www.ncbi.nlm.nih.gov/gene/29126', 0.24317747354507446),\n",
       " ('http://purl.obolibrary.org/obo/GO_0006767', 0.23713308572769165),\n",
       " ('http://purl.obolibrary.org/obo/PR_P29323', 0.23678505420684814),\n",
       " ('http://purl.obolibrary.org/obo/PR_Q99880', 0.2366356998682022),\n",
       " ('https://www.ncbi.nlm.nih.gov/gene/10769', 0.23162728548049927)]"
      ]
     },
     "execution_count": 39,
     "metadata": {},
     "output_type": "execute_result"
    }
   ],
   "source": [
    "model.wv.most_similar('http://purl.obolibrary.org/obo/GO_0051962')"
   ]
  },
  {
   "cell_type": "code",
   "execution_count": 40,
   "metadata": {},
   "outputs": [
    {
     "data": {
      "text/plain": [
       "[('http://purl.obolibrary.org/obo/PR_P47992', 0.277768611907959),\n",
       " ('https://www.ncbi.nlm.nih.gov/gene/6352', 0.27562808990478516),\n",
       " ('http://purl.obolibrary.org/obo/PR_000008875', 0.27455294132232666),\n",
       " ('http://purl.obolibrary.org/obo/PR_P55081', 0.2608744502067566),\n",
       " ('http://purl.obolibrary.org/obo/PR_O14638', 0.2570715844631195),\n",
       " ('http://purl.obolibrary.org/obo/GO_1901215', 0.24670900404453278),\n",
       " ('http://purl.obolibrary.org/obo/PR_P13569', 0.24514862895011902),\n",
       " ('http://purl.obolibrary.org/obo/GO_0097242', 0.24114495515823364),\n",
       " ('http://purl.obolibrary.org/obo/PR_Q8IV08', 0.24086478352546692),\n",
       " ('http://purl.obolibrary.org/obo/PR_000007694', 0.23945611715316772)]"
      ]
     },
     "execution_count": 40,
     "metadata": {},
     "output_type": "execute_result"
    }
   ],
   "source": [
    "# positive=purine ribonucleoside binding and negative=positive regulation of nervous system development\n",
    "model.wv.most_similar(positive=['http://purl.obolibrary.org/obo/GO_0032550'],negative=['http://purl.obolibrary.org/obo/GO_0051962'])"
   ]
  },
  {
   "cell_type": "markdown",
   "metadata": {},
   "source": [
    "The next cells train a model for link prediction using the embeddings. We start by building an adjacency matrix and then traversing it to find the positions of the zeros which represent node pairs that are not connected in the graph.  "
   ]
  },
  {
   "cell_type": "markdown",
   "metadata": {},
   "source": [
    "The steps shown here follow the same procedure used in this [nice tutorial by Prateek Joshi](https://www.analyticsvidhya.com/blog/2020/01/link-prediction-how-to-predict-your-future-connections-on-facebook/) but applied to the interaction sub-graph of the PheKnowLator graph.  "
   ]
  },
  {
   "cell_type": "code",
   "execution_count": 41,
   "metadata": {},
   "outputs": [],
   "source": [
    "nodelist = []\n",
    "nds = nx_mdg_interacts.nodes()\n",
    "initial_node_count = nx.number_of_nodes(nx_mdg_interacts)\n",
    "for n in nds:\n",
    "    nodelist.append(n)"
   ]
  },
  {
   "cell_type": "code",
   "execution_count": 42,
   "metadata": {},
   "outputs": [],
   "source": [
    "# build adjacency matrix\n",
    "adj_G = nx.to_numpy_matrix(nx_mdg_interacts,nodelist)"
   ]
  },
  {
   "cell_type": "code",
   "execution_count": 43,
   "metadata": {},
   "outputs": [
    {
     "data": {
      "text/plain": [
       "(30568, 30568)"
      ]
     },
     "execution_count": 43,
     "metadata": {},
     "output_type": "execute_result"
    }
   ],
   "source": [
    "adj_G.shape"
   ]
  },
  {
   "cell_type": "code",
   "execution_count": 44,
   "metadata": {},
   "outputs": [],
   "source": [
    "# get unconnected node-pairs\n",
    "all_unconnected_pairs = [None]*(adj_G.shape[0]*adj_G.shape[1])\n",
    "all_connected_pairs = [None]*(adj_G.shape[0]*adj_G.shape[1])\n",
    "\n",
    "# traverse adjacency matrix (iterate columns by rows)\n",
    "offset = 0\n",
    "for i in range(adj_G.shape[0]):\n",
    "  for j in range(offset,adj_G.shape[1]):\n",
    "    if i != j:\n",
    "        if adj_G[i,j] == 0:\n",
    "          all_unconnected_pairs[i+j] = (nodelist[i],nodelist[j])\n",
    "        else:            \n",
    "          all_connected_pairs[i+j] = (nodelist[i],nodelist[j])\n",
    "\n",
    "  offset = offset + 1"
   ]
  },
  {
   "cell_type": "code",
   "execution_count": null,
   "metadata": {},
   "outputs": [],
   "source": [
    "import pandas as pd\n",
    "\n",
    "all_connected_pairs_clean = [x for x in filter(lambda x: x != None, all_connected_pairs)]\n",
    "node_1_linked = [i[0] for i in all_connected_pairs_clean]\n",
    "node_2_linked = [i[1] for i in all_connected_pairs_clean]\n",
    "original_g_df = pd.DataFrame({'node_1':node_1_linked, \n",
    "                              'node_2':node_2_linked})\n",
    "\n",
    "all_unconnected_pairs_clean = [x for x in filter(lambda x: x != None, all_unconnected_pairs)]\n",
    "node_1_unlinked = [i[0] for i in all_unconnected_pairs_clean]\n",
    "node_2_unlinked = [i[1] for i in all_unconnected_pairs_clean]\n",
    "data = pd.DataFrame({'node_1':node_1_unlinked, \n",
    "                     'node_2':node_2_unlinked})\n",
    "\n",
    "# add target variable 'link'\n",
    "data['link'] = 0"
   ]
  },
  {
   "cell_type": "code",
   "execution_count": null,
   "metadata": {},
   "outputs": [],
   "source": [
    "import pickle\n",
    "f = open('original_g_df.pickle','wb')\n",
    "pickle.dump(original_g_df,f)\n",
    "f.close()\n",
    "\n",
    "f = open('data.pickle','wb')\n",
    "pickle.dump(data,f)\n",
    "f.close()"
   ]
  },
  {
   "cell_type": "code",
   "execution_count": null,
   "metadata": {},
   "outputs": [],
   "source": [
    "## Use this cell to reload if needed\n",
    "#import pickle\n",
    "#f = open('original_g_df.pickle','rb')\n",
    "#original_g_df = pickle.load(f)\n",
    "#f.close()\n",
    "\n",
    "#f = open('data.pickle','rb')\n",
    "#data = pickle.load(f)\n",
    "#f.close()"
   ]
  },
  {
   "cell_type": "code",
   "execution_count": null,
   "metadata": {},
   "outputs": [],
   "source": [
    "G_orig = nx.from_pandas_edgelist(original_g_df, \"node_1\", \"node_2\", create_using=nx.Graph())\n",
    "initial_node_count = nx.number_of_nodes(G_orig)\n",
    "print('initial_node_count: {}'.format(initial_node_count))"
   ]
  },
  {
   "cell_type": "code",
   "execution_count": null,
   "metadata": {},
   "outputs": [],
   "source": [
    "original_g_df_temp = original_g_df.copy()\n",
    "G_temp = nx.from_pandas_edgelist(original_g_df_temp.drop(2), \"node_1\", \"node_2\", create_using=nx.Graph())\n",
    "temp_node_count = nx.number_of_nodes(G_temp)\n",
    "print('temp_node_count: {}'.format(temp_node_count))"
   ]
  },
  {
   "cell_type": "code",
   "execution_count": null,
   "metadata": {},
   "outputs": [],
   "source": [
    "original_g_df_temp = original_g_df.copy()\n",
    "\n",
    "# empty list to store removable links\n",
    "omissible_links_index = []\n",
    "\n",
    "ctr = 0\n",
    "ctr2 = 0\n",
    "for i in original_g_df.index.values:\n",
    "    # remove a node pair and build a new graph\n",
    "    G_temp = nx.from_pandas_edgelist(original_g_df_temp.drop(i), \"node_1\", \"node_2\", create_using=nx.Graph())\n",
    "    \n",
    "    #print('len(G_temp.nodes): {}'.format(nx.number_of_nodes(G_temp)))\n",
    "    \n",
    "    ctr2 += 1\n",
    "    if ctr2 % 1000 == 0:\n",
    "        print(str(ctr2))\n",
    "    \n",
    "    # check that the number of nodes is same as the resulting graph\n",
    "    if (nx.number_of_nodes(G_temp) == initial_node_count):                                                            \n",
    "        omissible_links_index.append(i)\n",
    "        original_g_df_temp = original_g_df_temp.drop(index = i)\n",
    "        ctr += 1\n",
    "        if ctr % 500 == 0:\n",
    "            print('[info] Count of admissable links: {}'.format(ctr))\n",
    "        if ctr == 2000:\n",
    "            break"
   ]
  },
  {
   "cell_type": "code",
   "execution_count": null,
   "metadata": {},
   "outputs": [],
   "source": [
    "len(omissible_links_index)"
   ]
  },
  {
   "cell_type": "code",
   "execution_count": null,
   "metadata": {},
   "outputs": [],
   "source": [
    "f = open('omissible_links_index.pickle','wb')\n",
    "pickle.dump(omissible_links_index,f)\n",
    "f.close()"
   ]
  },
  {
   "cell_type": "code",
   "execution_count": null,
   "metadata": {},
   "outputs": [],
   "source": [
    "# create dataframe of removable edges\n",
    "original_g_df_ghost = original_g_df.loc[omissible_links_index]\n",
    "\n",
    "# add the target variable 'link'\n",
    "original_g_df_ghost['link'] = 1\n",
    "\n",
    "# Reduce the dataset containing non-connected nodes to 4K so that there is a 1:2 ratio of connected nodes to non-connected nodes\n",
    "# The reduced dataset is a random sample without replacement\n",
    "data_reduced = data.sample(4000)\n",
    "\n",
    "data_reduced = data_reduced.append(original_g_df_ghost[['node_1', 'node_2', 'link']], ignore_index=True)"
   ]
  },
  {
   "cell_type": "code",
   "execution_count": null,
   "metadata": {},
   "outputs": [],
   "source": [
    "model.wv.get_vector('http://purl.obolibrary.org/obo/CHEBI_2430')"
   ]
  },
  {
   "cell_type": "code",
   "execution_count": null,
   "metadata": {},
   "outputs": [],
   "source": [
    "x = [model.wv.get_vector(i.toPython()) + model.wv.get_vector(j.toPython()) for i,j in zip(data_reduced['node_1'], data_reduced['node_2'])]"
   ]
  },
  {
   "cell_type": "code",
   "execution_count": null,
   "metadata": {},
   "outputs": [],
   "source": [
    "from sklearn.model_selection import train_test_split\n",
    "from sklearn.metrics import roc_auc_score\n",
    "from sklearn.dummy import DummyClassifier\n",
    "from sklearn.linear_model import LogisticRegression\n",
    "from sklearn.metrics import f1_score\n",
    "import numpy as np\n",
    "xtrain, xtest, ytrain, ytest = train_test_split(np.array(x), \n",
    "                                                data_reduced['link'], \n",
    "                                                test_size = 0.3, \n",
    "                                                random_state = 35)"
   ]
  },
  {
   "cell_type": "markdown",
   "metadata": {},
   "source": [
    "Two baseline classifiers with which to compare the LR using embedding features"
   ]
  },
  {
   "cell_type": "code",
   "execution_count": null,
   "metadata": {},
   "outputs": [],
   "source": [
    "dummy_clf = DummyClassifier(strategy=\"most_frequent\")\n",
    "dummy_clf.fit(xtrain, ytrain)\n",
    "predictions = dummy_clf.predict_proba(xtest)\n",
    "roc_auc_score(ytest, predictions[:,1])"
   ]
  },
  {
   "cell_type": "code",
   "execution_count": null,
   "metadata": {},
   "outputs": [],
   "source": [
    "dummy_clf = DummyClassifier(strategy=\"stratified\")\n",
    "dummy_clf.fit(xtrain, ytrain)\n",
    "predictions = dummy_clf.predict_proba(xtest)\n",
    "roc_auc_score(ytest, predictions[:,1])"
   ]
  },
  {
   "cell_type": "code",
   "execution_count": null,
   "metadata": {},
   "outputs": [],
   "source": [
    "yhat = dummy_clf.predict(xtest)\n",
    "d_f1 = f1_score(ytest, yhat)\n",
    "print('F1: {}'.format(d_f1))"
   ]
  },
  {
   "cell_type": "markdown",
   "metadata": {},
   "source": [
    "LR using the node2vec embeddings"
   ]
  },
  {
   "cell_type": "code",
   "execution_count": null,
   "metadata": {},
   "outputs": [],
   "source": [
    "lr = LogisticRegression(class_weight=\"balanced\")\n",
    "lr.fit(xtrain, ytrain)"
   ]
  },
  {
   "cell_type": "code",
   "execution_count": null,
   "metadata": {},
   "outputs": [],
   "source": [
    "predictions = lr.predict_proba(xtest)"
   ]
  },
  {
   "cell_type": "code",
   "execution_count": null,
   "metadata": {},
   "outputs": [],
   "source": [
    "roc_auc_score(ytest, predictions[:,1])"
   ]
  },
  {
   "cell_type": "code",
   "execution_count": null,
   "metadata": {},
   "outputs": [],
   "source": [
    "yhat = lr.predict(xtest)\n",
    "lr_f1 = f1_score(ytest, yhat)\n",
    "print('F1: {}'.format(lr_f1))"
   ]
  },
  {
   "cell_type": "code",
   "execution_count": null,
   "metadata": {},
   "outputs": [],
   "source": [
    "%matplotlib inline\n",
    "\n",
    "from sklearn.metrics import precision_recall_curve\n",
    "import matplotlib.pyplot as plt\n",
    "\n",
    "lr_precision, lr_recall, _ = precision_recall_curve(ytest, predictions[:,1])\n",
    "\n",
    "plt.plot(lr_recall, lr_precision, marker='.', label='Logistic')\n",
    "\n",
    "# axis labels\n",
    "plt.xlabel('Recall')\n",
    "plt.ylabel('Precision')\n",
    "# show the legend\n",
    "plt.legend()\n",
    "# show the plot\n",
    "plt.show()\n"
   ]
  },
  {
   "cell_type": "markdown",
   "metadata": {},
   "source": [
    "### Question 10: \n",
    "\n",
    "List 3 applications of network embeddings in biomedicine. For each embedding application, name an ontology that you believe would be useful in constructing the knowledge graph that would be used to create the embeddings."
   ]
  },
  {
   "cell_type": "markdown",
   "metadata": {},
   "source": [
    "### Answer: \n",
    "how genes and disease pathways are related - GO Gene Ontology\n",
    "Transcriptional regulation and drug targets fot different pathways - BioPax\n",
    "how an organism's gene functions are related to other organism's gene function - GO Gene Ontology\n"
   ]
  },
  {
   "cell_type": "markdown",
   "metadata": {},
   "source": [
    "### Question 11: \n",
    "\n",
    "Node embedding methods (such as node2vec and DeepWalk) use node features to embed graph information into vector space. Explain ‘node features’ with a few examples."
   ]
  },
  {
   "cell_type": "markdown",
   "metadata": {},
   "source": [
    "### Answer: \n",
    "if we are trying to find a protein - protein interactions, the nodes are proteins here and node features include the features of proteins like surface accessibility, sequence conservation, and residue properties like hydrophobicity and charge.\n",
    "The same can be applied for TF - pathway relationship, where node features are TF affinity or gene expression."
   ]
  },
  {
   "cell_type": "markdown",
   "metadata": {},
   "source": [
    "### Question 12: \n",
    "\n",
    "List a few data sources used to create the kg-covid-19 knowledge graph and find examples of triples that are included in the graph. "
   ]
  },
  {
   "cell_type": "markdown",
   "metadata": {},
   "source": [
    "### Answer: \n",
    "databases: DrugCentral, the Pharmacogenomics Knowledgebase (PharmGKB), Therapeutic Target Database (TTD),] and ChEMBL), \n",
    "functional annotations and synonyms for coronavirus genes and proteins from the Gene Ontology (GO), \n",
    "and protein interaction data from STRING and the IntAct Molecular Interaction Database.  \n",
    "kg covid-19 also has date from COVID-19 scientific publications of concepts such as Gene Ontology (GO) terms,\n",
    "UniProt Knowledgebase (UniProtKB) proteins, \n",
    "National Center for Biotechnology Information (NCBI) and HUGO Gene Nomenclature Committee (HGNC) genes,\n",
    "and ChEMBL IDs via SciBite annotations\n",
    "\n",
    "Triples: \n",
    "chemical-subject-drug <br />\n",
    "protein-relation-molecule"
   ]
  },
  {
   "cell_type": "markdown",
   "metadata": {},
   "source": [
    "### Question 13: \n",
    "\n",
    "Current graph representation learning (GRL) methods are not able to embed temporal graphs. Find an application in biomedicine where temporal graphs would be useful for representing knowledge."
   ]
  },
  {
   "cell_type": "markdown",
   "metadata": {},
   "source": [
    "### Answer: \n",
    "ventricle and arterial pulse, heartbeat related applications need temporal graphs to represent knowledge, as these vary with time\n"
   ]
  },
  {
   "cell_type": "markdown",
   "metadata": {},
   "source": [
    "### Question 14: \n",
    "\n",
    "In this vignette, did we do link prediction on a homogeneous or heterogenious graph? "
   ]
  },
  {
   "cell_type": "markdown",
   "metadata": {},
   "source": [
    "### Answer: \n",
    "we have to do link prediction on heteriogenious graphs, as it involves multiple features"
   ]
  },
  {
   "cell_type": "markdown",
   "metadata": {},
   "source": [
    "### Question 15: \n",
    "\n",
    "Given its performance, would you trust for predicting novel links that are currently not in the graph? Please explain your answer. "
   ]
  },
  {
   "cell_type": "markdown",
   "metadata": {},
   "source": [
    "### Answer: \n",
    "If its performance or accuracy is high, I would partially trust the links that are not in the graph. These new links can be potential connections or relationship between the nodes. This will be further subjected to clinical or wet lab experiments to confirm that such a relationship exits. This way it can lead to new discoveries in biomedical sector."
   ]
  },
  {
   "cell_type": "markdown",
   "metadata": {},
   "source": [
    "### Question 16: \n",
    "\n",
    " We did not tune any hyperparameters for the embedding. What options would you be interested in trying out?"
   ]
  },
  {
   "cell_type": "markdown",
   "metadata": {},
   "source": [
    "### Answer: \n",
    "walk_length  - walk length \n",
    "num_walks - number of random walks"
   ]
  },
  {
   "cell_type": "markdown",
   "metadata": {},
   "source": [
    "### Question 17: \n",
    "\n",
    "Some researchers have experimented with embedding knowledge graph nodes in hyperbolic geometry. Do some searching about this topic and write a sentence or two on what you find to be the main motivation of researchers for trying this out. Include citations."
   ]
  },
  {
   "cell_type": "markdown",
   "metadata": {},
   "source": [
    "### Answer: \n",
    "In particular for hierarchical graphs, hyperbolic embeddings can retain graph distances and complicated interactions in only a few dimensions."
   ]
  },
  {
   "cell_type": "markdown",
   "metadata": {},
   "source": [
    "### Question 18: \n",
    "\n",
    "Write any comments or questions that you have about the embedding excercise in this notebook."
   ]
  },
  {
   "cell_type": "markdown",
   "metadata": {},
   "source": [
    "### Answer: \n",
    "i recently came across graphSAGE algorithm. What advantage does GNNs and GraphSage have over Node2vec or node embeddings , and basic network analysis using centrality measures."
   ]
  },
  {
   "cell_type": "markdown",
   "metadata": {},
   "source": [
    "**ALL DONE**"
   ]
  }
 ],
 "metadata": {
  "kernelspec": {
   "display_name": "Python 3 (ipykernel)",
   "language": "python",
   "name": "python3"
  },
  "language_info": {
   "codemirror_mode": {
    "name": "ipython",
    "version": 3
   },
   "file_extension": ".py",
   "mimetype": "text/x-python",
   "name": "python",
   "nbconvert_exporter": "python",
   "pygments_lexer": "ipython3",
   "version": "3.8.5"
  }
 },
 "nbformat": 4,
 "nbformat_minor": 4
}
