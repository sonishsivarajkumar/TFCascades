{
 "cells": [
  {
   "cell_type": "code",
   "execution_count": 1,
   "id": "8364560b",
   "metadata": {},
   "outputs": [],
   "source": [
    "import pandas as pd\n"
   ]
  },
  {
   "cell_type": "code",
   "execution_count": 3,
   "id": "31633c7f",
   "metadata": {},
   "outputs": [
    {
     "data": {
      "text/plain": [
       "['FINAL_enriched_final_df_merged.csv', '.ipynb_checkpoints', 'analysis.ipynb']"
      ]
     },
     "execution_count": 3,
     "metadata": {},
     "output_type": "execute_result"
    }
   ],
   "source": [
    "import os\n",
    "os.listdir()"
   ]
  },
  {
   "cell_type": "code",
   "execution_count": 4,
   "id": "50776f0e",
   "metadata": {},
   "outputs": [],
   "source": [
    "df=pd.read_csv('FINAL_enriched_final_df_merged.csv')"
   ]
  },
  {
   "cell_type": "code",
   "execution_count": 6,
   "id": "25fd5184",
   "metadata": {},
   "outputs": [
    {
     "name": "stdout",
     "output_type": "stream",
     "text": [
      "<class 'pandas.core.frame.DataFrame'>\n",
      "RangeIndex: 1048575 entries, 0 to 1048574\n",
      "Data columns (total 13 columns):\n",
      " #   Column                Non-Null Count    Dtype  \n",
      "---  ------                --------------    -----  \n",
      " 0   Unnamed: 0            1048575 non-null  int64  \n",
      " 1   Unnamed: 0.1          1048575 non-null  int64  \n",
      " 2   Rank                  1048575 non-null  int64  \n",
      " 3   Term name             1048575 non-null  object \n",
      " 4   P-value               1048575 non-null  float64\n",
      " 5   Z-score               1048575 non-null  float64\n",
      " 6   Combined score        1048575 non-null  float64\n",
      " 7   Overlapping genes     1048575 non-null  object \n",
      " 8   Adjusted p-value      1048575 non-null  float64\n",
      " 9   Old p-value           1048575 non-null  int64  \n",
      " 10  Old adjusted p-value  1048575 non-null  int64  \n",
      " 11  cascade_value         1048575 non-null  int64  \n",
      " 12  cascade               1048575 non-null  object \n",
      "dtypes: float64(4), int64(6), object(3)\n",
      "memory usage: 104.0+ MB\n"
     ]
    }
   ],
   "source": [
    "df.info()"
   ]
  },
  {
   "cell_type": "code",
   "execution_count": 7,
   "id": "cb353b68",
   "metadata": {},
   "outputs": [
    {
     "data": {
      "text/html": [
       "<div>\n",
       "<style scoped>\n",
       "    .dataframe tbody tr th:only-of-type {\n",
       "        vertical-align: middle;\n",
       "    }\n",
       "\n",
       "    .dataframe tbody tr th {\n",
       "        vertical-align: top;\n",
       "    }\n",
       "\n",
       "    .dataframe thead th {\n",
       "        text-align: right;\n",
       "    }\n",
       "</style>\n",
       "<table border=\"1\" class=\"dataframe\">\n",
       "  <thead>\n",
       "    <tr style=\"text-align: right;\">\n",
       "      <th></th>\n",
       "      <th>Unnamed: 0</th>\n",
       "      <th>Unnamed: 0.1</th>\n",
       "      <th>Rank</th>\n",
       "      <th>Term name</th>\n",
       "      <th>P-value</th>\n",
       "      <th>Z-score</th>\n",
       "      <th>Combined score</th>\n",
       "      <th>Overlapping genes</th>\n",
       "      <th>Adjusted p-value</th>\n",
       "      <th>Old p-value</th>\n",
       "      <th>Old adjusted p-value</th>\n",
       "      <th>cascade_value</th>\n",
       "      <th>cascade</th>\n",
       "    </tr>\n",
       "  </thead>\n",
       "  <tbody>\n",
       "    <tr>\n",
       "      <th>0</th>\n",
       "      <td>0</td>\n",
       "      <td>0</td>\n",
       "      <td>1</td>\n",
       "      <td>acute myeloid leukemia</td>\n",
       "      <td>0.005193</td>\n",
       "      <td>391.117647</td>\n",
       "      <td>2057.429717</td>\n",
       "      <td>['STAT3']</td>\n",
       "      <td>0.009716</td>\n",
       "      <td>0</td>\n",
       "      <td>0</td>\n",
       "      <td>0</td>\n",
       "      <td>['STAT3', 'PRDM1']</td>\n",
       "    </tr>\n",
       "    <tr>\n",
       "      <th>1</th>\n",
       "      <td>1</td>\n",
       "      <td>1</td>\n",
       "      <td>2</td>\n",
       "      <td>adipocytokine signaling pathway</td>\n",
       "      <td>0.007087</td>\n",
       "      <td>284.685714</td>\n",
       "      <td>1409.030276</td>\n",
       "      <td>['STAT3']</td>\n",
       "      <td>0.009716</td>\n",
       "      <td>0</td>\n",
       "      <td>0</td>\n",
       "      <td>0</td>\n",
       "      <td>['STAT3', 'PRDM1']</td>\n",
       "    </tr>\n",
       "    <tr>\n",
       "      <th>2</th>\n",
       "      <td>2</td>\n",
       "      <td>2</td>\n",
       "      <td>3</td>\n",
       "      <td>pancreatic cancer</td>\n",
       "      <td>0.007287</td>\n",
       "      <td>276.750000</td>\n",
       "      <td>1362.078895</td>\n",
       "      <td>['STAT3']</td>\n",
       "      <td>0.009716</td>\n",
       "      <td>0</td>\n",
       "      <td>0</td>\n",
       "      <td>0</td>\n",
       "      <td>['STAT3', 'PRDM1']</td>\n",
       "    </tr>\n",
       "    <tr>\n",
       "      <th>3</th>\n",
       "      <td>3</td>\n",
       "      <td>3</td>\n",
       "      <td>4</td>\n",
       "      <td>jak stat signaling pathway</td>\n",
       "      <td>0.014745</td>\n",
       "      <td>135.040816</td>\n",
       "      <td>569.442637</td>\n",
       "      <td>['STAT3']</td>\n",
       "      <td>0.014745</td>\n",
       "      <td>0</td>\n",
       "      <td>0</td>\n",
       "      <td>0</td>\n",
       "      <td>['STAT3', 'PRDM1']</td>\n",
       "    </tr>\n",
       "    <tr>\n",
       "      <th>4</th>\n",
       "      <td>4</td>\n",
       "      <td>4</td>\n",
       "      <td>1</td>\n",
       "      <td>acute myeloid leukemia</td>\n",
       "      <td>0.005193</td>\n",
       "      <td>391.117647</td>\n",
       "      <td>2057.429717</td>\n",
       "      <td>['STAT3']</td>\n",
       "      <td>0.009716</td>\n",
       "      <td>0</td>\n",
       "      <td>0</td>\n",
       "      <td>1</td>\n",
       "      <td>['STAT3', 'KLF5']</td>\n",
       "    </tr>\n",
       "  </tbody>\n",
       "</table>\n",
       "</div>"
      ],
      "text/plain": [
       "   Unnamed: 0  Unnamed: 0.1  Rank                        Term name   P-value  \\\n",
       "0           0             0     1           acute myeloid leukemia  0.005193   \n",
       "1           1             1     2  adipocytokine signaling pathway  0.007087   \n",
       "2           2             2     3                pancreatic cancer  0.007287   \n",
       "3           3             3     4       jak stat signaling pathway  0.014745   \n",
       "4           4             4     1           acute myeloid leukemia  0.005193   \n",
       "\n",
       "      Z-score  Combined score Overlapping genes  Adjusted p-value  \\\n",
       "0  391.117647     2057.429717         ['STAT3']          0.009716   \n",
       "1  284.685714     1409.030276         ['STAT3']          0.009716   \n",
       "2  276.750000     1362.078895         ['STAT3']          0.009716   \n",
       "3  135.040816      569.442637         ['STAT3']          0.014745   \n",
       "4  391.117647     2057.429717         ['STAT3']          0.009716   \n",
       "\n",
       "   Old p-value  Old adjusted p-value  cascade_value             cascade  \n",
       "0            0                     0              0  ['STAT3', 'PRDM1']  \n",
       "1            0                     0              0  ['STAT3', 'PRDM1']  \n",
       "2            0                     0              0  ['STAT3', 'PRDM1']  \n",
       "3            0                     0              0  ['STAT3', 'PRDM1']  \n",
       "4            0                     0              1   ['STAT3', 'KLF5']  "
      ]
     },
     "execution_count": 7,
     "metadata": {},
     "output_type": "execute_result"
    }
   ],
   "source": [
    "df.head()"
   ]
  },
  {
   "cell_type": "code",
   "execution_count": 9,
   "id": "499d9f37",
   "metadata": {},
   "outputs": [],
   "source": [
    "l_pathways=df[\"Term name\"].value_counts()"
   ]
  },
  {
   "cell_type": "code",
   "execution_count": 10,
   "id": "569d2e0a",
   "metadata": {},
   "outputs": [
    {
     "data": {
      "text/plain": [
       "49"
      ]
     },
     "execution_count": 10,
     "metadata": {},
     "output_type": "execute_result"
    }
   ],
   "source": [
    "l_pathways.__len__()"
   ]
  },
  {
   "cell_type": "code",
   "execution_count": 11,
   "id": "c4644eb4",
   "metadata": {},
   "outputs": [
    {
     "data": {
      "text/plain": [
       "(1048575,)"
      ]
     },
     "execution_count": 11,
     "metadata": {},
     "output_type": "execute_result"
    }
   ],
   "source": [
    "df[\"cascade\"].shape"
   ]
  },
  {
   "cell_type": "code",
   "execution_count": 12,
   "id": "0813ad59",
   "metadata": {},
   "outputs": [],
   "source": [
    "l_cascades=df[\"cascade\"].value_counts()"
   ]
  },
  {
   "cell_type": "code",
   "execution_count": 13,
   "id": "c610ca22",
   "metadata": {},
   "outputs": [
    {
     "data": {
      "text/plain": [
       "10000"
      ]
     },
     "execution_count": 13,
     "metadata": {},
     "output_type": "execute_result"
    }
   ],
   "source": [
    "l_cascades.__len__()"
   ]
  },
  {
   "cell_type": "code",
   "execution_count": null,
   "id": "34f161e7",
   "metadata": {},
   "outputs": [],
   "source": []
  }
 ],
 "metadata": {
  "kernelspec": {
   "display_name": "Python 3 (ipykernel)",
   "language": "python",
   "name": "python3"
  },
  "language_info": {
   "codemirror_mode": {
    "name": "ipython",
    "version": 3
   },
   "file_extension": ".py",
   "mimetype": "text/x-python",
   "name": "python",
   "nbconvert_exporter": "python",
   "pygments_lexer": "ipython3",
   "version": "3.9.7"
  }
 },
 "nbformat": 4,
 "nbformat_minor": 5
}
